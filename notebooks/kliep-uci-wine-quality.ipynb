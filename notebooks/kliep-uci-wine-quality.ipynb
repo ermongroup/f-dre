{
 "cells": [
  {
   "cell_type": "markdown",
   "metadata": {},
   "source": [
    "# Setup"
   ]
  },
  {
   "cell_type": "code",
   "execution_count": 1,
   "metadata": {},
   "outputs": [
    {
     "data": {
      "text/plain": [
       "'/atlas/u/madeline/f-dre/notebooks'"
      ]
     },
     "execution_count": 1,
     "metadata": {},
     "output_type": "execute_result"
    }
   ],
   "source": [
    "pwd # should be <your_root_dir>/f-dre/notebooks"
   ]
  },
  {
   "cell_type": "code",
   "execution_count": 2,
   "metadata": {
    "scrolled": true
   },
   "outputs": [
    {
     "name": "stdout",
     "output_type": "stream",
     "text": [
      "/atlas/u/madeline/f-dre\n"
     ]
    }
   ],
   "source": [
    "cd .."
   ]
  },
  {
   "cell_type": "code",
   "execution_count": 3,
   "metadata": {},
   "outputs": [],
   "source": [
    "import math\n",
    "import sklearn.metrics.pairwise as sk\n",
    "from sklearn.svm import SVC\n",
    "from cvxopt import matrix, solvers\n",
    "import os\n",
    "import sys\n",
    "import time\n",
    "import shutil\n",
    "import logging\n",
    "import argparse\n",
    "import yaml\n",
    "import traceback\n",
    "\n",
    "import numpy as np\n",
    "import torch\n",
    "import torch.nn as nn\n",
    "import torch.nn.functional as F\n",
    "from src.flows.models.maf import MAF"
   ]
  },
  {
   "cell_type": "code",
   "execution_count": 4,
   "metadata": {},
   "outputs": [],
   "source": [
    "import matplotlib\n",
    "import matplotlib.pyplot as plt\n",
    "import seaborn as sns\n",
    "sns.set_style('white')\n",
    "sns.set_context('poster')\n",
    "\n",
    "%matplotlib inline\n",
    "%load_ext autoreload\n",
    "%autoreload 2"
   ]
  },
  {
   "cell_type": "markdown",
   "metadata": {},
   "source": [
    "# 1) Dataset loading (run either (i) or (ii) -- not both)"
   ]
  },
  {
   "cell_type": "markdown",
   "metadata": {},
   "source": [
    "## (i) EITHER: Load existing data from repo"
   ]
  },
  {
   "cell_type": "code",
   "execution_count": 7,
   "metadata": {},
   "outputs": [],
   "source": [
    "train_data = np.load('data/uci_wine_quality/train.npz')\n",
    "X = train_data['x']\n",
    "y = train_data['y']\n",
    "\n",
    "test_data = np.load('data/uci_wine_quality/test.npz')\n",
    "Z = test_data['x']\n",
    "u = test_data['y']"
   ]
  },
  {
   "cell_type": "markdown",
   "metadata": {},
   "source": [
    "## (ii) OR: Generate new dataset\n",
    "Reference: https://papers.nips.cc/paper/2006/file/a2186aa7c086b46ad4e8bf81e2a3a19b-Paper.pdf\n",
    "\n",
    "If \\\\(s\\\\) is indicator variable representing whether or not a data point \\\\(x\\\\) is selected, then \\\\(p(s \\mid x) \\propto\\exp(-\\sigma \\lVert x - \\bar{x}\\rVert^2)\\\\)."
   ]
  },
  {
   "cell_type": "code",
   "execution_count": 6,
   "metadata": {},
   "outputs": [],
   "source": [
    "# import pandas as pd\n",
    "# import random\n",
    "# from sklearn.model_selection import train_test_split\n",
    "\n",
    "# # load data for red and white wines\n",
    "# white_df = pd.read_csv('https://archive.ics.uci.edu/ml/machine-learning-databases/wine-quality/winequality-white.csv', sep=';')\n",
    "# red_df = pd.read_csv('https://archive.ics.uci.edu/ml/machine-learning-databases/wine-quality/winequality-red.csv', sep=';')\n",
    "# df = pd.concat([white_df, red_df])\n",
    "\n",
    "# # create labels\n",
    "# df.loc[df['quality'] <= 5, 'quality'] = 0\n",
    "# df.loc[df['quality'] > 5, 'quality'] = 1\n",
    "\n",
    "# # parameters\n",
    "# test_perc = 0.7 # size of held-out test data\n",
    "# sigma = 1/20\n",
    "\n",
    "# # get number of features + label column\n",
    "# attr_cols = list(df.columns[:len(df.columns) - 1])\n",
    "# num_classes = len(attr_cols)\n",
    "# label_col = 'quality'\n",
    "\n",
    "# train_df, test_df = train_test_split(df, test_size=test_perc)\n",
    "\n",
    "# n_samples = len(df)\n",
    "# x_mean = np.mean(train_df.to_numpy()[:, :num_classes], axis=0)\n",
    "# prob_inclusion = 100 * np.exp(-sigma * np.linalg.norm(train_df.to_numpy()[:, :num_classes] - x_mean, axis=1)**2)\n",
    "# idxs = np.arange(len(train_df))\n",
    "# selected = np.array(np.nonzero(idxs * (np.random.random(size=len(train_df)) <= prob_inclusion))[0])\n",
    "# biased_df = train_df.iloc[idxs[selected]]\n",
    "\n",
    "# # normalize train data\n",
    "# data = biased_df.to_numpy()[:, :num_classes]\n",
    "# X = (data - np.mean(data, axis=0))/np.std(data, axis=0)\n",
    "# y = biased_df.to_numpy()[:, num_classes]\n",
    "\n",
    "# # normalize test data\n",
    "# data = test_df.to_numpy()[:, :num_classes]\n",
    "# Z = (data - np.mean(data, axis=0))/np.std(data, axis=0)\n",
    "# u = test_df.to_numpy()[:, num_classes]"
   ]
  },
  {
   "cell_type": "markdown",
   "metadata": {},
   "source": [
    "# 2) Load config"
   ]
  },
  {
   "cell_type": "code",
   "execution_count": 9,
   "metadata": {},
   "outputs": [],
   "source": [
    "def dict2namespace(config):\n",
    "    namespace = argparse.Namespace()\n",
    "    for key, value in config.items():\n",
    "        if isinstance(value, dict):\n",
    "            new_value = dict2namespace(value)\n",
    "        else:\n",
    "            new_value = value\n",
    "        setattr(namespace, key, new_value)\n",
    "    return namespace"
   ]
  },
  {
   "cell_type": "code",
   "execution_count": 10,
   "metadata": {},
   "outputs": [],
   "source": [
    "config_file = 'src/configs/flows/uci_wine_quality/maf.yaml'\n",
    "with open(config_file) as f:\n",
    "    config = yaml.safe_load(f)\n",
    "config = dict2namespace(config)"
   ]
  },
  {
   "cell_type": "markdown",
   "metadata": {},
   "source": [
    "# 3) Load flow"
   ]
  },
  {
   "cell_type": "code",
   "execution_count": 11,
   "metadata": {},
   "outputs": [],
   "source": [
    "def load_flow(restore_file):\n",
    "    model = MAF(config.model.n_blocks, \n",
    "                config.model.input_size, \n",
    "                config.model.hidden_size, \n",
    "                config.model.n_hidden, \n",
    "                None, \n",
    "                config.model.activation_fn, \n",
    "                config.model.input_order, \n",
    "                batch_norm=True)\n",
    "    state = torch.load(os.path.join(restore_file, \"model_checkpoint.pt\"), map_location='cpu')\n",
    "    model.load_state_dict(state['model_state'])\n",
    "    model = model.to('cpu')\n",
    "    model.eval()\n",
    "    return model"
   ]
  },
  {
   "cell_type": "code",
   "execution_count": 13,
   "metadata": {},
   "outputs": [],
   "source": [
    "device = 'cpu'\n",
    "restore_dir = f'src/flows/results/uci_wine_quality_maf'\n",
    "flow = load_flow(restore_dir)"
   ]
  },
  {
   "cell_type": "markdown",
   "metadata": {},
   "source": [
    "# 4) Define KLIEP function\n",
    "Reference: https://github.com/srome/pykliep"
   ]
  },
  {
   "cell_type": "code",
   "execution_count": 14,
   "metadata": {},
   "outputs": [],
   "source": [
    "import numpy as np\n",
    "import warnings\n",
    "import sklearn.metrics.pairwise as sk\n",
    "\n",
    "class DensityRatioEstimator:\n",
    "    \"\"\"\n",
    "    Class to accomplish direct density estimation implementing the original KLIEP \n",
    "    algorithm from Direct Importance Estimation with Model Selection\n",
    "    and Its Application to Covariate Shift Adaptation by Sugiyama et al. \n",
    "    \n",
    "    The training set is distributed via \n",
    "                                            train ~ p(x)\n",
    "    and the test set is distributed via \n",
    "                                            test ~ q(x).\n",
    "                                            \n",
    "    The KLIEP algorithm and its variants approximate w(x) = q(x) / p(x) directly. The predict function returns the\n",
    "    estimate of w(x). The function w(x) can serve as sample weights for the training set during\n",
    "    training to modify the expectation function that the model's loss function is optimized via,\n",
    "    i.e.\n",
    "    \n",
    "            E_{x ~ w(x)p(x)} loss(x) = E_{x ~ q(x)} loss(x).\n",
    "    \n",
    "    Usage : \n",
    "        The fit method is used to run the KLIEP algorithm using LCV and returns value of J \n",
    "        trained on the entire training/test set with the best sigma found. \n",
    "        Use the predict method on the training set to determine the sample weights from the KLIEP algorithm.\n",
    "    \"\"\"\n",
    "    \n",
    "    def __init__(self, max_iter=2000, num_params=[.1,.2], epsilon=1e-4, cv=3, sigmas=[.01,.1,.5, 1], random_state=None, verbose=0):\n",
    "        \"\"\" \n",
    "        Direct density estimation using an inner LCV loop to estimate the proper model. Can be used with sklearn\n",
    "        cross validation methods with or without storing the inner CV. To use a standard grid search.\n",
    "        \n",
    "        \n",
    "        max_iter : Number of iterations to perform\n",
    "        num_params : List of number of test set vectors used to construct the approximation for inner LCV.\n",
    "                     Must be a float. Original paper used 10%, i.e. =.1\n",
    "        sigmas : List of sigmas to be used in inner LCV loop.\n",
    "        epsilon : Additive factor in the iterative algorithm for numerical stability.\n",
    "        \"\"\"\n",
    "        self.max_iter = max_iter\n",
    "        self.num_params = num_params\n",
    "        self.epsilon = epsilon\n",
    "        self.verbose = verbose\n",
    "        self.sigmas = sigmas\n",
    "        self.cv = cv\n",
    "        self.random_state = 0\n",
    "        \n",
    "    def fit(self, X_train, X_test, alpha_0=None):\n",
    "        \"\"\" Uses cross validation to select sigma as in the original paper (LCV).\n",
    "            In a break from sklearn convention, y=X_test.\n",
    "            The parameter cv corresponds to R in the original paper.\n",
    "            Once found, the best sigma is used to train on the full set.\"\"\"\n",
    "        \n",
    "        # LCV loop, shuffle a copy in place for performance.\n",
    "        cv = self.cv\n",
    "        chunk = int(X_test.shape[0]/float(cv))\n",
    "        if self.random_state is not None:\n",
    "            np.random.seed(self.random_state)\n",
    "        X_test_shuffled = X_test.copy()\n",
    "        np.random.shuffle(X_test_shuffled)\n",
    "        \n",
    "        j_scores = {}\n",
    "        \n",
    "        if type(self.sigmas) != list:\n",
    "            self.sigmas = [self.sigmas]\n",
    "        \n",
    "        if type(self.num_params) != list:\n",
    "            self.num_params = [self.num_params]\n",
    "        \n",
    "        if len(self.sigmas) * len(self.num_params) > 1:\n",
    "            # Inner LCV loop\n",
    "            for num_param in self.num_params:\n",
    "                for sigma in self.sigmas:\n",
    "                    j_scores[(num_param,sigma)] = np.zeros(cv)\n",
    "                    for k in range(1,cv+1):\n",
    "                        if self.verbose > 0:\n",
    "                            print('Training: sigma: %s    R: %s' % (sigma, k))\n",
    "                        X_test_fold = X_test_shuffled[(k-1)*chunk:k*chunk,:] \n",
    "                        j_scores[(num_param,sigma)][k-1] = self._fit(X_train=X_train, \n",
    "                                                         X_test=X_test_fold,\n",
    "                                                         num_parameters = num_param,\n",
    "                                                         sigma=sigma)\n",
    "                    j_scores[(num_param,sigma)] = np.mean(j_scores[(num_param,sigma)])\n",
    "\n",
    "            sorted_scores = sorted([x for x in j_scores.items() if np.isfinite(x[1])], key=lambda x :x[1], reverse=True)\n",
    "            if len(sorted_scores) == 0:\n",
    "                warnings.warn('LCV failed to converge for all values of sigma.')\n",
    "                return self\n",
    "            self._sigma = sorted_scores[0][0][1]\n",
    "            self._num_parameters = sorted_scores[0][0][0]\n",
    "            self._j_scores = sorted_scores\n",
    "        else:\n",
    "            self._sigma = self.sigmas[0]\n",
    "            self._num_parameters = self.num_params[0]\n",
    "            # best sigma\n",
    "        self._j = self._fit(X_train=X_train, X_test=X_test_shuffled, num_parameters=self._num_parameters, sigma=self._sigma)\n",
    "\n",
    "        return self # Compatibility with sklearn\n",
    "        \n",
    "    def _fit(self, X_train, X_test, num_parameters, sigma, alpha_0=None):\n",
    "        \"\"\" Fits the estimator with the given parameters w-hat and returns J\"\"\"\n",
    "        \n",
    "        num_parameters = num_parameters\n",
    "        \n",
    "        if type(num_parameters) == float:\n",
    "            num_parameters = int(X_test.shape[0] * num_parameters)\n",
    "\n",
    "        self._select_param_vectors(X_test=X_test, \n",
    "                                   sigma=sigma,\n",
    "                                   num_parameters=num_parameters)\n",
    "        \n",
    "        X_train = self._reshape_X(X_train)\n",
    "        X_test = self._reshape_X(X_test)\n",
    "        \n",
    "        if alpha_0 is None:\n",
    "            alpha_0 = np.ones(shape=(num_parameters,1))/float(num_parameters)\n",
    "        \n",
    "        self._find_alpha(X_train=X_train,\n",
    "                         X_test=X_test,\n",
    "                         num_parameters=num_parameters,\n",
    "                         epsilon=self.epsilon,\n",
    "                         alpha_0 = alpha_0,\n",
    "                         sigma=sigma)\n",
    "        \n",
    "        return self._calculate_j(X_test,sigma=sigma)\n",
    "    \n",
    "    def _calculate_j(self, X_test, sigma):\n",
    "        return np.log(self.predict(X_test,sigma=sigma)).sum()/X_test.shape[0]\n",
    "    \n",
    "    def score(self, X_test):\n",
    "        \"\"\" Return the J score, similar to sklearn's API \"\"\"\n",
    "        return self._calculate_j(X_test=X_test, sigma=self._sigma)\n",
    "\n",
    "    @staticmethod   \n",
    "    def _reshape_X(X):\n",
    "        \"\"\" Reshape input from mxn to mx1xn to take advantage of numpy broadcasting. \"\"\"\n",
    "        if len(X.shape) != 3:\n",
    "            return X.reshape((X.shape[0],1,X.shape[1]))\n",
    "        return X\n",
    "    \n",
    "    def _select_param_vectors(self, X_test, sigma, num_parameters):\n",
    "        \"\"\" X_test is the test set. b is the number of parameters. \"\"\" \n",
    "        indices = np.random.choice(X_test.shape[0], size=num_parameters, replace=False)\n",
    "        self._test_vectors = X_test[indices,:].copy()\n",
    "        self._phi_fitted = True\n",
    "        \n",
    "    def _phi(self, X, sigma=None):\n",
    "        \n",
    "        if sigma is None:\n",
    "            sigma = self._sigma\n",
    "        \n",
    "        if self._phi_fitted:\n",
    "            return sk.rbf_kernel(X.squeeze(), self._test_vectors, sigma)\n",
    "        raise Exception('Phi not fitted.')\n",
    "\n",
    "    def _find_alpha(self, alpha_0, X_train, X_test, num_parameters, sigma, epsilon):\n",
    "        A = np.zeros(shape=(X_test.shape[0],num_parameters))\n",
    "        b = np.zeros(shape=(num_parameters,1))\n",
    "\n",
    "        A = self._phi(X_test, sigma)\n",
    "        b = self._phi(X_train, sigma).sum(axis=0) / X_train.shape[0] \n",
    "        b = b.reshape((num_parameters, 1))\n",
    "        \n",
    "        out = alpha_0.copy()\n",
    "        for k in range(self.max_iter):\n",
    "            out += epsilon*np.dot(np.transpose(A),1./np.dot(A,out))\n",
    "            out += b*(((1-np.dot(np.transpose(b),out))/np.dot(np.transpose(b),b)))\n",
    "            out = np.maximum(0,out)\n",
    "            out /= (np.dot(np.transpose(b),out))\n",
    "            \n",
    "        self._alpha = out\n",
    "        self._fitted = True\n",
    "        \n",
    "    def predict(self, X, sigma=None):\n",
    "        \"\"\" Equivalent of w(X) from the original paper.\"\"\"\n",
    "        \n",
    "        X = self._reshape_X(X)\n",
    "        if not self._fitted:\n",
    "            raise Exception('Not fitted!')\n",
    "        return np.dot(self._phi(X, sigma=sigma), self._alpha).reshape((X.shape[0],))"
   ]
  },
  {
   "cell_type": "markdown",
   "metadata": {},
   "source": [
    "# 5) Fit classifier"
   ]
  },
  {
   "cell_type": "code",
   "execution_count": 15,
   "metadata": {},
   "outputs": [],
   "source": [
    "# parameters to sweep over\n",
    "svc_sigma = 0.1\n",
    "Cs = [0.1, 1, 10, 100]"
   ]
  },
  {
   "cell_type": "markdown",
   "metadata": {},
   "source": [
    "## Baseline classifier (unweighted)"
   ]
  },
  {
   "cell_type": "code",
   "execution_count": 16,
   "metadata": {},
   "outputs": [
    {
     "name": "stdout",
     "output_type": "stream",
     "text": [
      "Baseline test error for C=0.1:  0.30716798592788036\n",
      "Baseline test error for C=1:  0.26143359718557607\n",
      "Baseline test error for C=10:  0.262532981530343\n",
      "Baseline test error for C=100:  0.2990325417766051\n"
     ]
    }
   ],
   "source": [
    "baseline_errs = {}\n",
    "\n",
    "for C in Cs:\n",
    "    baseline_clf = SVC(C=C, gamma=svc_sigma)\n",
    "    baseline_clf.fit(X, y)\n",
    "    baseline_preds = baseline_clf.predict(Z)\n",
    "    baseline_err = np.mean(baseline_preds != u, axis=0)\n",
    "    baseline_errs[C] = baseline_err\n",
    "for c in Cs:\n",
    "    print(f'Baseline test error for C={c}: ', baseline_errs[c])"
   ]
  },
  {
   "cell_type": "markdown",
   "metadata": {},
   "source": [
    "## X-DRE classifier (weighted)"
   ]
  },
  {
   "cell_type": "code",
   "execution_count": 17,
   "metadata": {},
   "outputs": [
    {
     "name": "stdout",
     "output_type": "stream",
     "text": [
      "Processing C=0.1...\n",
      "Processing C=1...\n",
      "Processing C=10...\n",
      "Processing C=100...\n",
      "x-DRE test error for C=0.1:  0.30628847845206686\n",
      "x-DRE test error for C=1:  0.2598944591029024\n",
      "x-DRE test error for C=10:  0.2631926121372032\n",
      "x-DRE test error for C=100:  0.29815303430079154\n"
     ]
    }
   ],
   "source": [
    "x_errs = {}\n",
    "x_weights_dict = {}\n",
    "for C in Cs:\n",
    "    print(f'Processing C={C}...')\n",
    "    x_dre_clf = SVC(C=C, gamma=svc_sigma)\n",
    "    kliep = DensityRatioEstimator()\n",
    "    kliep.fit(X, Z)\n",
    "    x_weights = kliep.predict(X)\n",
    "    x_dre_clf.fit(X, y, sample_weight=x_weights)\n",
    "    x_preds = x_dre_clf.predict(Z)\n",
    "    x_err = np.mean(x_preds != u, axis=0)\n",
    "    x_errs[C] = x_err\n",
    "    x_weights_dict[C] = x_weights\n",
    "\n",
    "for c in Cs:\n",
    "    print(f'x-DRE test error for C={c}: ', x_errs[c])"
   ]
  },
  {
   "cell_type": "markdown",
   "metadata": {},
   "source": [
    "## Z-DRE classifier (weighted)"
   ]
  },
  {
   "cell_type": "code",
   "execution_count": 18,
   "metadata": {},
   "outputs": [
    {
     "name": "stdout",
     "output_type": "stream",
     "text": [
      "Processing C=0.1...\n",
      "Processing C=1...\n",
      "Processing C=10...\n",
      "Processing C=100...\n",
      "z-DRE test error for C=0.1:  0.30562884784520666\n",
      "z-DRE test error for C=1:  0.25725593667546176\n",
      "z-DRE test error for C=10:  0.26561125769569044\n",
      "z-DRE test error for C=100:  0.2979331574318382\n"
     ]
    }
   ],
   "source": [
    "z_errs = {}\n",
    "z_weights_dict = {}\n",
    "for C in Cs:\n",
    "    print(f'Processing C={C}...')\n",
    "    z_dre_clf = SVC(C=C, gamma=svc_sigma)\n",
    "    kliep = DensityRatioEstimator()\n",
    "    \n",
    "    flow_X = flow.forward(torch.from_numpy(X).cpu().float())[0]\n",
    "    flow_Z = flow.forward(torch.from_numpy(Z).cpu().float())[0]\n",
    "    \n",
    "    kliep.fit(flow_X.detach().cpu().numpy().astype('float64').astype('float64'), flow_Z.detach().cpu().numpy().astype('float64'))\n",
    "    z_weights = kliep.predict(flow_X.detach().cpu().numpy().astype('float64'))\n",
    "\n",
    "    z_dre_clf.fit(X, y, sample_weight=z_weights)\n",
    "    z_preds = z_dre_clf.predict(Z)\n",
    "    z_err = np.mean(z_preds != u, axis=0)\n",
    "    z_errs[C] = z_err\n",
    "    z_weights_dict[C] = z_weights\n",
    "\n",
    "for c in Cs:\n",
    "    print(f'z-DRE test error for C={c}: ', z_errs[c])"
   ]
  },
  {
   "cell_type": "markdown",
   "metadata": {},
   "source": [
    "# 6) Plot results!"
   ]
  },
  {
   "cell_type": "code",
   "execution_count": 19,
   "metadata": {},
   "outputs": [
    {
     "data": {
      "image/png": "[encoded data removed]",
      "text/plain": [
       "<Figure size 720x432 with 1 Axes>"
      ]
     },
     "metadata": {
      "needs_background": "light"
     },
     "output_type": "display_data"
    }
   ],
   "source": [
    "width = 0.2\n",
    "plt.figure(figsize=(10,6))\n",
    "for i, c in enumerate(Cs):\n",
    "    labels = ['baseline', 'x-dre', 'z-dre'] if i == 0 else [None, None, None]\n",
    "    \n",
    "    plt.bar(i, baseline_errs[c],  width, label=labels[0], color=u'#1f77b4')\n",
    "    plt.bar(i + width,  x_errs[c], width, label=labels[1], color=u'#ff7f0e')\n",
    "    plt.bar(i + 2*width,  z_errs[c], width, label=labels[2], color=u'#2ca02c')\n",
    "\n",
    "plt.xticks(np.arange(4), Cs)\n",
    "plt.xlabel('Value of C')\n",
    "plt.ylabel('Test error')\n",
    "plt.ylim(0, 0.85)\n",
    "\n",
    "plt.title('KLIEP Performance: Wine Quality Dataset')\n",
    "plt.legend()\n",
    "plt.show()"
   ]
  }
 ],
 "metadata": {
  "kernelspec": {
   "display_name": "Python 3",
   "language": "python",
   "name": "python3"
  },
  "language_info": {
   "codemirror_mode": {
    "name": "ipython",
    "version": 3
   },
   "file_extension": ".py",
   "mimetype": "text/x-python",
   "name": "python",
   "nbconvert_exporter": "python",
   "pygments_lexer": "ipython3",
   "version": "3.6.10"
  }
 },
 "nbformat": 4,
 "nbformat_minor": 2
}
