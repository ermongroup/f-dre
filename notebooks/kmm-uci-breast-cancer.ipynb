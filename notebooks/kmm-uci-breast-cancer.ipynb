{
 "cells": [
  {
   "cell_type": "markdown",
   "metadata": {},
   "source": [
    "# Setup"
   ]
  },
  {
   "cell_type": "code",
   "execution_count": 1,
   "metadata": {
    "scrolled": true
   },
   "outputs": [
    {
     "data": {
      "text/plain": [
       "'/atlas/u/madeline/f-dre/notebooks'"
      ]
     },
     "execution_count": 1,
     "metadata": {},
     "output_type": "execute_result"
    }
   ],
   "source": [
    "pwd # should be <your_root_dir>/f-dre/notebooks"
   ]
  },
  {
   "cell_type": "code",
   "execution_count": 2,
   "metadata": {},
   "outputs": [
    {
     "name": "stdout",
     "output_type": "stream",
     "text": [
      "/atlas/u/madeline/f-dre\n"
     ]
    }
   ],
   "source": [
    "cd .."
   ]
  },
  {
   "cell_type": "code",
   "execution_count": 3,
   "metadata": {},
   "outputs": [],
   "source": [
    "import math\n",
    "import sklearn.metrics.pairwise as sk\n",
    "from sklearn.svm import SVC\n",
    "from cvxopt import matrix, solvers\n",
    "import os\n",
    "import sys\n",
    "import time\n",
    "import shutil\n",
    "import logging\n",
    "import argparse\n",
    "import yaml\n",
    "import traceback\n",
    "\n",
    "import numpy as np\n",
    "import torch\n",
    "import torch.nn as nn\n",
    "import torch.nn.functional as F\n",
    "from src.flows.models.maf import MAF\n",
    "solvers.options['show_progress'] = False"
   ]
  },
  {
   "cell_type": "code",
   "execution_count": 4,
   "metadata": {},
   "outputs": [],
   "source": [
    "import matplotlib\n",
    "import matplotlib.pyplot as plt\n",
    "import seaborn as sns\n",
    "sns.set_style('white')\n",
    "sns.set_context('poster')\n",
    "\n",
    "%matplotlib inline\n",
    "%load_ext autoreload\n",
    "%autoreload 2"
   ]
  },
  {
   "cell_type": "markdown",
   "metadata": {},
   "source": [
    "# 1) Dataset loading (run either (i) or (ii) -- not both)"
   ]
  },
  {
   "cell_type": "markdown",
   "metadata": {},
   "source": [
    "## (i) EITHER: Load existing data from repo"
   ]
  },
  {
   "cell_type": "code",
   "execution_count": 14,
   "metadata": {},
   "outputs": [],
   "source": [
    "train_data = np.load('data/uci_breast_cancer/train.npz')\n",
    "X = train_data['x']\n",
    "y = train_data['y']\n",
    "\n",
    "test_data = np.load('data/uci_breast_cancer/test.npz')\n",
    "Z = test_data['x']\n",
    "u = test_data['y']"
   ]
  },
  {
   "cell_type": "markdown",
   "metadata": {},
   "source": [
    "## (ii) OR: Generate new dataset\n",
    "Reference: https://papers.nips.cc/paper/2006/file/a2186aa7c086b46ad4e8bf81e2a3a19b-Paper.pdf\n",
    "\n",
    "If \\\\(s\\\\) is indicator variable representing whether or not a data point \\\\(x\\\\) is selected and \\\\(y\\\\) is its corresponding label, then \\\\(P(s = 1|y = 1) = 0.1 \\ \\ \\text{and} \\ \\ P(s = 1|y = −1)\\\\) = 0.9."
   ]
  },
  {
   "cell_type": "code",
   "execution_count": 13,
   "metadata": {},
   "outputs": [],
   "source": [
    "# import pandas as pd\n",
    "# import random\n",
    "# from sklearn.model_selection import train_test_split\n",
    "\n",
    "# df = pd.read_csv('https://archive.ics.uci.edu/ml/machine-learning-databases/breast-cancer-wisconsin/breast-cancer-wisconsin.data')\n",
    "# # remove missing labels\n",
    "# idxs_missing_labels = np.argwhere(np.array(df['1.3'] == '?')).flatten()\n",
    "# df = df.drop(idxs_missing_labels).astype('int64')\n",
    "\n",
    "# train_df, test_df = train_test_split(df, test_size=0.20)\n",
    "\n",
    "# # attr key for malignant/benign\n",
    "# attr = '2.1' \n",
    "\n",
    "# # construct biased source/domain splits; negative/positive labels are 2 and 4 in the original dataset.\n",
    "# n_samples = len(df)\n",
    "# p_group1 = 0.1\n",
    "# p_group2 = 0.9\n",
    "\n",
    "# group1_df = train_df.loc[train_df[attr] == 2]\n",
    "# group2_df = train_df.loc[train_df[attr] == 4]\n",
    "\n",
    "# group1_idxs = np.arange(len(group1_df))\n",
    "# group2_idxs = np.arange(len(group2_df))\n",
    "# group1_selected = np.array(np.nonzero(group1_idxs * (np.random.random(size=len(group1_idxs)) <= p_group1))[0])\n",
    "# group2_selected = np.array(np.nonzero(group2_idxs * (np.random.random(size=len(group2_idxs)) <= p_group2))[0])\n",
    "# group1_df = group1_df.iloc[group1_idxs[group1_selected]]\n",
    "# group2_df = group2_df.iloc[group2_idxs[group2_selected]]\n",
    "\n",
    "# biased_df = pd.concat((group1_df, group2_df))\n",
    "\n",
    "# # standardize train data\n",
    "# data = biased_df.to_numpy()[:, 1:10]\n",
    "# X = (data - np.mean(data, axis=0))/np.std(data, axis=0)\n",
    "# y = biased_df.to_numpy()[:, 10]\n",
    "# # change labels to binary {0,1}\n",
    "# y[y == 2] = 0\n",
    "# y[y == 4] = 1\n",
    "\n",
    "# # standardize test data\n",
    "# data = test_df.to_numpy()[:, 1:10]\n",
    "# Z = (data - np.mean(data, axis=0))/np.std(data, axis=0)\n",
    "# u = test_df.to_numpy()[:, 10]\n",
    "# # change labels to binary {0,1}\n",
    "# u[u == 2] = 0\n",
    "# u[u == 4] = 1"
   ]
  },
  {
   "cell_type": "markdown",
   "metadata": {},
   "source": [
    "# 2) Load config"
   ]
  },
  {
   "cell_type": "code",
   "execution_count": 15,
   "metadata": {},
   "outputs": [],
   "source": [
    "def dict2namespace(config):\n",
    "    namespace = argparse.Namespace()\n",
    "    for key, value in config.items():\n",
    "        if isinstance(value, dict):\n",
    "            new_value = dict2namespace(value)\n",
    "        else:\n",
    "            new_value = value\n",
    "        setattr(namespace, key, new_value)\n",
    "    return namespace"
   ]
  },
  {
   "cell_type": "code",
   "execution_count": 16,
   "metadata": {},
   "outputs": [],
   "source": [
    "config_file = 'src/configs/flows/uci_breast_cancer/maf.yaml'\n",
    "with open(config_file) as f:\n",
    "    config = yaml.safe_load(f)\n",
    "config = dict2namespace(config)"
   ]
  },
  {
   "cell_type": "markdown",
   "metadata": {},
   "source": [
    "# 3) Load flow"
   ]
  },
  {
   "cell_type": "code",
   "execution_count": 17,
   "metadata": {},
   "outputs": [],
   "source": [
    "def load_flow(restore_file):\n",
    "    model = MAF(config.model.n_blocks, \n",
    "                config.model.input_size, \n",
    "                config.model.hidden_size, \n",
    "                config.model.n_hidden, \n",
    "                None, \n",
    "                config.model.activation_fn, \n",
    "                config.model.input_order, \n",
    "                batch_norm=True)\n",
    "    state = torch.load(os.path.join(restore_file, \"model_checkpoint.pt\"), map_location='cpu')\n",
    "    model.load_state_dict(state['model_state'])\n",
    "    model = model.to('cpu')\n",
    "    model.eval()\n",
    "    return model"
   ]
  },
  {
   "cell_type": "code",
   "execution_count": 51,
   "metadata": {},
   "outputs": [],
   "source": [
    "device = 'cpu'\n",
    "restore_dir = f'src/flows/results/uci_breast_cancer_maf'\n",
    "flow = load_flow(restore_dir)"
   ]
  },
  {
   "cell_type": "markdown",
   "metadata": {},
   "source": [
    "# 4) Define KMM function"
   ]
  },
  {
   "cell_type": "code",
   "execution_count": 19,
   "metadata": {},
   "outputs": [],
   "source": [
    "def kmm(Xtrain, Xtest, sigma, B):\n",
    "    n_tr = len(Xtrain)\n",
    "    n_te = len(Xtest)\n",
    "\n",
    "    # calculate kernel\n",
    "    K_ns = sk.rbf_kernel(Xtrain, Xtrain, sigma)\n",
    "    K = np.array(K_ns)\n",
    "    \n",
    "    # calculate kappa\n",
    "    kappa_r = sk.rbf_kernel(Xtrain, Xtest, sigma)\n",
    "    kappa = np.sum(np.array(kappa_r), axis=1)\n",
    "    kappa = -(float(n_tr) / float(n_te)) * kappa\n",
    "\n",
    "    # calculate eps\n",
    "    eps = (math.sqrt(n_tr) - 1) / math.sqrt(n_tr)\n",
    "\n",
    "    # constraints\n",
    "    A0 = np.ones(shape=(1, n_tr))\n",
    "    A1 = -np.ones(shape=(1, n_tr))\n",
    "    A = np.vstack([A0, A1, -np.eye(n_tr), np.eye(n_tr)])\n",
    "    b = np.array([[n_tr * (eps + 1), n_tr * (eps - 1)]])\n",
    "    b = np.vstack([b.T, np.zeros(shape=(n_tr, 1)), np.ones(shape=(n_tr, 1)) * B])\n",
    "\n",
    "    P = matrix(K, tc='d')\n",
    "    q = matrix(kappa, tc='d')\n",
    "    G = matrix(A, tc='d')\n",
    "    h = matrix(b, tc='d')\n",
    "    beta = solvers.qp(P, q, G, h)\n",
    "    return [i for i in beta['x']]"
   ]
  },
  {
   "cell_type": "markdown",
   "metadata": {},
   "source": [
    "# 5) Fit classifiers"
   ]
  },
  {
   "cell_type": "code",
   "execution_count": 31,
   "metadata": {},
   "outputs": [],
   "source": [
    "# parameters to sweep over\n",
    "svc_sigma = 0.1\n",
    "Cs = [0.1, 1, 10, 100]\n",
    "sigmas = [0.01, 0.1, 0.5, 1.0]\n",
    "Bs = [1, 10, 100, 1000]"
   ]
  },
  {
   "cell_type": "markdown",
   "metadata": {},
   "source": [
    "## Baseline classifier (unweighted)"
   ]
  },
  {
   "cell_type": "code",
   "execution_count": 25,
   "metadata": {
    "scrolled": true
   },
   "outputs": [
    {
     "name": "stdout",
     "output_type": "stream",
     "text": [
      "Baseline test error for C=0.1:  0.65234375\n",
      "Baseline test error for C=1:  0.65234375\n",
      "Baseline test error for C=10:  0.65234375\n",
      "Baseline test error for C=100:  0.65234375\n"
     ]
    }
   ],
   "source": [
    "baseline_errs = {}\n",
    "\n",
    "for C in Cs:\n",
    "    baseline_clf = SVC(C=C, gamma=svc_sigma)\n",
    "    baseline_clf.fit(X, y)\n",
    "    baseline_preds = baseline_clf.predict(Z)\n",
    "    baseline_err = np.mean(baseline_preds != u, axis=0)\n",
    "    baseline_errs[C] = baseline_err\n",
    "for c in Cs:\n",
    "    print(f'Baseline test error for C={c}: ', baseline_errs[c])"
   ]
  },
  {
   "cell_type": "markdown",
   "metadata": {},
   "source": [
    "## X-DRE classifier (weighted)"
   ]
  },
  {
   "cell_type": "code",
   "execution_count": 36,
   "metadata": {
    "scrolled": true
   },
   "outputs": [
    {
     "name": "stdout",
     "output_type": "stream",
     "text": [
      "Best x-dre test error for C=0.1:  0.65234375\n",
      "KMM sigma:  0.01\n",
      "B:  1\n",
      "Best x-dre test error for C=1:  0.646484375\n",
      "KMM sigma:  0.01\n",
      "B:  10\n",
      "Best x-dre test error for C=10:  0.65234375\n",
      "KMM sigma:  0.01\n",
      "B:  1\n",
      "Best x-dre test error for C=100:  0.65234375\n",
      "KMM sigma:  0.01\n",
      "B:  1\n"
     ]
    }
   ],
   "source": [
    "best_x_errs = {}\n",
    "best_x_kmm_sigmas = {}\n",
    "best_x_Bs = {}\n",
    "best_x_weights = {}\n",
    "for C in Cs:\n",
    "    best_x_kmm_sigma = 1\n",
    "    best_x_B = 1\n",
    "    best_x_err = float('inf')\n",
    "    for kmm_sigma in sigmas:\n",
    "        for B in Bs:\n",
    "            x_dre_clf = SVC(C=C, gamma=svc_sigma)\n",
    "            x_weights = kmm(X, Z, kmm_sigma, B)\n",
    "            x_dre_clf.fit(X, y, sample_weight=x_weights)\n",
    "            x_preds = x_dre_clf.predict(Z)\n",
    "            x_err = np.mean(x_preds != u, axis=0)\n",
    "            if x_err < best_x_err:\n",
    "                best_x_err = x_err\n",
    "                best_x_kmm_sigma= kmm_sigma\n",
    "                best_x_B = B\n",
    "                best_x_weight = x_weights\n",
    "    best_x_weights[C] = best_x_weight\n",
    "    best_x_errs[C] = best_x_err\n",
    "    best_x_kmm_sigmas[C] = best_x_kmm_sigma\n",
    "    best_x_Bs[C] = best_x_B\n",
    "for c in Cs:\n",
    "    print(f'Best x-dre test error for C={c}: ', best_x_errs[c])\n",
    "    print('KMM sigma: ', best_x_kmm_sigmas[c])\n",
    "    print('B: ', best_x_Bs[c])"
   ]
  },
  {
   "cell_type": "markdown",
   "metadata": {},
   "source": [
    "## Z-DRE classifier (weighted)"
   ]
  },
  {
   "cell_type": "code",
   "execution_count": 39,
   "metadata": {},
   "outputs": [
    {
     "name": "stdout",
     "output_type": "stream",
     "text": [
      "Best z-dre test error for C=0.1:  0.65234375\n",
      "KMM sigma:  0.01\n",
      "B:  1\n",
      "Best z-dre test error for C=1:  0.609375\n",
      "KMM sigma:  0.01\n",
      "B:  100\n",
      "Best z-dre test error for C=10:  0.609375\n",
      "KMM sigma:  0.01\n",
      "B:  10\n",
      "Best z-dre test error for C=100:  0.609375\n",
      "KMM sigma:  0.01\n",
      "B:  10\n"
     ]
    }
   ],
   "source": [
    "best_z_errs = {}\n",
    "best_z_kmm_sigmas = {}\n",
    "best_z_Bs = {}\n",
    "best_z_weights = {}\n",
    "\n",
    "\n",
    "for C in Cs:\n",
    "    best_z_kmm_sigma = 1\n",
    "    best_z_B = 1\n",
    "    best_z_err = float('inf')\n",
    "    for kmm_sigma in sigmas:\n",
    "        for B in Bs:\n",
    "            z_dre_clf = SVC(C=C, gamma=svc_sigma)\n",
    "            flow_X = flow.forward(torch.from_numpy(X).cpu().float())[0].detach().cpu().numpy().astype('float64')\n",
    "            flow_Z = flow.forward(torch.from_numpy(Z).cpu().float())[0].detach().cpu().numpy().astype('float64')\n",
    "            z_weights = kmm(flow_X, flow_Z, kmm_sigma, B)\n",
    "            z_dre_clf.fit(X, y, sample_weight=z_weights)\n",
    "            z_preds = z_dre_clf.predict(Z)\n",
    "            z_err = np.mean(z_preds != u, axis=0)\n",
    "\n",
    "            if z_err < best_z_err:\n",
    "                best_z_err = z_err\n",
    "                best_z_kmm_sigma= kmm_sigma\n",
    "                best_z_B = B\n",
    "                best_z_weight = z_weights\n",
    "    best_z_weights[C] = best_z_weight\n",
    "    best_z_errs[C] = best_z_err\n",
    "    best_z_kmm_sigmas[C] = best_z_kmm_sigma\n",
    "    best_z_Bs[C] = best_z_B\n",
    "for c in Cs:\n",
    "    print(f'Best z-dre test error for C={c}: ', best_z_errs[c])\n",
    "    print('KMM sigma: ', best_z_kmm_sigmas[c])\n",
    "    print('B: ', best_z_Bs[c])"
   ]
  },
  {
   "cell_type": "markdown",
   "metadata": {},
   "source": [
    "# 6) Plot results!"
   ]
  },
  {
   "cell_type": "code",
   "execution_count": 44,
   "metadata": {
    "scrolled": false
   },
   "outputs": [
    {
     "data": {
      "image/png": "[encoded data removed]",
      "text/plain": [
       "<Figure size 720x432 with 1 Axes>"
      ]
     },
     "metadata": {
      "needs_background": "light"
     },
     "output_type": "display_data"
    }
   ],
   "source": [
    "width = 0.2\n",
    "plt.figure(figsize=(10,6))\n",
    "\n",
    "for i, c in enumerate(Cs):\n",
    "    labels = ['baseline', 'x-dre', 'z-dre'] if i == 0 else [None, None, None]\n",
    "    plt.bar(i, baseline_errs[c],  width, label=labels[0], color=u'#1f77b4')\n",
    "    plt.bar(i + width,  best_x_errs[c], width, label=labels[1], color=u'#ff7f0e')\n",
    "    plt.bar(i + 2*width,  best_z_errs[c], width, label=labels[2], color=u'#2ca02c')\n",
    "\n",
    "plt.xticks(np.arange(4), Cs)\n",
    "plt.xlabel('Value of C')\n",
    "plt.ylabel('Test error')\n",
    "plt.ylim(0, 0.85)\n",
    "\n",
    "plt.title('KMM Performance: UCI Breast Cancer Dataset')\n",
    "plt.legend()\n",
    "plt.show()"
   ]
  }
 ],
 "metadata": {
  "kernelspec": {
   "display_name": "Python 3",
   "language": "python",
   "name": "python3"
  },
  "language_info": {
   "codemirror_mode": {
    "name": "ipython",
    "version": 3
   },
   "file_extension": ".py",
   "mimetype": "text/x-python",
   "name": "python",
   "nbconvert_exporter": "python",
   "pygments_lexer": "ipython3",
   "version": "3.6.10"
  }
 },
 "nbformat": 4,
 "nbformat_minor": 2
}
