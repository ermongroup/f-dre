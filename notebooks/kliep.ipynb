{
 "cells": [
  {
   "cell_type": "code",
   "execution_count": 1,
   "metadata": {},
   "outputs": [],
   "source": [
    "import os\n",
    "import sys\n",
    "import time\n",
    "import shutil\n",
    "import logging\n",
    "import argparse\n",
    "import yaml\n",
    "import traceback\n",
    "\n",
    "import numpy as np\n",
    "import torch.nn as nn\n",
    "import torch.nn.functional as F"
   ]
  },
  {
   "cell_type": "code",
   "execution_count": 2,
   "metadata": {},
   "outputs": [],
   "source": [
    "import matplotlib\n",
    "import matplotlib.pyplot as plt\n",
    "import seaborn as sns\n",
    "sns.set_style('white')\n",
    "sns.set_context('poster')\n",
    "\n",
    "%matplotlib inline\n",
    "%load_ext autoreload\n",
    "%autoreload 2"
   ]
  },
  {
   "cell_type": "code",
   "execution_count": 3,
   "metadata": {},
   "outputs": [
    {
     "data": {
      "text/plain": [
       "'/atlas/u/kechoi/multi-fairgen/notebooks'"
      ]
     },
     "execution_count": 3,
     "metadata": {},
     "output_type": "execute_result"
    }
   ],
   "source": [
    "pwd"
   ]
  },
  {
   "cell_type": "code",
   "execution_count": 4,
   "metadata": {},
   "outputs": [
    {
     "name": "stdout",
     "output_type": "stream",
     "text": [
      "/atlas/u/kechoi/pykliep\n"
     ]
    }
   ],
   "source": [
    "cd ../../pykliep/"
   ]
  },
  {
   "cell_type": "markdown",
   "metadata": {},
   "source": [
    "# Dataset"
   ]
  },
  {
   "cell_type": "code",
   "execution_count": 5,
   "metadata": {},
   "outputs": [],
   "source": [
    "import torch\n",
    "from sklearn.linear_model import LogisticRegression\n",
    "from pykliep import DensityRatioEstimator"
   ]
  },
  {
   "cell_type": "code",
   "execution_count": 6,
   "metadata": {},
   "outputs": [],
   "source": [
    "rec = np.load('/atlas/u/kechoi/multi-fairgen/data/kmm/source.npz')\n",
    "X = rec['x']\n",
    "y = rec['y']\n",
    "\n",
    "rec = np.load('/atlas/u/kechoi/multi-fairgen/data/kmm/target.npz')\n",
    "Z = rec['x']\n",
    "u = rec['y']\n",
    "\n",
    "rec = np.load('/atlas/u/kechoi/multi-fairgen/data/kmm/target_test.npz')\n",
    "Z_test = rec['x']\n",
    "u_test = rec['y']"
   ]
  },
  {
   "cell_type": "code",
   "execution_count": 7,
   "metadata": {},
   "outputs": [
    {
     "name": "stderr",
     "output_type": "stream",
     "text": [
      "/atlas/u/kechoi/pykliep/pykliep.py:168: RuntimeWarning: divide by zero encountered in true_divide\n",
      "  out += epsilon*np.dot(np.transpose(A),1./np.dot(A,out))\n",
      "/atlas/u/kechoi/pykliep/pykliep.py:168: RuntimeWarning: overflow encountered in true_divide\n",
      "  out += epsilon*np.dot(np.transpose(A),1./np.dot(A,out))\n"
     ]
    }
   ],
   "source": [
    "kliep = DensityRatioEstimator()\n",
    "kliep.fit(X, Z) # keyword arguments are X_train and X_test\n",
    "weights = kliep.predict(X)"
   ]
  },
  {
   "cell_type": "code",
   "execution_count": 8,
   "metadata": {},
   "outputs": [
    {
     "data": {
      "text/plain": [
       "(1000,)"
      ]
     },
     "execution_count": 8,
     "metadata": {},
     "output_type": "execute_result"
    }
   ],
   "source": [
    "weights.shape"
   ]
  },
  {
   "cell_type": "code",
   "execution_count": 9,
   "metadata": {},
   "outputs": [
    {
     "name": "stdout",
     "output_type": "stream",
     "text": [
      "Error naive: 0.297\n",
      "Error adapt: 0.233\n"
     ]
    }
   ],
   "source": [
    "# Train via KLIEP\n",
    "clf = LogisticRegression()\n",
    "clf.fit(X, y, sample_weight=weights)\n",
    "pred_adapt = clf.predict(Z)\n",
    "\n",
    "# Train a naive logistic regressor\n",
    "lr = LogisticRegression().fit(X, y)\n",
    "\n",
    "# Make predictions\n",
    "pred_naive = lr.predict(Z)\n",
    "\n",
    "\n",
    "# Compute error rates\n",
    "print('Error naive: ' + str(np.mean(pred_naive != u, axis=0)))\n",
    "print('Error adapt: ' + str(np.mean(pred_adapt != u, axis=0)))"
   ]
  },
  {
   "cell_type": "code",
   "execution_count": 10,
   "metadata": {},
   "outputs": [
    {
     "name": "stdout",
     "output_type": "stream",
     "text": [
      "Error naive: 0.286\n",
      "Error adapt: 0.208\n"
     ]
    }
   ],
   "source": [
    "pred_adapt_test = clf.predict(Z_test)\n",
    "pred_naive_test = lr.predict(Z_test)\n",
    "\n",
    "# Compute error rates\n",
    "print('Error naive: ' + str(np.mean(pred_naive_test != u_test, axis=0)))\n",
    "print('Error adapt: ' + str(np.mean(pred_adapt_test != u_test, axis=0)))"
   ]
  },
  {
   "cell_type": "markdown",
   "metadata": {},
   "source": [
    "What about the flow?"
   ]
  },
  {
   "cell_type": "code",
   "execution_count": 11,
   "metadata": {},
   "outputs": [
    {
     "name": "stdout",
     "output_type": "stream",
     "text": [
      "/atlas/u/kechoi/multi-fairgen/src\n"
     ]
    }
   ],
   "source": [
    "cd ../multi-fairgen/src/"
   ]
  },
  {
   "cell_type": "code",
   "execution_count": 12,
   "metadata": {},
   "outputs": [
    {
     "name": "stdout",
     "output_type": "stream",
     "text": [
      "85\n"
     ]
    }
   ],
   "source": [
    "device = 'cuda'\n",
    "restore_file = 'flows/results/kmm_flow/'\n",
    "state = torch.load(os.path.join(restore_file, \"best_model_checkpoint.pt\"), map_location='cuda')\n",
    "print(state['epoch'])"
   ]
  },
  {
   "cell_type": "code",
   "execution_count": 13,
   "metadata": {
    "scrolled": true
   },
   "outputs": [
    {
     "data": {
      "text/plain": [
       "MAF(\n",
       "  (net): FlowSequential(\n",
       "    (0): MADE(\n",
       "      (net_input): MaskedLinear(in_features=2, out_features=100, bias=True)\n",
       "      (net): Sequential(\n",
       "        (0): ReLU()\n",
       "        (1): MaskedLinear(in_features=100, out_features=100, bias=True)\n",
       "        (2): ReLU()\n",
       "        (3): MaskedLinear(in_features=100, out_features=4, bias=True)\n",
       "      )\n",
       "    )\n",
       "    (1): BatchNorm()\n",
       "    (2): MADE(\n",
       "      (net_input): MaskedLinear(in_features=2, out_features=100, bias=True)\n",
       "      (net): Sequential(\n",
       "        (0): ReLU()\n",
       "        (1): MaskedLinear(in_features=100, out_features=100, bias=True)\n",
       "        (2): ReLU()\n",
       "        (3): MaskedLinear(in_features=100, out_features=4, bias=True)\n",
       "      )\n",
       "    )\n",
       "    (3): BatchNorm()\n",
       "    (4): MADE(\n",
       "      (net_input): MaskedLinear(in_features=2, out_features=100, bias=True)\n",
       "      (net): Sequential(\n",
       "        (0): ReLU()\n",
       "        (1): MaskedLinear(in_features=100, out_features=100, bias=True)\n",
       "        (2): ReLU()\n",
       "        (3): MaskedLinear(in_features=100, out_features=4, bias=True)\n",
       "      )\n",
       "    )\n",
       "    (5): BatchNorm()\n",
       "    (6): MADE(\n",
       "      (net_input): MaskedLinear(in_features=2, out_features=100, bias=True)\n",
       "      (net): Sequential(\n",
       "        (0): ReLU()\n",
       "        (1): MaskedLinear(in_features=100, out_features=100, bias=True)\n",
       "        (2): ReLU()\n",
       "        (3): MaskedLinear(in_features=100, out_features=4, bias=True)\n",
       "      )\n",
       "    )\n",
       "    (7): BatchNorm()\n",
       "    (8): MADE(\n",
       "      (net_input): MaskedLinear(in_features=2, out_features=100, bias=True)\n",
       "      (net): Sequential(\n",
       "        (0): ReLU()\n",
       "        (1): MaskedLinear(in_features=100, out_features=100, bias=True)\n",
       "        (2): ReLU()\n",
       "        (3): MaskedLinear(in_features=100, out_features=4, bias=True)\n",
       "      )\n",
       "    )\n",
       "    (9): BatchNorm()\n",
       "  )\n",
       ")"
      ]
     },
     "execution_count": 13,
     "metadata": {},
     "output_type": "execute_result"
    }
   ],
   "source": [
    "from flows.models.maf import MAF\n",
    "\n",
    "def load_flow():\n",
    "    model = MAF(5, \n",
    "                2, \n",
    "                100, \n",
    "                1, \n",
    "                None, \n",
    "                'relu', \n",
    "                'sequential', \n",
    "                batch_norm=True)\n",
    "    restore_file = 'flows/results/kmm_flow/'\n",
    "    state = torch.load(os.path.join(restore_file, \"model_checkpoint.pt\"), map_location='cuda')\n",
    "    model.load_state_dict(state['model_state'])\n",
    "    model = model.to(device)\n",
    "    return model\n",
    "\n",
    "flow = load_flow()\n",
    "flow.eval()"
   ]
  },
  {
   "cell_type": "code",
   "execution_count": 14,
   "metadata": {},
   "outputs": [
    {
     "data": {
      "text/plain": [
       "Text(0.5, 1.0, 'Source + Target')"
      ]
     },
     "execution_count": 14,
     "metadata": {},
     "output_type": "execute_result"
    },
    {
     "data": {
      "image/png": "[encoded data removed]",
      "text/plain": [
       "<Figure size 432x288 with 1 Axes>"
      ]
     },
     "metadata": {},
     "output_type": "display_data"
    }
   ],
   "source": [
    "# encode data points\n",
    "flow_train_x, _ = flow.forward(torch.from_numpy(X).cuda().float())\n",
    "flow_test_x, _ = flow.forward(torch.from_numpy(Z).cuda().float())\n",
    "\n",
    "plt.scatter(flow_train_x[:,0].data.cpu().numpy(), flow_train_x[:,1].data.cpu().numpy(), s=10)\n",
    "plt.scatter(flow_test_x[:,0].data.cpu().numpy(), flow_test_x[:,1].data.cpu().numpy(), s=10)\n",
    "\n",
    "plt.title('Source + Target')"
   ]
  },
  {
   "cell_type": "markdown",
   "metadata": {},
   "source": [
    "### train KLIEP on z"
   ]
  },
  {
   "cell_type": "code",
   "execution_count": 15,
   "metadata": {},
   "outputs": [],
   "source": [
    "flow_x = flow_train_x.data.cpu().numpy()\n",
    "flow_z = flow_test_x.data.cpu().numpy()"
   ]
  },
  {
   "cell_type": "code",
   "execution_count": 16,
   "metadata": {},
   "outputs": [
    {
     "name": "stderr",
     "output_type": "stream",
     "text": [
      "/atlas/u/kechoi/pykliep/pykliep.py:168: RuntimeWarning: divide by zero encountered in true_divide\n",
      "  out += epsilon*np.dot(np.transpose(A),1./np.dot(A,out))\n"
     ]
    }
   ],
   "source": [
    "kliep = DensityRatioEstimator()\n",
    "kliep.fit(flow_x, flow_z) # keyword arguments are X_train and X_test\n",
    "z_weights = kliep.predict(flow_x)"
   ]
  },
  {
   "cell_type": "code",
   "execution_count": 17,
   "metadata": {},
   "outputs": [
    {
     "name": "stdout",
     "output_type": "stream",
     "text": [
      "Error adapt: 0.223\n"
     ]
    }
   ],
   "source": [
    "# Train via KLIEP\n",
    "clf = LogisticRegression()\n",
    "# clf.fit(flow_x, y, sample_weight=z_weights)\n",
    "# pred_adapt = clf.predict(flow_z)\n",
    "clf.fit(X, y, sample_weight=z_weights)\n",
    "pred_adapt = clf.predict(Z)\n",
    "\n",
    "# Compute error rates\n",
    "print('Error adapt: ' + str(np.mean(pred_adapt != u, axis=0)))"
   ]
  },
  {
   "cell_type": "code",
   "execution_count": 18,
   "metadata": {},
   "outputs": [
    {
     "name": "stdout",
     "output_type": "stream",
     "text": [
      "Error adapt in z-space: 0.201\n"
     ]
    }
   ],
   "source": [
    "# target test\n",
    "flow_test_real, _ = flow(torch.from_numpy(Z_test).float().cuda())\n",
    "# pred_adapt_test = clf.predict(flow_test_real.data.cpu().numpy())\n",
    "pred_adapt_test = clf.predict(Z_test)\n",
    "print('Error adapt in z-space: ' + str(np.mean(pred_adapt_test != u_test, axis=0)))"
   ]
  },
  {
   "cell_type": "markdown",
   "metadata": {},
   "source": [
    "Target\n",
    "- Error naive: 0.297\n",
    "- Error adapt: 0.233\n",
    "- Error adapt (z-space): 0.223\n",
    "\n",
    "Target (test)\n",
    "- Error naive: 0.286\n",
    "- Error adapt: 0.208\n",
    "- Error adapt (z-space): 0.201"
   ]
  },
  {
   "cell_type": "code",
   "execution_count": 19,
   "metadata": {},
   "outputs": [
    {
     "data": {
      "text/plain": [
       "<matplotlib.legend.Legend at 0x7f6b7520bfd0>"
      ]
     },
     "execution_count": 19,
     "metadata": {},
     "output_type": "execute_result"
    },
    {
     "data": {
      "image/png": "[encoded data removed]",
      "text/plain": [
       "<Figure size 432x288 with 1 Axes>"
      ]
     },
     "metadata": {},
     "output_type": "display_data"
    }
   ],
   "source": [
    "_ = plt.hist(weights, bins=50, label='x-space')\n",
    "_ = plt.hist(z_weights, bins=50, label='z-space')\n",
    "plt.yscale('log')\n",
    "\n",
    "plt.title('KLIEP Weights')\n",
    "plt.legend()"
   ]
  },
  {
   "cell_type": "markdown",
   "metadata": {},
   "source": [
    "---------"
   ]
  },
  {
   "cell_type": "markdown",
   "metadata": {},
   "source": [
    "### What if I do the entire thing in z-space?"
   ]
  },
  {
   "cell_type": "code",
   "execution_count": 20,
   "metadata": {},
   "outputs": [
    {
     "name": "stdout",
     "output_type": "stream",
     "text": [
      "Error adapt: 0.344\n"
     ]
    }
   ],
   "source": [
    "# Train via KLIEP\n",
    "clf = LogisticRegression()\n",
    "clf.fit(flow_x, y, sample_weight=z_weights)\n",
    "pred_adapt = clf.predict(flow_z)\n",
    "\n",
    "# Compute error rates\n",
    "print('Error adapt: ' + str(np.mean(pred_adapt != u, axis=0)))"
   ]
  },
  {
   "cell_type": "code",
   "execution_count": 21,
   "metadata": {},
   "outputs": [
    {
     "name": "stdout",
     "output_type": "stream",
     "text": [
      "Error adapt in z-space: 0.336\n"
     ]
    }
   ],
   "source": [
    "# target test\n",
    "flow_test_real, _ = flow(torch.from_numpy(Z_test).float().cuda())\n",
    "pred_adapt_test = clf.predict(flow_test_real.data.cpu().numpy())\n",
    "print('Error adapt in z-space: ' + str(np.mean(pred_adapt_test != u_test, axis=0)))"
   ]
  },
  {
   "cell_type": "markdown",
   "metadata": {},
   "source": [
    "----"
   ]
  },
  {
   "cell_type": "markdown",
   "metadata": {},
   "source": [
    "### naive LR in z-space"
   ]
  },
  {
   "cell_type": "code",
   "execution_count": 27,
   "metadata": {},
   "outputs": [
    {
     "name": "stdout",
     "output_type": "stream",
     "text": [
      "Error naive in z-space: 0.635\n"
     ]
    }
   ],
   "source": [
    "lr = LogisticRegression()\n",
    "lr.fit(flow_x, y)\n",
    "pred_naive = lr.predict(flow_z)\n",
    "\n",
    "# Compute error rates\n",
    "print('Error naive in z-space: ' + str(np.mean(pred_naive != u, axis=0)))"
   ]
  },
  {
   "cell_type": "code",
   "execution_count": 28,
   "metadata": {},
   "outputs": [
    {
     "name": "stdout",
     "output_type": "stream",
     "text": [
      "Error naive (test) in z-space: 0.629\n"
     ]
    }
   ],
   "source": [
    "# target test\n",
    "flow_test_real, _ = flow(torch.from_numpy(Z_test).float().cuda())\n",
    "pred_naive_test = lr.predict(flow_test_real.data.cpu().numpy())\n",
    "print('Error naive (test) in z-space: ' + str(np.mean(pred_naive_test != u_test, axis=0)))"
   ]
  },
  {
   "cell_type": "markdown",
   "metadata": {},
   "source": [
    "---"
   ]
  },
  {
   "cell_type": "markdown",
   "metadata": {},
   "source": [
    "# Weights"
   ]
  },
  {
   "cell_type": "code",
   "execution_count": 36,
   "metadata": {},
   "outputs": [
    {
     "data": {
      "text/plain": [
       "<matplotlib.legend.Legend at 0x7f39341b8b70>"
      ]
     },
     "execution_count": 36,
     "metadata": {},
     "output_type": "execute_result"
    },
    {
     "data": {
      "image/png": "[encoded data removed]",
      "text/plain": [
       "<Figure size 432x288 with 1 Axes>"
      ]
     },
     "metadata": {},
     "output_type": "display_data"
    }
   ],
   "source": [
    "_ = plt.hist(weights, bins=50, label='x-space')\n",
    "_ = plt.hist(z_weights, bins=50, label='z-space')\n",
    "plt.yscale('log')\n",
    "\n",
    "plt.title('KLIEP Weights')\n",
    "plt.legend()"
   ]
  },
  {
   "cell_type": "code",
   "execution_count": null,
   "metadata": {},
   "outputs": [],
   "source": []
  }
 ],
 "metadata": {
  "kernelspec": {
   "display_name": "Python 3",
   "language": "python",
   "name": "python3"
  },
  "language_info": {
   "codemirror_mode": {
    "name": "ipython",
    "version": 3
   },
   "file_extension": ".py",
   "mimetype": "text/x-python",
   "name": "python",
   "nbconvert_exporter": "python",
   "pygments_lexer": "ipython3",
   "version": "3.6.4"
  }
 },
 "nbformat": 4,
 "nbformat_minor": 2
}
