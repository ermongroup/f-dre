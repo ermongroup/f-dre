{
 "cells": [
  {
   "cell_type": "code",
   "execution_count": 1,
   "metadata": {},
   "outputs": [],
   "source": [
    "import os\n",
    "import sys\n",
    "import time\n",
    "import shutil\n",
    "import logging\n",
    "import argparse\n",
    "import yaml\n",
    "import traceback\n",
    "\n",
    "import numpy as np\n",
    "import torch.nn as nn\n",
    "import torch.nn.functional as F"
   ]
  },
  {
   "cell_type": "code",
   "execution_count": 2,
   "metadata": {},
   "outputs": [],
   "source": [
    "import matplotlib\n",
    "import matplotlib.pyplot as plt\n",
    "import seaborn as sns\n",
    "sns.set_style('white')\n",
    "sns.set_context('poster')\n",
    "\n",
    "%matplotlib inline\n",
    "%load_ext autoreload\n",
    "%autoreload 2"
   ]
  },
  {
   "cell_type": "code",
   "execution_count": 3,
   "metadata": {},
   "outputs": [
    {
     "data": {
      "text/plain": [
       "'/atlas/u/kechoi/multi-fairgen/notebooks'"
      ]
     },
     "execution_count": 3,
     "metadata": {},
     "output_type": "execute_result"
    }
   ],
   "source": [
    "pwd"
   ]
  },
  {
   "cell_type": "code",
   "execution_count": 4,
   "metadata": {},
   "outputs": [
    {
     "name": "stdout",
     "output_type": "stream",
     "text": [
      "/atlas/u/kechoi/libTLDA\n"
     ]
    }
   ],
   "source": [
    "cd ../../libTLDA/"
   ]
  },
  {
   "cell_type": "markdown",
   "metadata": {},
   "source": [
    "# Dataset"
   ]
  },
  {
   "cell_type": "code",
   "execution_count": 5,
   "metadata": {},
   "outputs": [],
   "source": [
    "import torch\n",
    "from sklearn.linear_model import LogisticRegression"
   ]
  },
  {
   "cell_type": "code",
   "execution_count": 6,
   "metadata": {},
   "outputs": [],
   "source": [
    "rec = np.load('/atlas/u/kechoi/multi-fairgen/data/kmm/source.npz')\n",
    "X = rec['x']\n",
    "y = rec['y']\n",
    "\n",
    "rec = np.load('/atlas/u/kechoi/multi-fairgen/data/kmm/target.npz')\n",
    "Z = rec['x']\n",
    "u = rec['y']\n",
    "\n",
    "rec = np.load('/atlas/u/kechoi/multi-fairgen/data/kmm/target_test.npz')\n",
    "Z_test = rec['x']\n",
    "u_test = rec['y']"
   ]
  },
  {
   "cell_type": "code",
   "execution_count": 7,
   "metadata": {},
   "outputs": [],
   "source": [
    "from libtlda.iw import ImportanceWeightedClassifier"
   ]
  },
  {
   "cell_type": "code",
   "execution_count": 8,
   "metadata": {},
   "outputs": [
    {
     "name": "stdout",
     "output_type": "stream",
     "text": [
      "     pcost       dcost       gap    pres   dres\n",
      " 0:  3.4245e+04 -3.7060e+04  6e+06  1e+00  2e+00\n",
      " 1:  6.9268e+04 -1.5210e+04  8e+05  1e-01  3e-01\n",
      " 2:  7.9596e+04  1.6301e+04  1e+05  2e-02  4e-02\n",
      " 3:  7.5137e+04  4.2916e+04  4e+04  4e-03  8e-03\n",
      " 4:  6.9921e+04  5.8345e+04  1e+04  1e-04  3e-04\n",
      " 5:  6.8026e+04  6.4756e+04  3e+03  5e-16  5e-13\n",
      " 6:  6.7655e+04  6.6752e+04  9e+02  6e-17  5e-13\n",
      " 7:  6.7556e+04  6.7375e+04  2e+02  6e-16  1e-12\n",
      " 8:  6.7529e+04  6.7492e+04  4e+01  5e-16  4e-12\n",
      " 9:  6.7524e+04  6.7516e+04  8e+00  9e-17  9e-12\n",
      "10:  6.7522e+04  6.7521e+04  9e-01  4e-16  6e-11\n",
      "11:  6.7522e+04  6.7522e+04  1e-01  5e-16  2e-10\n",
      "12:  6.7522e+04  6.7522e+04  1e-02  6e-16  6e-10\n",
      "Optimal solution found.\n"
     ]
    }
   ],
   "source": [
    "kmm = ImportanceWeightedClassifier(weight_estimator='kmm', bandwidth=0.7)\n",
    "weights = kmm.iwe_kernel_mean_matching(X, Z)"
   ]
  },
  {
   "cell_type": "code",
   "execution_count": 9,
   "metadata": {},
   "outputs": [
    {
     "data": {
      "text/plain": [
       "<matplotlib.legend.Legend at 0x7fc18b6c7828>"
      ]
     },
     "execution_count": 9,
     "metadata": {},
     "output_type": "execute_result"
    },
    {
     "data": {
      "image/png": "[encoded data removed]",
      "text/plain": [
       "<Figure size 432x288 with 1 Axes>"
      ]
     },
     "metadata": {},
     "output_type": "display_data"
    }
   ],
   "source": [
    "_ = plt.hist(weights, bins=50, label='x-space')\n",
    "# _ = plt.hist(z_weights, bins=50, label='z-space')\n",
    "plt.yscale('log')\n",
    "\n",
    "plt.title('KMM Weights')\n",
    "plt.legend()"
   ]
  },
  {
   "cell_type": "code",
   "execution_count": 10,
   "metadata": {},
   "outputs": [
    {
     "name": "stdout",
     "output_type": "stream",
     "text": [
      "Error naive: 0.297\n",
      "Error adapt: 0.259\n"
     ]
    }
   ],
   "source": [
    "# Train via KLIEP\n",
    "clf = LogisticRegression()\n",
    "clf.fit(X, y, sample_weight=weights)\n",
    "pred_adapt = clf.predict(Z)\n",
    "\n",
    "# Train a naive logistic regressor\n",
    "lr = LogisticRegression().fit(X, y)\n",
    "\n",
    "# Make predictions\n",
    "pred_naive = lr.predict(Z)\n",
    "\n",
    "\n",
    "# Compute error rates\n",
    "print('Error naive: ' + str(np.mean(pred_naive != u, axis=0)))\n",
    "print('Error adapt: ' + str(np.mean(pred_adapt != u, axis=0)))"
   ]
  },
  {
   "cell_type": "code",
   "execution_count": 11,
   "metadata": {},
   "outputs": [
    {
     "name": "stdout",
     "output_type": "stream",
     "text": [
      "Error naive: 0.286\n",
      "Error adapt: 0.247\n"
     ]
    }
   ],
   "source": [
    "pred_adapt_test = clf.predict(Z_test)\n",
    "pred_naive_test = lr.predict(Z_test)\n",
    "\n",
    "# Compute error rates\n",
    "print('Error naive: ' + str(np.mean(pred_naive_test != u_test, axis=0)))\n",
    "print('Error adapt: ' + str(np.mean(pred_adapt_test != u_test, axis=0)))"
   ]
  },
  {
   "cell_type": "markdown",
   "metadata": {},
   "source": [
    "What about the flow?"
   ]
  },
  {
   "cell_type": "code",
   "execution_count": 8,
   "metadata": {},
   "outputs": [
    {
     "name": "stdout",
     "output_type": "stream",
     "text": [
      "/atlas/u/kechoi/multi-fairgen/src\n"
     ]
    }
   ],
   "source": [
    "cd ../multi-fairgen/src/"
   ]
  },
  {
   "cell_type": "code",
   "execution_count": 9,
   "metadata": {},
   "outputs": [
    {
     "name": "stdout",
     "output_type": "stream",
     "text": [
      "85\n"
     ]
    }
   ],
   "source": [
    "device = 'cuda'\n",
    "restore_file = 'flows/results/kmm_flow/'\n",
    "state = torch.load(os.path.join(restore_file, \"best_model_checkpoint.pt\"), map_location='cuda')\n",
    "print(state['epoch'])"
   ]
  },
  {
   "cell_type": "code",
   "execution_count": 10,
   "metadata": {
    "scrolled": true
   },
   "outputs": [
    {
     "data": {
      "text/plain": [
       "MAF(\n",
       "  (net): FlowSequential(\n",
       "    (0): MADE(\n",
       "      (net_input): MaskedLinear(in_features=2, out_features=100, bias=True)\n",
       "      (net): Sequential(\n",
       "        (0): ReLU()\n",
       "        (1): MaskedLinear(in_features=100, out_features=100, bias=True)\n",
       "        (2): ReLU()\n",
       "        (3): MaskedLinear(in_features=100, out_features=4, bias=True)\n",
       "      )\n",
       "    )\n",
       "    (1): BatchNorm()\n",
       "    (2): MADE(\n",
       "      (net_input): MaskedLinear(in_features=2, out_features=100, bias=True)\n",
       "      (net): Sequential(\n",
       "        (0): ReLU()\n",
       "        (1): MaskedLinear(in_features=100, out_features=100, bias=True)\n",
       "        (2): ReLU()\n",
       "        (3): MaskedLinear(in_features=100, out_features=4, bias=True)\n",
       "      )\n",
       "    )\n",
       "    (3): BatchNorm()\n",
       "    (4): MADE(\n",
       "      (net_input): MaskedLinear(in_features=2, out_features=100, bias=True)\n",
       "      (net): Sequential(\n",
       "        (0): ReLU()\n",
       "        (1): MaskedLinear(in_features=100, out_features=100, bias=True)\n",
       "        (2): ReLU()\n",
       "        (3): MaskedLinear(in_features=100, out_features=4, bias=True)\n",
       "      )\n",
       "    )\n",
       "    (5): BatchNorm()\n",
       "    (6): MADE(\n",
       "      (net_input): MaskedLinear(in_features=2, out_features=100, bias=True)\n",
       "      (net): Sequential(\n",
       "        (0): ReLU()\n",
       "        (1): MaskedLinear(in_features=100, out_features=100, bias=True)\n",
       "        (2): ReLU()\n",
       "        (3): MaskedLinear(in_features=100, out_features=4, bias=True)\n",
       "      )\n",
       "    )\n",
       "    (7): BatchNorm()\n",
       "    (8): MADE(\n",
       "      (net_input): MaskedLinear(in_features=2, out_features=100, bias=True)\n",
       "      (net): Sequential(\n",
       "        (0): ReLU()\n",
       "        (1): MaskedLinear(in_features=100, out_features=100, bias=True)\n",
       "        (2): ReLU()\n",
       "        (3): MaskedLinear(in_features=100, out_features=4, bias=True)\n",
       "      )\n",
       "    )\n",
       "    (9): BatchNorm()\n",
       "  )\n",
       ")"
      ]
     },
     "execution_count": 10,
     "metadata": {},
     "output_type": "execute_result"
    }
   ],
   "source": [
    "from flows.models.maf import MAF\n",
    "\n",
    "def load_flow():\n",
    "    model = MAF(5, \n",
    "                2, \n",
    "                100, \n",
    "                1, \n",
    "                None, \n",
    "                'relu', \n",
    "                'sequential', \n",
    "                batch_norm=True)\n",
    "    restore_file = 'flows/results/kmm_flow/'\n",
    "    state = torch.load(os.path.join(restore_file, \"model_checkpoint.pt\"), map_location='cuda')\n",
    "    model.load_state_dict(state['model_state'])\n",
    "    model = model.to(device)\n",
    "    return model\n",
    "\n",
    "flow = load_flow()\n",
    "flow.eval()"
   ]
  },
  {
   "cell_type": "code",
   "execution_count": 11,
   "metadata": {},
   "outputs": [
    {
     "data": {
      "text/plain": [
       "Text(0.5, 1.0, 'Source + Target')"
      ]
     },
     "execution_count": 11,
     "metadata": {},
     "output_type": "execute_result"
    },
    {
     "data": {
      "image/png": "[encoded data removed]",
      "text/plain": [
       "<Figure size 432x288 with 1 Axes>"
      ]
     },
     "metadata": {},
     "output_type": "display_data"
    }
   ],
   "source": [
    "# encode data points\n",
    "flow_train_x, _ = flow.forward(torch.from_numpy(X).cuda().float())\n",
    "flow_test_x, _ = flow.forward(torch.from_numpy(Z).cuda().float())\n",
    "\n",
    "plt.scatter(flow_train_x[:,0].data.cpu().numpy(), flow_train_x[:,1].data.cpu().numpy(), s=10)\n",
    "plt.scatter(flow_test_x[:,0].data.cpu().numpy(), flow_test_x[:,1].data.cpu().numpy(), s=10)\n",
    "\n",
    "plt.title('Source + Target')"
   ]
  },
  {
   "cell_type": "markdown",
   "metadata": {},
   "source": [
    "### train KMM on z"
   ]
  },
  {
   "cell_type": "code",
   "execution_count": 34,
   "metadata": {},
   "outputs": [],
   "source": [
    "flow_x = flow_train_x.data.cpu().numpy()\n",
    "flow_z = flow_test_x.data.cpu().numpy()"
   ]
  },
  {
   "cell_type": "code",
   "execution_count": 44,
   "metadata": {},
   "outputs": [
    {
     "name": "stdout",
     "output_type": "stream",
     "text": [
      "     pcost       dcost       gap    pres   dres\n",
      " 0:  6.6780e+02 -3.2202e+04  3e+04  3e-17  3e+02\n",
      " 1:  6.5183e+02 -2.9739e+03  4e+03  1e-16  3e+01\n",
      " 2:  6.2499e+02  5.0027e+02  1e+02  1e-16  6e-15\n",
      " 3:  6.2102e+02  6.1662e+02  4e+00  2e-16  3e-14\n",
      " 4:  6.2090e+02  6.2064e+02  3e-01  5e-16  1e-13\n",
      " 5:  6.2089e+02  6.2089e+02  4e-03  6e-16  5e-13\n",
      " 6:  6.2089e+02  6.2089e+02  5e-05  9e-16  3e-12\n",
      "Optimal solution found.\n"
     ]
    }
   ],
   "source": [
    "kmm = ImportanceWeightedClassifier(weight_estimator='kmm', bandwidth=0.1)\n",
    "z_weights = kmm.iwe_kernel_mean_matching(flow_x, flow_z)"
   ]
  },
  {
   "cell_type": "code",
   "execution_count": 45,
   "metadata": {},
   "outputs": [
    {
     "name": "stdout",
     "output_type": "stream",
     "text": [
      "Error adapt: 0.311\n"
     ]
    }
   ],
   "source": [
    "# Train via KMM\n",
    "# from sklearn.linear_model import LogisticRegressionCV\n",
    "# clf = LogisticRegressionCV(cv=5, solver='lbfgs')\n",
    "from sklearn.linear_model import LogisticRegression\n",
    "clf = LogisticRegression()\n",
    "clf.fit(X, y, sample_weight=z_weights)\n",
    "pred_adapt = clf.predict(Z)\n",
    "\n",
    "# Compute error rates\n",
    "print('Error adapt: ' + str(np.mean(pred_adapt != u, axis=0)))"
   ]
  },
  {
   "cell_type": "code",
   "execution_count": 46,
   "metadata": {},
   "outputs": [
    {
     "name": "stdout",
     "output_type": "stream",
     "text": [
      "Error adapt in z-space: 0.298\n"
     ]
    }
   ],
   "source": [
    "# target test\n",
    "flow_test_real, _ = flow(torch.from_numpy(Z_test).float().cuda())\n",
    "pred_adapt_test = clf.predict(Z_test)\n",
    "print('Error adapt in z-space: ' + str(np.mean(pred_adapt_test != u_test, axis=0)))"
   ]
  },
  {
   "cell_type": "markdown",
   "metadata": {},
   "source": [
    "Target\n",
    "- Error naive: 0.297\n",
    "- Error adapt: 0.259\n",
    "\n",
    "Target (test)\n",
    "- Error naive: 0.286\n",
    "- Error adapt: 0.247"
   ]
  },
  {
   "cell_type": "code",
   "execution_count": 16,
   "metadata": {},
   "outputs": [
    {
     "ename": "NameError",
     "evalue": "name 'weights' is not defined",
     "output_type": "error",
     "traceback": [
      "\u001b[0;31m---------------------------------------------------------------------------\u001b[0m",
      "\u001b[0;31mNameError\u001b[0m                                 Traceback (most recent call last)",
      "\u001b[0;32m<ipython-input-16-4c3589b578ab>\u001b[0m in \u001b[0;36m<module>\u001b[0;34m()\u001b[0m\n\u001b[0;32m----> 1\u001b[0;31m \u001b[0m_\u001b[0m \u001b[0;34m=\u001b[0m \u001b[0mplt\u001b[0m\u001b[0;34m.\u001b[0m\u001b[0mhist\u001b[0m\u001b[0;34m(\u001b[0m\u001b[0mweights\u001b[0m\u001b[0;34m,\u001b[0m \u001b[0mbins\u001b[0m\u001b[0;34m=\u001b[0m\u001b[0;36m50\u001b[0m\u001b[0;34m,\u001b[0m \u001b[0mlabel\u001b[0m\u001b[0;34m=\u001b[0m\u001b[0;34m'x-space'\u001b[0m\u001b[0;34m)\u001b[0m\u001b[0;34m\u001b[0m\u001b[0m\n\u001b[0m\u001b[1;32m      2\u001b[0m \u001b[0m_\u001b[0m \u001b[0;34m=\u001b[0m \u001b[0mplt\u001b[0m\u001b[0;34m.\u001b[0m\u001b[0mhist\u001b[0m\u001b[0;34m(\u001b[0m\u001b[0mz_weights\u001b[0m\u001b[0;34m,\u001b[0m \u001b[0mbins\u001b[0m\u001b[0;34m=\u001b[0m\u001b[0;36m50\u001b[0m\u001b[0;34m,\u001b[0m \u001b[0mlabel\u001b[0m\u001b[0;34m=\u001b[0m\u001b[0;34m'z-space'\u001b[0m\u001b[0;34m)\u001b[0m\u001b[0;34m\u001b[0m\u001b[0m\n\u001b[1;32m      3\u001b[0m \u001b[0;31m# plt.yscale('log')\u001b[0m\u001b[0;34m\u001b[0m\u001b[0;34m\u001b[0m\u001b[0m\n\u001b[1;32m      4\u001b[0m \u001b[0;34m\u001b[0m\u001b[0m\n\u001b[1;32m      5\u001b[0m \u001b[0mplt\u001b[0m\u001b[0;34m.\u001b[0m\u001b[0mtitle\u001b[0m\u001b[0;34m(\u001b[0m\u001b[0;34m'KMM Weights'\u001b[0m\u001b[0;34m)\u001b[0m\u001b[0;34m\u001b[0m\u001b[0m\n",
      "\u001b[0;31mNameError\u001b[0m: name 'weights' is not defined"
     ]
    }
   ],
   "source": [
    "_ = plt.hist(weights, bins=50, label='x-space')\n",
    "_ = plt.hist(z_weights, bins=50, label='z-space')\n",
    "# plt.yscale('log')\n",
    "\n",
    "plt.title('KMM Weights')\n",
    "plt.legend()"
   ]
  },
  {
   "cell_type": "markdown",
   "metadata": {},
   "source": [
    "---------"
   ]
  },
  {
   "cell_type": "markdown",
   "metadata": {},
   "source": [
    "### What if I do the entire thing in z-space?"
   ]
  },
  {
   "cell_type": "code",
   "execution_count": 29,
   "metadata": {},
   "outputs": [
    {
     "name": "stdout",
     "output_type": "stream",
     "text": [
      "Error adapt: 0.638\n"
     ]
    }
   ],
   "source": [
    "# Train via KMM\n",
    "clf = LogisticRegression()\n",
    "clf.fit(flow_x, y, sample_weight=z_weights)\n",
    "pred_adapt = clf.predict(flow_z)\n",
    "\n",
    "# Compute error rates\n",
    "print('Error adapt: ' + str(np.mean(pred_adapt != u, axis=0)))"
   ]
  },
  {
   "cell_type": "code",
   "execution_count": 30,
   "metadata": {},
   "outputs": [
    {
     "name": "stdout",
     "output_type": "stream",
     "text": [
      "Error adapt in z-space: 0.629\n"
     ]
    }
   ],
   "source": [
    "# target test\n",
    "flow_test_real, _ = flow(torch.from_numpy(Z_test).float().cuda())\n",
    "pred_adapt_test = clf.predict(flow_test_real.data.cpu().numpy())\n",
    "print('Error adapt in z-space: ' + str(np.mean(pred_adapt_test != u_test, axis=0)))"
   ]
  },
  {
   "cell_type": "markdown",
   "metadata": {},
   "source": [
    "----"
   ]
  },
  {
   "cell_type": "markdown",
   "metadata": {},
   "source": [
    "### naive LR in z-space"
   ]
  },
  {
   "cell_type": "code",
   "execution_count": 90,
   "metadata": {},
   "outputs": [
    {
     "name": "stdout",
     "output_type": "stream",
     "text": [
      "Error naive in z-space: 0.635\n"
     ]
    }
   ],
   "source": [
    "lr = LogisticRegression()\n",
    "lr.fit(flow_x, y)\n",
    "pred_naive = lr.predict(flow_z)\n",
    "\n",
    "# Compute error rates\n",
    "print('Error naive in z-space: ' + str(np.mean(pred_naive != u, axis=0)))"
   ]
  },
  {
   "cell_type": "code",
   "execution_count": 91,
   "metadata": {},
   "outputs": [
    {
     "name": "stdout",
     "output_type": "stream",
     "text": [
      "Error naive (test) in z-space: 0.629\n"
     ]
    }
   ],
   "source": [
    "# target test\n",
    "flow_test_real, _ = flow(torch.from_numpy(Z_test).float().cuda())\n",
    "pred_naive_test = lr.predict(flow_test_real.data.cpu().numpy())\n",
    "print('Error naive (test) in z-space: ' + str(np.mean(pred_naive_test != u_test, axis=0)))"
   ]
  },
  {
   "cell_type": "markdown",
   "metadata": {},
   "source": [
    "---"
   ]
  },
  {
   "cell_type": "markdown",
   "metadata": {},
   "source": [
    "# Weights"
   ]
  },
  {
   "cell_type": "code",
   "execution_count": 93,
   "metadata": {},
   "outputs": [
    {
     "data": {
      "text/plain": [
       "<matplotlib.legend.Legend at 0x7ffaac329860>"
      ]
     },
     "execution_count": 93,
     "metadata": {},
     "output_type": "execute_result"
    },
    {
     "data": {
      "image/png": "[encoded data removed]",
      "text/plain": [
       "<Figure size 432x288 with 1 Axes>"
      ]
     },
     "metadata": {},
     "output_type": "display_data"
    }
   ],
   "source": [
    "_ = plt.hist(weights, bins=50, label='x-space')\n",
    "_ = plt.hist(z_weights, bins=50, label='z-space')\n",
    "# plt.yscale('log')\n",
    "\n",
    "plt.title('KMM Weights')\n",
    "plt.legend()"
   ]
  },
  {
   "cell_type": "code",
   "execution_count": null,
   "metadata": {},
   "outputs": [],
   "source": []
  }
 ],
 "metadata": {
  "kernelspec": {
   "display_name": "Python 3",
   "language": "python",
   "name": "python3"
  },
  "language_info": {
   "codemirror_mode": {
    "name": "ipython",
    "version": 3
   },
   "file_extension": ".py",
   "mimetype": "text/x-python",
   "name": "python",
   "nbconvert_exporter": "python",
   "pygments_lexer": "ipython3",
   "version": "3.6.4"
  }
 },
 "nbformat": 4,
 "nbformat_minor": 2
}
