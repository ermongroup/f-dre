{
 "cells": [
  {
   "cell_type": "markdown",
   "metadata": {},
   "source": [
    "# Setup"
   ]
  },
  {
   "cell_type": "code",
   "execution_count": 22,
   "metadata": {},
   "outputs": [
    {
     "data": {
      "text/plain": [
       "'/atlas/u/madeline/f-dre'"
      ]
     },
     "execution_count": 22,
     "metadata": {},
     "output_type": "execute_result"
    }
   ],
   "source": [
    "pwd # should be <your_root_dir>/f-dre/notebooks"
   ]
  },
  {
   "cell_type": "code",
   "execution_count": 23,
   "metadata": {
    "scrolled": true
   },
   "outputs": [
    {
     "name": "stdout",
     "output_type": "stream",
     "text": [
      "/atlas/u/madeline\n"
     ]
    }
   ],
   "source": [
    "cd .."
   ]
  },
  {
   "cell_type": "code",
   "execution_count": 24,
   "metadata": {},
   "outputs": [],
   "source": [
    "import math\n",
    "import sklearn.metrics.pairwise as sk\n",
    "from sklearn.svm import SVC\n",
    "from cvxopt import matrix, solvers\n",
    "import os\n",
    "import sys\n",
    "import time\n",
    "import shutil\n",
    "import logging\n",
    "import argparse\n",
    "import yaml\n",
    "import traceback\n",
    "\n",
    "import numpy as np\n",
    "import torch\n",
    "import torch.nn as nn\n",
    "import torch.nn.functional as F\n",
    "from src.flows.models.maf import MAF"
   ]
  },
  {
   "cell_type": "code",
   "execution_count": 25,
   "metadata": {},
   "outputs": [
    {
     "name": "stdout",
     "output_type": "stream",
     "text": [
      "The autoreload extension is already loaded. To reload it, use:\n",
      "  %reload_ext autoreload\n"
     ]
    }
   ],
   "source": [
    "import matplotlib\n",
    "import matplotlib.pyplot as plt\n",
    "import seaborn as sns\n",
    "sns.set_style('white')\n",
    "sns.set_context('poster')\n",
    "\n",
    "%matplotlib inline\n",
    "%load_ext autoreload\n",
    "%autoreload 2"
   ]
  },
  {
   "cell_type": "markdown",
   "metadata": {},
   "source": [
    "# 1) Dataset loading (run either (i) or (ii) -- not both)"
   ]
  },
  {
   "cell_type": "markdown",
   "metadata": {},
   "source": [
    "## (i) EITHER: Load existing data from repo"
   ]
  },
  {
   "cell_type": "code",
   "execution_count": 26,
   "metadata": {},
   "outputs": [
    {
     "ename": "FileNotFoundError",
     "evalue": "[Errno 2] No such file or directory: 'data/uci_blood_transfusion/train.npz'",
     "output_type": "error",
     "traceback": [
      "\u001b[0;31m---------------------------------------------------------------------------\u001b[0m",
      "\u001b[0;31mFileNotFoundError\u001b[0m                         Traceback (most recent call last)",
      "\u001b[0;32m<ipython-input-26-a14ea592817d>\u001b[0m in \u001b[0;36m<module>\u001b[0;34m\u001b[0m\n\u001b[0;32m----> 1\u001b[0;31m \u001b[0mtrain_data\u001b[0m \u001b[0;34m=\u001b[0m \u001b[0mnp\u001b[0m\u001b[0;34m.\u001b[0m\u001b[0mload\u001b[0m\u001b[0;34m(\u001b[0m\u001b[0;34m'data/uci_blood_transfusion/train.npz'\u001b[0m\u001b[0;34m)\u001b[0m\u001b[0;34m\u001b[0m\u001b[0;34m\u001b[0m\u001b[0m\n\u001b[0m\u001b[1;32m      2\u001b[0m \u001b[0mX\u001b[0m \u001b[0;34m=\u001b[0m \u001b[0mtrain_data\u001b[0m\u001b[0;34m[\u001b[0m\u001b[0;34m'x'\u001b[0m\u001b[0;34m]\u001b[0m\u001b[0;34m\u001b[0m\u001b[0;34m\u001b[0m\u001b[0m\n\u001b[1;32m      3\u001b[0m \u001b[0my\u001b[0m \u001b[0;34m=\u001b[0m \u001b[0mtrain_data\u001b[0m\u001b[0;34m[\u001b[0m\u001b[0;34m'y'\u001b[0m\u001b[0;34m]\u001b[0m\u001b[0;34m\u001b[0m\u001b[0;34m\u001b[0m\u001b[0m\n\u001b[1;32m      4\u001b[0m \u001b[0;34m\u001b[0m\u001b[0m\n\u001b[1;32m      5\u001b[0m \u001b[0mtest_data\u001b[0m \u001b[0;34m=\u001b[0m \u001b[0mnp\u001b[0m\u001b[0;34m.\u001b[0m\u001b[0mload\u001b[0m\u001b[0;34m(\u001b[0m\u001b[0;34m'data/uci_blood_transfusion/test.npz'\u001b[0m\u001b[0;34m)\u001b[0m\u001b[0;34m\u001b[0m\u001b[0;34m\u001b[0m\u001b[0m\n",
      "\u001b[0;32m/atlas/u/madeline/miniconda3/envs/fairgen/lib/python3.6/site-packages/numpy/lib/npyio.py\u001b[0m in \u001b[0;36mload\u001b[0;34m(file, mmap_mode, allow_pickle, fix_imports, encoding)\u001b[0m\n\u001b[1;32m    414\u001b[0m             \u001b[0mown_fid\u001b[0m \u001b[0;34m=\u001b[0m \u001b[0;32mFalse\u001b[0m\u001b[0;34m\u001b[0m\u001b[0;34m\u001b[0m\u001b[0m\n\u001b[1;32m    415\u001b[0m         \u001b[0;32melse\u001b[0m\u001b[0;34m:\u001b[0m\u001b[0;34m\u001b[0m\u001b[0;34m\u001b[0m\u001b[0m\n\u001b[0;32m--> 416\u001b[0;31m             \u001b[0mfid\u001b[0m \u001b[0;34m=\u001b[0m \u001b[0mstack\u001b[0m\u001b[0;34m.\u001b[0m\u001b[0menter_context\u001b[0m\u001b[0;34m(\u001b[0m\u001b[0mopen\u001b[0m\u001b[0;34m(\u001b[0m\u001b[0mos_fspath\u001b[0m\u001b[0;34m(\u001b[0m\u001b[0mfile\u001b[0m\u001b[0;34m)\u001b[0m\u001b[0;34m,\u001b[0m \u001b[0;34m\"rb\"\u001b[0m\u001b[0;34m)\u001b[0m\u001b[0;34m)\u001b[0m\u001b[0;34m\u001b[0m\u001b[0;34m\u001b[0m\u001b[0m\n\u001b[0m\u001b[1;32m    417\u001b[0m             \u001b[0mown_fid\u001b[0m \u001b[0;34m=\u001b[0m \u001b[0;32mTrue\u001b[0m\u001b[0;34m\u001b[0m\u001b[0;34m\u001b[0m\u001b[0m\n\u001b[1;32m    418\u001b[0m \u001b[0;34m\u001b[0m\u001b[0m\n",
      "\u001b[0;31mFileNotFoundError\u001b[0m: [Errno 2] No such file or directory: 'data/uci_blood_transfusion/train.npz'"
     ]
    }
   ],
   "source": [
    "train_data = np.load('data/uci_blood_transfusion/train.npz')\n",
    "X = train_data['x']\n",
    "y = train_data['y']\n",
    "\n",
    "test_data = np.load('data/uci_blood_transfusion/test.npz')\n",
    "Z = test_data['x']\n",
    "u = test_data['y']"
   ]
  },
  {
   "cell_type": "markdown",
   "metadata": {},
   "source": [
    "## (ii) OR: Generate new dataset\n",
    "Reference: https://papers.nips.cc/paper/2006/file/a2186aa7c086b46ad4e8bf81e2a3a19b-Paper.pdf\n",
    "\n",
    "If \\\\(s\\\\) is indicator variable representing whether or not a data point \\\\(x\\\\) is selected and \\\\(y\\\\) is its corresponding label, then \\\\(P(s = 1|y = 1) = 0.1 \\ \\ \\text{and} \\ \\ P(s = 1|y = −1)\\\\) = 0.9."
   ]
  },
  {
   "cell_type": "code",
   "execution_count": null,
   "metadata": {},
   "outputs": [],
   "source": [
    "# import pandas as pd\n",
    "# import random\n",
    "# from sklearn.model_selection import train_test_split\n",
    "\n",
    "# df = pd.read_csv('https://archive.ics.uci.edu/ml/machine-learning-databases/blood-transfusion/transfusion.data')\n",
    "\n",
    "# label_col = 'whether he/she donated blood in March 2007'\n",
    "\n",
    "# train_df, test_df = train_test_split(df, test_size=0.75)\n",
    "# n_samples = len(df)\n",
    "# p_group1 = 0.1\n",
    "# p_group2 = 0.9\n",
    "\n",
    "# group1_df = train_df.loc[train_df[label_col] == 1]\n",
    "# group2_df = train_df.loc[train_df[label_col] == 0]\n",
    "\n",
    "# group1_idxs = np.arange(len(group1_df))\n",
    "# group2_idxs = np.arange(len(group2_df))\n",
    "# group1_selected = np.array(np.nonzero(group1_idxs * (np.random.random(size=len(group1_idxs)) <= p_group1))[0])\n",
    "# group2_selected = np.array(np.nonzero(group2_idxs * (np.random.random(size=len(group2_idxs)) <= p_group2))[0])\n",
    "# group1_df = group1_df.iloc[group1_idxs[group1_selected]]\n",
    "# group2_df = group2_df.iloc[group2_idxs[group2_selected]]\n",
    "\n",
    "# biased_df = pd.concat((group1_df, group2_df))\n",
    "# num_classes = 4\n",
    "\n",
    "# data = biased_df.to_numpy()[:, :num_classes]\n",
    "# X = (data - np.mean(data, axis=0))/np.std(data, axis=0)\n",
    "# y = biased_df.to_numpy()[:, num_classes]\n",
    "\n",
    "# data = test_df.to_numpy()[:, :num_classes]\n",
    "# Z = (data - np.mean(data, axis=0))/np.std(data, axis=0)\n",
    "# u = test_df.to_numpy()[:, num_classes]"
   ]
  },
  {
   "cell_type": "markdown",
   "metadata": {},
   "source": [
    "# 2) Load config"
   ]
  },
  {
   "cell_type": "code",
   "execution_count": null,
   "metadata": {},
   "outputs": [],
   "source": [
    "def dict2namespace(config):\n",
    "    namespace = argparse.Namespace()\n",
    "    for key, value in config.items():\n",
    "        if isinstance(value, dict):\n",
    "            new_value = dict2namespace(value)\n",
    "        else:\n",
    "            new_value = value\n",
    "        setattr(namespace, key, new_value)\n",
    "    return namespace"
   ]
  },
  {
   "cell_type": "code",
   "execution_count": null,
   "metadata": {},
   "outputs": [],
   "source": [
    "config_file = 'src/configs/flows/uci_blood_transfusion/maf.yaml'\n",
    "with open(config_file) as f:\n",
    "    config = yaml.safe_load(f)\n",
    "config = dict2namespace(config)"
   ]
  },
  {
   "cell_type": "markdown",
   "metadata": {},
   "source": [
    "# 3) Load flow"
   ]
  },
  {
   "cell_type": "code",
   "execution_count": 27,
   "metadata": {},
   "outputs": [],
   "source": [
    "def load_flow(restore_file):\n",
    "    model = MAF(config.model.n_blocks, \n",
    "                config.model.input_size, \n",
    "                config.model.hidden_size, \n",
    "                config.model.n_hidden, \n",
    "                None, \n",
    "                config.model.activation_fn, \n",
    "                config.model.input_order, \n",
    "                batch_norm=True)\n",
    "    state = torch.load(os.path.join(restore_file, \"model_checkpoint.pt\"), map_location='cpu')\n",
    "    model.load_state_dict(state['model_state'])\n",
    "    model = model.to('cpu')\n",
    "    model.eval()\n",
    "    return model"
   ]
  },
  {
   "cell_type": "code",
   "execution_count": 28,
   "metadata": {},
   "outputs": [
    {
     "ename": "FileNotFoundError",
     "evalue": "[Errno 2] No such file or directory: 'src/flows/results/uci_blood_transfusion_maf/model_checkpoint.pt'",
     "output_type": "error",
     "traceback": [
      "\u001b[0;31m---------------------------------------------------------------------------\u001b[0m",
      "\u001b[0;31mFileNotFoundError\u001b[0m                         Traceback (most recent call last)",
      "\u001b[0;32m<ipython-input-28-bc4db0112c74>\u001b[0m in \u001b[0;36m<module>\u001b[0;34m\u001b[0m\n\u001b[1;32m      1\u001b[0m \u001b[0mdevice\u001b[0m \u001b[0;34m=\u001b[0m \u001b[0;34m'cpu'\u001b[0m\u001b[0;34m\u001b[0m\u001b[0;34m\u001b[0m\u001b[0m\n\u001b[1;32m      2\u001b[0m \u001b[0mrestore_file\u001b[0m \u001b[0;34m=\u001b[0m \u001b[0;34mf'src/flows/results/uci_blood_transfusion_maf'\u001b[0m\u001b[0;34m\u001b[0m\u001b[0;34m\u001b[0m\u001b[0m\n\u001b[0;32m----> 3\u001b[0;31m \u001b[0mflow\u001b[0m \u001b[0;34m=\u001b[0m \u001b[0mload_flow\u001b[0m\u001b[0;34m(\u001b[0m\u001b[0mrestore_file\u001b[0m\u001b[0;34m)\u001b[0m\u001b[0;34m\u001b[0m\u001b[0;34m\u001b[0m\u001b[0m\n\u001b[0m",
      "\u001b[0;32m<ipython-input-27-0667449abff8>\u001b[0m in \u001b[0;36mload_flow\u001b[0;34m(restore_file)\u001b[0m\n\u001b[1;32m      8\u001b[0m                 \u001b[0mconfig\u001b[0m\u001b[0;34m.\u001b[0m\u001b[0mmodel\u001b[0m\u001b[0;34m.\u001b[0m\u001b[0minput_order\u001b[0m\u001b[0;34m,\u001b[0m\u001b[0;34m\u001b[0m\u001b[0;34m\u001b[0m\u001b[0m\n\u001b[1;32m      9\u001b[0m                 batch_norm=True)\n\u001b[0;32m---> 10\u001b[0;31m     \u001b[0mstate\u001b[0m \u001b[0;34m=\u001b[0m \u001b[0mtorch\u001b[0m\u001b[0;34m.\u001b[0m\u001b[0mload\u001b[0m\u001b[0;34m(\u001b[0m\u001b[0mos\u001b[0m\u001b[0;34m.\u001b[0m\u001b[0mpath\u001b[0m\u001b[0;34m.\u001b[0m\u001b[0mjoin\u001b[0m\u001b[0;34m(\u001b[0m\u001b[0mrestore_file\u001b[0m\u001b[0;34m,\u001b[0m \u001b[0;34m\"model_checkpoint.pt\"\u001b[0m\u001b[0;34m)\u001b[0m\u001b[0;34m,\u001b[0m \u001b[0mmap_location\u001b[0m\u001b[0;34m=\u001b[0m\u001b[0;34m'cpu'\u001b[0m\u001b[0;34m)\u001b[0m\u001b[0;34m\u001b[0m\u001b[0;34m\u001b[0m\u001b[0m\n\u001b[0m\u001b[1;32m     11\u001b[0m     \u001b[0mmodel\u001b[0m\u001b[0;34m.\u001b[0m\u001b[0mload_state_dict\u001b[0m\u001b[0;34m(\u001b[0m\u001b[0mstate\u001b[0m\u001b[0;34m[\u001b[0m\u001b[0;34m'model_state'\u001b[0m\u001b[0;34m]\u001b[0m\u001b[0;34m)\u001b[0m\u001b[0;34m\u001b[0m\u001b[0;34m\u001b[0m\u001b[0m\n\u001b[1;32m     12\u001b[0m     \u001b[0mmodel\u001b[0m \u001b[0;34m=\u001b[0m \u001b[0mmodel\u001b[0m\u001b[0;34m.\u001b[0m\u001b[0mto\u001b[0m\u001b[0;34m(\u001b[0m\u001b[0;34m'cpu'\u001b[0m\u001b[0;34m)\u001b[0m\u001b[0;34m\u001b[0m\u001b[0;34m\u001b[0m\u001b[0m\n",
      "\u001b[0;32m/atlas/u/madeline/miniconda3/envs/fairgen/lib/python3.6/site-packages/torch/serialization.py\u001b[0m in \u001b[0;36mload\u001b[0;34m(f, map_location, pickle_module, **pickle_load_args)\u001b[0m\n\u001b[1;32m    579\u001b[0m         \u001b[0mpickle_load_args\u001b[0m\u001b[0;34m[\u001b[0m\u001b[0;34m'encoding'\u001b[0m\u001b[0;34m]\u001b[0m \u001b[0;34m=\u001b[0m \u001b[0;34m'utf-8'\u001b[0m\u001b[0;34m\u001b[0m\u001b[0;34m\u001b[0m\u001b[0m\n\u001b[1;32m    580\u001b[0m \u001b[0;34m\u001b[0m\u001b[0m\n\u001b[0;32m--> 581\u001b[0;31m     \u001b[0;32mwith\u001b[0m \u001b[0m_open_file_like\u001b[0m\u001b[0;34m(\u001b[0m\u001b[0mf\u001b[0m\u001b[0;34m,\u001b[0m \u001b[0;34m'rb'\u001b[0m\u001b[0;34m)\u001b[0m \u001b[0;32mas\u001b[0m \u001b[0mopened_file\u001b[0m\u001b[0;34m:\u001b[0m\u001b[0;34m\u001b[0m\u001b[0;34m\u001b[0m\u001b[0m\n\u001b[0m\u001b[1;32m    582\u001b[0m         \u001b[0;32mif\u001b[0m \u001b[0m_is_zipfile\u001b[0m\u001b[0;34m(\u001b[0m\u001b[0mopened_file\u001b[0m\u001b[0;34m)\u001b[0m\u001b[0;34m:\u001b[0m\u001b[0;34m\u001b[0m\u001b[0;34m\u001b[0m\u001b[0m\n\u001b[1;32m    583\u001b[0m             \u001b[0;31m# The zipfile reader is going to advance the current file position.\u001b[0m\u001b[0;34m\u001b[0m\u001b[0;34m\u001b[0m\u001b[0;34m\u001b[0m\u001b[0m\n",
      "\u001b[0;32m/atlas/u/madeline/miniconda3/envs/fairgen/lib/python3.6/site-packages/torch/serialization.py\u001b[0m in \u001b[0;36m_open_file_like\u001b[0;34m(name_or_buffer, mode)\u001b[0m\n\u001b[1;32m    228\u001b[0m \u001b[0;32mdef\u001b[0m \u001b[0m_open_file_like\u001b[0m\u001b[0;34m(\u001b[0m\u001b[0mname_or_buffer\u001b[0m\u001b[0;34m,\u001b[0m \u001b[0mmode\u001b[0m\u001b[0;34m)\u001b[0m\u001b[0;34m:\u001b[0m\u001b[0;34m\u001b[0m\u001b[0;34m\u001b[0m\u001b[0m\n\u001b[1;32m    229\u001b[0m     \u001b[0;32mif\u001b[0m \u001b[0m_is_path\u001b[0m\u001b[0;34m(\u001b[0m\u001b[0mname_or_buffer\u001b[0m\u001b[0;34m)\u001b[0m\u001b[0;34m:\u001b[0m\u001b[0;34m\u001b[0m\u001b[0;34m\u001b[0m\u001b[0m\n\u001b[0;32m--> 230\u001b[0;31m         \u001b[0;32mreturn\u001b[0m \u001b[0m_open_file\u001b[0m\u001b[0;34m(\u001b[0m\u001b[0mname_or_buffer\u001b[0m\u001b[0;34m,\u001b[0m \u001b[0mmode\u001b[0m\u001b[0;34m)\u001b[0m\u001b[0;34m\u001b[0m\u001b[0;34m\u001b[0m\u001b[0m\n\u001b[0m\u001b[1;32m    231\u001b[0m     \u001b[0;32melse\u001b[0m\u001b[0;34m:\u001b[0m\u001b[0;34m\u001b[0m\u001b[0;34m\u001b[0m\u001b[0m\n\u001b[1;32m    232\u001b[0m         \u001b[0;32mif\u001b[0m \u001b[0;34m'w'\u001b[0m \u001b[0;32min\u001b[0m \u001b[0mmode\u001b[0m\u001b[0;34m:\u001b[0m\u001b[0;34m\u001b[0m\u001b[0;34m\u001b[0m\u001b[0m\n",
      "\u001b[0;32m/atlas/u/madeline/miniconda3/envs/fairgen/lib/python3.6/site-packages/torch/serialization.py\u001b[0m in \u001b[0;36m__init__\u001b[0;34m(self, name, mode)\u001b[0m\n\u001b[1;32m    209\u001b[0m \u001b[0;32mclass\u001b[0m \u001b[0m_open_file\u001b[0m\u001b[0;34m(\u001b[0m\u001b[0m_opener\u001b[0m\u001b[0;34m)\u001b[0m\u001b[0;34m:\u001b[0m\u001b[0;34m\u001b[0m\u001b[0;34m\u001b[0m\u001b[0m\n\u001b[1;32m    210\u001b[0m     \u001b[0;32mdef\u001b[0m \u001b[0m__init__\u001b[0m\u001b[0;34m(\u001b[0m\u001b[0mself\u001b[0m\u001b[0;34m,\u001b[0m \u001b[0mname\u001b[0m\u001b[0;34m,\u001b[0m \u001b[0mmode\u001b[0m\u001b[0;34m)\u001b[0m\u001b[0;34m:\u001b[0m\u001b[0;34m\u001b[0m\u001b[0;34m\u001b[0m\u001b[0m\n\u001b[0;32m--> 211\u001b[0;31m         \u001b[0msuper\u001b[0m\u001b[0;34m(\u001b[0m\u001b[0m_open_file\u001b[0m\u001b[0;34m,\u001b[0m \u001b[0mself\u001b[0m\u001b[0;34m)\u001b[0m\u001b[0;34m.\u001b[0m\u001b[0m__init__\u001b[0m\u001b[0;34m(\u001b[0m\u001b[0mopen\u001b[0m\u001b[0;34m(\u001b[0m\u001b[0mname\u001b[0m\u001b[0;34m,\u001b[0m \u001b[0mmode\u001b[0m\u001b[0;34m)\u001b[0m\u001b[0;34m)\u001b[0m\u001b[0;34m\u001b[0m\u001b[0;34m\u001b[0m\u001b[0m\n\u001b[0m\u001b[1;32m    212\u001b[0m \u001b[0;34m\u001b[0m\u001b[0m\n\u001b[1;32m    213\u001b[0m     \u001b[0;32mdef\u001b[0m \u001b[0m__exit__\u001b[0m\u001b[0;34m(\u001b[0m\u001b[0mself\u001b[0m\u001b[0;34m,\u001b[0m \u001b[0;34m*\u001b[0m\u001b[0margs\u001b[0m\u001b[0;34m)\u001b[0m\u001b[0;34m:\u001b[0m\u001b[0;34m\u001b[0m\u001b[0;34m\u001b[0m\u001b[0m\n",
      "\u001b[0;31mFileNotFoundError\u001b[0m: [Errno 2] No such file or directory: 'src/flows/results/uci_blood_transfusion_maf/model_checkpoint.pt'"
     ]
    }
   ],
   "source": [
    "device = 'cpu'\n",
    "restore_file = f'src/flows/results/uci_blood_transfusion_maf'\n",
    "flow = load_flow(restore_file)"
   ]
  },
  {
   "cell_type": "markdown",
   "metadata": {},
   "source": [
    "# 4) Define KLIEP function"
   ]
  },
  {
   "cell_type": "code",
   "execution_count": 29,
   "metadata": {},
   "outputs": [],
   "source": [
    "import numpy as np\n",
    "import warnings\n",
    "import sklearn.metrics.pairwise as sk\n",
    "\n",
    "class DensityRatioEstimator:\n",
    "    \"\"\"\n",
    "    Class to accomplish direct density estimation implementing the original KLIEP \n",
    "    algorithm from Direct Importance Estimation with Model Selection\n",
    "    and Its Application to Covariate Shift Adaptation by Sugiyama et al. \n",
    "    \n",
    "    The training set is distributed via \n",
    "                                            train ~ p(x)\n",
    "    and the test set is distributed via \n",
    "                                            test ~ q(x).\n",
    "                                            \n",
    "    The KLIEP algorithm and its variants approximate w(x) = q(x) / p(x) directly. The predict function returns the\n",
    "    estimate of w(x). The function w(x) can serve as sample weights for the training set during\n",
    "    training to modify the expectation function that the model's loss function is optimized via,\n",
    "    i.e.\n",
    "    \n",
    "            E_{x ~ w(x)p(x)} loss(x) = E_{x ~ q(x)} loss(x).\n",
    "    \n",
    "    Usage : \n",
    "        The fit method is used to run the KLIEP algorithm using LCV and returns value of J \n",
    "        trained on the entire training/test set with the best sigma found. \n",
    "        Use the predict method on the training set to determine the sample weights from the KLIEP algorithm.\n",
    "    \"\"\"\n",
    "    \n",
    "    def __init__(self, max_iter=2000, num_params=[.1,.2], epsilon=1e-4, cv=3, sigmas=[.01,.1,.5, 1], random_state=None, verbose=0):\n",
    "        \"\"\" \n",
    "        Direct density estimation using an inner LCV loop to estimate the proper model. Can be used with sklearn\n",
    "        cross validation methods with or without storing the inner CV. To use a standard grid search.\n",
    "        \n",
    "        \n",
    "        max_iter : Number of iterations to perform\n",
    "        num_params : List of number of test set vectors used to construct the approximation for inner LCV.\n",
    "                     Must be a float. Original paper used 10%, i.e. =.1\n",
    "        sigmas : List of sigmas to be used in inner LCV loop.\n",
    "        epsilon : Additive factor in the iterative algorithm for numerical stability.\n",
    "        \"\"\"\n",
    "        self.max_iter = max_iter\n",
    "        self.num_params = num_params\n",
    "        self.epsilon = epsilon\n",
    "        self.verbose = verbose\n",
    "        self.sigmas = sigmas\n",
    "        self.cv = cv\n",
    "        self.random_state = 0\n",
    "        \n",
    "    def fit(self, X_train, X_test, alpha_0=None):\n",
    "        \"\"\" Uses cross validation to select sigma as in the original paper (LCV).\n",
    "            In a break from sklearn convention, y=X_test.\n",
    "            The parameter cv corresponds to R in the original paper.\n",
    "            Once found, the best sigma is used to train on the full set.\"\"\"\n",
    "        \n",
    "        # LCV loop, shuffle a copy in place for performance.\n",
    "        cv = self.cv\n",
    "        chunk = int(X_test.shape[0]/float(cv))\n",
    "        if self.random_state is not None:\n",
    "            np.random.seed(self.random_state)\n",
    "        X_test_shuffled = X_test.copy()\n",
    "        np.random.shuffle(X_test_shuffled)\n",
    "        \n",
    "        j_scores = {}\n",
    "        \n",
    "        if type(self.sigmas) != list:\n",
    "            self.sigmas = [self.sigmas]\n",
    "        \n",
    "        if type(self.num_params) != list:\n",
    "            self.num_params = [self.num_params]\n",
    "        \n",
    "        if len(self.sigmas) * len(self.num_params) > 1:\n",
    "            # Inner LCV loop\n",
    "            for num_param in self.num_params:\n",
    "                for sigma in self.sigmas:\n",
    "                    j_scores[(num_param,sigma)] = np.zeros(cv)\n",
    "                    for k in range(1,cv+1):\n",
    "                        if self.verbose > 0:\n",
    "                            print('Training: sigma: %s    R: %s' % (sigma, k))\n",
    "                        X_test_fold = X_test_shuffled[(k-1)*chunk:k*chunk,:] \n",
    "                        j_scores[(num_param,sigma)][k-1] = self._fit(X_train=X_train, \n",
    "                                                         X_test=X_test_fold,\n",
    "                                                         num_parameters = num_param,\n",
    "                                                         sigma=sigma)\n",
    "                    j_scores[(num_param,sigma)] = np.mean(j_scores[(num_param,sigma)])\n",
    "\n",
    "            sorted_scores = sorted([x for x in j_scores.items() if np.isfinite(x[1])], key=lambda x :x[1], reverse=True)\n",
    "            if len(sorted_scores) == 0:\n",
    "                warnings.warn('LCV failed to converge for all values of sigma.')\n",
    "                return self\n",
    "            self._sigma = sorted_scores[0][0][1]\n",
    "            self._num_parameters = sorted_scores[0][0][0]\n",
    "            self._j_scores = sorted_scores\n",
    "        else:\n",
    "            self._sigma = self.sigmas[0]\n",
    "            self._num_parameters = self.num_params[0]\n",
    "            # best sigma\n",
    "        self._j = self._fit(X_train=X_train, X_test=X_test_shuffled, num_parameters=self._num_parameters, sigma=self._sigma)\n",
    "\n",
    "        return self # Compatibility with sklearn\n",
    "        \n",
    "    def _fit(self, X_train, X_test, num_parameters, sigma, alpha_0=None):\n",
    "        \"\"\" Fits the estimator with the given parameters w-hat and returns J\"\"\"\n",
    "        \n",
    "        num_parameters = num_parameters\n",
    "        \n",
    "        if type(num_parameters) == float:\n",
    "            num_parameters = int(X_test.shape[0] * num_parameters)\n",
    "\n",
    "        self._select_param_vectors(X_test=X_test, \n",
    "                                   sigma=sigma,\n",
    "                                   num_parameters=num_parameters)\n",
    "        \n",
    "        X_train = self._reshape_X(X_train)\n",
    "        X_test = self._reshape_X(X_test)\n",
    "        \n",
    "        if alpha_0 is None:\n",
    "            alpha_0 = np.ones(shape=(num_parameters,1))/float(num_parameters)\n",
    "        \n",
    "        self._find_alpha(X_train=X_train,\n",
    "                         X_test=X_test,\n",
    "                         num_parameters=num_parameters,\n",
    "                         epsilon=self.epsilon,\n",
    "                         alpha_0 = alpha_0,\n",
    "                         sigma=sigma)\n",
    "        \n",
    "        return self._calculate_j(X_test,sigma=sigma)\n",
    "    \n",
    "    def _calculate_j(self, X_test, sigma):\n",
    "        return np.log(self.predict(X_test,sigma=sigma)).sum()/X_test.shape[0]\n",
    "    \n",
    "    def score(self, X_test):\n",
    "        \"\"\" Return the J score, similar to sklearn's API \"\"\"\n",
    "        return self._calculate_j(X_test=X_test, sigma=self._sigma)\n",
    "\n",
    "    @staticmethod   \n",
    "    def _reshape_X(X):\n",
    "        \"\"\" Reshape input from mxn to mx1xn to take advantage of numpy broadcasting. \"\"\"\n",
    "        if len(X.shape) != 3:\n",
    "            return X.reshape((X.shape[0],1,X.shape[1]))\n",
    "        return X\n",
    "    \n",
    "    def _select_param_vectors(self, X_test, sigma, num_parameters):\n",
    "        \"\"\" X_test is the test set. b is the number of parameters. \"\"\" \n",
    "        indices = np.random.choice(X_test.shape[0], size=num_parameters, replace=False)\n",
    "        self._test_vectors = X_test[indices,:].copy()\n",
    "        self._phi_fitted = True\n",
    "        \n",
    "    def _phi(self, X, sigma=None):\n",
    "        \n",
    "        if sigma is None:\n",
    "            sigma = self._sigma\n",
    "        \n",
    "        if self._phi_fitted:\n",
    "            return sk.rbf_kernel(X.squeeze(), self._test_vectors, sigma)\n",
    "        raise Exception('Phi not fitted.')\n",
    "\n",
    "    def _find_alpha(self, alpha_0, X_train, X_test, num_parameters, sigma, epsilon):\n",
    "        A = np.zeros(shape=(X_test.shape[0],num_parameters))\n",
    "        b = np.zeros(shape=(num_parameters,1))\n",
    "\n",
    "        A = self._phi(X_test, sigma)\n",
    "        b = self._phi(X_train, sigma).sum(axis=0) / X_train.shape[0] \n",
    "        b = b.reshape((num_parameters, 1))\n",
    "        \n",
    "        out = alpha_0.copy()\n",
    "        for k in range(self.max_iter):\n",
    "            out += epsilon*np.dot(np.transpose(A),1./np.dot(A,out))\n",
    "            out += b*(((1-np.dot(np.transpose(b),out))/np.dot(np.transpose(b),b)))\n",
    "            out = np.maximum(0,out)\n",
    "            out /= (np.dot(np.transpose(b),out))\n",
    "            \n",
    "        self._alpha = out\n",
    "        self._fitted = True\n",
    "        \n",
    "    def predict(self, X, sigma=None):\n",
    "        \"\"\" Equivalent of w(X) from the original paper.\"\"\"\n",
    "        \n",
    "        X = self._reshape_X(X)\n",
    "        if not self._fitted:\n",
    "            raise Exception('Not fitted!')\n",
    "        return np.dot(self._phi(X, sigma=sigma), self._alpha).reshape((X.shape[0],))"
   ]
  },
  {
   "cell_type": "markdown",
   "metadata": {},
   "source": [
    "# 5) Fit classifier"
   ]
  },
  {
   "cell_type": "code",
   "execution_count": 30,
   "metadata": {},
   "outputs": [],
   "source": [
    "# parameters to sweep over\n",
    "svc_sigma = 0.1\n",
    "Cs = [0.1, 1, 10, 100]"
   ]
  },
  {
   "cell_type": "markdown",
   "metadata": {},
   "source": [
    "## Baseline classifier (unweighted)"
   ]
  },
  {
   "cell_type": "code",
   "execution_count": 31,
   "metadata": {},
   "outputs": [
    {
     "name": "stdout",
     "output_type": "stream",
     "text": [
      "Baseline test error for C=0.1:  0.2\n",
      "Baseline test error for C=1:  0.2\n",
      "Baseline test error for C=10:  0.2\n",
      "Baseline test error for C=100:  0.2\n"
     ]
    }
   ],
   "source": [
    "baseline_errs = {}\n",
    "\n",
    "for C in Cs:\n",
    "    baseline_clf = SVC(C=C, gamma=svc_sigma)\n",
    "    baseline_clf.fit(X, y)\n",
    "    baseline_preds = baseline_clf.predict(Z)\n",
    "    baseline_err = np.mean(baseline_preds != u, axis=0)\n",
    "    baseline_errs[C] = baseline_err\n",
    "for c in Cs:\n",
    "    print(f'Baseline test error for C={c}: ', baseline_errs[c])"
   ]
  },
  {
   "cell_type": "markdown",
   "metadata": {},
   "source": [
    "## X-DRE classifier (weighted)"
   ]
  },
  {
   "cell_type": "code",
   "execution_count": 32,
   "metadata": {},
   "outputs": [
    {
     "name": "stdout",
     "output_type": "stream",
     "text": [
      "Processing C=0.1...\n",
      "Processing C=1...\n",
      "Processing C=10...\n",
      "Processing C=100...\n",
      "x-DRE test error for C=0.1:  0.2\n",
      "x-DRE test error for C=1:  0.2\n",
      "x-DRE test error for C=10:  0.2\n",
      "x-DRE test error for C=100:  0.2\n"
     ]
    }
   ],
   "source": [
    "x_errs = {}\n",
    "x_weights_dict = {}\n",
    "for C in Cs:\n",
    "    print(f'Processing C={C}...')\n",
    "    x_dre_clf = SVC(C=C, gamma=svc_sigma)\n",
    "    kliep = DensityRatioEstimator()\n",
    "    kliep.fit(X, Z)\n",
    "    x_weights = kliep.predict(X)\n",
    "    x_dre_clf.fit(X, y, sample_weight=x_weights)\n",
    "    x_preds = x_dre_clf.predict(Z)\n",
    "    x_err = np.mean(x_preds != u, axis=0)\n",
    "    x_errs[C] = x_err\n",
    "    x_weights_dict[C] = x_weights\n",
    "\n",
    "for c in Cs:\n",
    "    print(f'x-DRE test error for C={c}: ', x_errs[c])"
   ]
  },
  {
   "cell_type": "markdown",
   "metadata": {},
   "source": [
    "# Z-DRE classifier (weighted)"
   ]
  },
  {
   "cell_type": "code",
   "execution_count": 33,
   "metadata": {
    "scrolled": true
   },
   "outputs": [
    {
     "name": "stdout",
     "output_type": "stream",
     "text": [
      "Processing C=0.1...\n",
      "Processing C=1...\n",
      "Processing C=10...\n",
      "Processing C=100...\n",
      "z-DRE test error for C=0.1:  0.2\n",
      "z-DRE test error for C=1:  0.2\n",
      "z-DRE test error for C=10:  0.2\n",
      "z-DRE test error for C=100:  0.2\n"
     ]
    }
   ],
   "source": [
    "z_errs = {}\n",
    "z_weights_dict = {}\n",
    "for C in Cs:\n",
    "    print(f'Processing C={C}...')\n",
    "    z_dre_clf = SVC(C=C, gamma=svc_sigma)\n",
    "    kliep = DensityRatioEstimator()\n",
    "    \n",
    "    flow_X = flow.forward(torch.from_numpy(X).cpu().float())[0]\n",
    "    flow_Z = flow.forward(torch.from_numpy(Z).cpu().float())[0]\n",
    "    \n",
    "    kliep.fit(flow_X.detach().cpu().numpy().astype('float64').astype('float64'), flow_Z.detach().cpu().numpy().astype('float64'))\n",
    "    z_weights = kliep.predict(flow_X.detach().cpu().numpy().astype('float64'))\n",
    "\n",
    "    z_dre_clf.fit(X, y, sample_weight=z_weights)\n",
    "    z_preds = z_dre_clf.predict(Z)\n",
    "    z_err = np.mean(z_preds != u, axis=0)\n",
    "    z_errs[C] = z_err\n",
    "    z_weights_dict[C] = z_weights\n",
    "\n",
    "for c in Cs:\n",
    "    print(f'z-DRE test error for C={c}: ', z_errs[c])"
   ]
  },
  {
   "cell_type": "markdown",
   "metadata": {},
   "source": [
    "# 6) Plot results!"
   ]
  },
  {
   "cell_type": "code",
   "execution_count": 34,
   "metadata": {},
   "outputs": [
    {
     "data": {
      "image/png": "[encoded data removed]",
      "text/plain": [
       "<Figure size 720x432 with 1 Axes>"
      ]
     },
     "metadata": {
      "needs_background": "light"
     },
     "output_type": "display_data"
    }
   ],
   "source": [
    "width = 0.2\n",
    "plt.figure(figsize=(10,6))\n",
    "for i, c in enumerate(Cs):\n",
    "    labels = ['baseline', 'x-dre', 'z-dre'] if i == 0 else [None, None, None]\n",
    "    \n",
    "    plt.bar(i, baseline_errs[c],  width, label=labels[0], color=u'#1f77b4')\n",
    "    plt.bar(i + width,  x_errs[c], width, label=labels[1], color=u'#ff7f0e')\n",
    "    plt.bar(i + 2*width,  z_errs[c], width, label=labels[2], color=u'#2ca02c')\n",
    "\n",
    "plt.xticks(np.arange(4), Cs)\n",
    "plt.xlabel('Value of C')\n",
    "plt.ylabel('Test error')\n",
    "plt.ylim(0, 0.85)\n",
    "\n",
    "plt.title('KLIEP Performance: Blood Transfusion Dataset')\n",
    "plt.legend()\n",
    "plt.show()"
   ]
  }
 ],
 "metadata": {
  "kernelspec": {
   "display_name": "Python 3",
   "language": "python",
   "name": "python3"
  },
  "language_info": {
   "codemirror_mode": {
    "name": "ipython",
    "version": 3
   },
   "file_extension": ".py",
   "mimetype": "text/x-python",
   "name": "python",
   "nbconvert_exporter": "python",
   "pygments_lexer": "ipython3",
   "version": "3.6.10"
  }
 },
 "nbformat": 4,
 "nbformat_minor": 2
}
