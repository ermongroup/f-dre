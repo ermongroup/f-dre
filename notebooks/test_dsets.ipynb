{
 "cells": [
  {
   "cell_type": "code",
   "execution_count": 1,
   "metadata": {},
   "outputs": [
    {
     "name": "stdout",
     "output_type": "stream",
     "text": [
      "/atlas/u/madeline/multi-fairgen/src\n"
     ]
    }
   ],
   "source": [
    "cd ../src"
   ]
  },
  {
   "cell_type": "code",
   "execution_count": 2,
   "metadata": {},
   "outputs": [],
   "source": [
    "import argparse\n",
    "import numpy as np\n",
    "import os\n",
    "import sys\n",
    "import torch\n",
    "import yaml\n",
    "from datasets.data import fetch_dataloaders\n",
    "from torch.utils.data import DataLoader"
   ]
  },
  {
   "cell_type": "code",
   "execution_count": 3,
   "metadata": {},
   "outputs": [],
   "source": [
    "from torchvision.transforms import ToPILImage\n",
    "from IPython.display import Image\n",
    "to_img = ToPILImage()    "
   ]
  },
  {
   "cell_type": "code",
   "execution_count": 4,
   "metadata": {},
   "outputs": [],
   "source": [
    "def dict2namespace(config):\n",
    "    namespace = argparse.Namespace()\n",
    "    for key, value in config.items():\n",
    "        if isinstance(value, dict):\n",
    "            new_value = dict2namespace(value)\n",
    "        else:\n",
    "            new_value = value\n",
    "        setattr(namespace, key, new_value)\n",
    "    return namespace"
   ]
  },
  {
   "cell_type": "code",
   "execution_count": 5,
   "metadata": {
    "scrolled": false
   },
   "outputs": [
    {
     "name": "stderr",
     "output_type": "stream",
     "text": [
      "/atlas/u/madeline/miniconda3/envs/fairgen/lib/python3.6/site-packages/ipykernel_launcher.py:2: YAMLLoadWarning: calling yaml.load() without Loader=... is deprecated, as the default Loader is unsafe. Please read https://msg.pyyaml.org/load for full details.\n",
      "  \n"
     ]
    }
   ],
   "source": [
    "with open('/atlas/u/madeline/multi-fairgen/src/configs/flows/mnist_subset/digits_mnist_subset_perc0.1.yaml') as f:\n",
    "    config = yaml.load(f)\n",
    "config = dict2namespace(config)"
   ]
  },
  {
   "cell_type": "code",
   "execution_count": null,
   "metadata": {},
   "outputs": [],
   "source": []
  },
  {
   "cell_type": "code",
   "execution_count": 6,
   "metadata": {},
   "outputs": [],
   "source": [
    "config.data.dataset='SplitEncodedMNIST'\n",
    "config.model.name = 'maf'\n",
    "config.data.encoded_dataset = 'DigitMNISTSubset'"
   ]
  },
  {
   "cell_type": "code",
   "execution_count": 7,
   "metadata": {},
   "outputs": [
    {
     "data": {
      "text/plain": [
       "Namespace(attr=None, classify=True, encode_z=False)"
      ]
     },
     "execution_count": 7,
     "metadata": {},
     "output_type": "execute_result"
    }
   ],
   "source": [
    "args = argparse.Namespace(\n",
    "    encode_z=False,\n",
    "    attr=None,\n",
    "    classify=True\n",
    ")\n",
    "args"
   ]
  },
  {
   "cell_type": "code",
   "execution_count": 8,
   "metadata": {},
   "outputs": [
    {
     "name": "stdout",
     "output_type": "stream",
     "text": [
      "loading dataset from /atlas/u/madeline/multi-fairgen/data/encodings/DigitMNISTSubset/maf_train_ref_z_perc0.1.npz\n",
      "loading dataset from /atlas/u/madeline/multi-fairgen/data/encodings/DigitMNISTSubset/maf_train_biased_z_perc0.1.npz\n",
      "loading dataset from /atlas/u/madeline/multi-fairgen/data/encodings/DigitMNISTSubset/maf_val_ref_z_perc0.1.npz\n",
      "loading dataset from /atlas/u/madeline/multi-fairgen/data/encodings/DigitMNISTSubset/maf_val_biased_z_perc0.1.npz\n",
      "loading dataset from /atlas/u/madeline/multi-fairgen/data/encodings/DigitMNISTSubset/maf_test_ref_z_perc0.1.npz\n",
      "loading dataset from /atlas/u/madeline/multi-fairgen/data/encodings/DigitMNISTSubset/maf_test_biased_z_perc0.1.npz\n"
     ]
    }
   ],
   "source": [
    "train, val, test = fetch_dataloaders(config.data.dataset, config.training.batch_size, torch.device('cpu'), args, config)"
   ]
  },
  {
   "cell_type": "code",
   "execution_count": 11,
   "metadata": {},
   "outputs": [
    {
     "data": {
      "image/png": "[encoded data removed]",
      "text/plain": [
       "<PIL.Image.Image image mode=L size=28x28 at 0x7FA1C352C4A8>"
      ]
     },
     "metadata": {},
     "output_type": "display_data"
    },
    {
     "name": "stdout",
     "output_type": "stream",
     "text": [
      "tensor([[ 0.4666, -0.4011, -0.5361,  ..., -0.2856,  0.7424,  1.3688],\n",
      "        [-0.7023,  0.4895,  0.1766,  ...,  0.8358,  0.0579,  0.9913],\n",
      "        [ 0.8575, -0.4157,  1.0996,  ...,  0.8109, -1.4554,  0.4696],\n",
      "        ...,\n",
      "        [-0.0449,  0.1084, -0.0761,  ..., -0.4967,  1.3848,  1.5167],\n",
      "        [ 0.7701, -0.0111, -0.5926,  ...,  0.7598, -1.0507,  0.6168],\n",
      "        [ 0.1166,  0.5965, -0.4115,  ...,  0.8125,  0.2802,  0.8772]])\n"
     ]
    },
    {
     "data": {
      "image/png": "[encoded data removed]",
      "text/plain": [
       "<PIL.Image.Image image mode=L size=28x28 at 0x7FA1C352C128>"
      ]
     },
     "metadata": {},
     "output_type": "display_data"
    },
    {
     "name": "stdout",
     "output_type": "stream",
     "text": [
      "tensor([[ 0.7433, -1.4545, -0.5379,  ..., -0.9392,  0.4152,  0.2334],\n",
      "        [ 0.1118, -0.3316,  0.5541,  ..., -0.2513, -0.0318,  0.1540],\n",
      "        [ 0.3883, -0.1509, -0.1053,  ...,  0.9303,  0.1795, -0.7205],\n",
      "        ...,\n",
      "        [-1.1911, -0.0809, -0.3071,  ...,  1.6651,  0.3587, -0.0555],\n",
      "        [-0.4044, -0.5223, -1.9771,  ...,  0.6392, -1.5139, -0.2436],\n",
      "        [ 0.7204, -0.5008,  0.4617,  ..., -0.7326,  0.9598, -0.3278]])\n"
     ]
    },
    {
     "data": {
      "image/png": "[encoded data removed]",
      "text/plain": [
       "<PIL.Image.Image image mode=L size=28x28 at 0x7FA1C352C128>"
      ]
     },
     "metadata": {},
     "output_type": "display_data"
    },
    {
     "name": "stdout",
     "output_type": "stream",
     "text": [
      "tensor([[ 1.3147, -1.9266, -0.2884,  ...,  0.8419,  0.2350, -0.3142],\n",
      "        [ 0.7799,  0.3490,  0.8731,  ..., -0.5898, -0.5113, -0.4485],\n",
      "        [ 0.2845, -1.8519,  0.4455,  ...,  0.8818,  1.2798, -0.4421],\n",
      "        ...,\n",
      "        [-0.2738,  0.4346, -0.7846,  ...,  1.6097,  1.5884,  1.2281],\n",
      "        [ 0.7766, -0.1348,  0.9315,  ...,  0.3113, -0.8426, -0.8427],\n",
      "        [ 0.4207,  1.0461, -0.0445,  ...,  0.9802, -0.5143,  0.6119]])\n"
     ]
    },
    {
     "data": {
      "image/png": "[encoded data removed]",
      "text/plain": [
       "<PIL.Image.Image image mode=L size=28x28 at 0x7FA1BDEA3B00>"
      ]
     },
     "metadata": {},
     "output_type": "display_data"
    },
    {
     "name": "stdout",
     "output_type": "stream",
     "text": [
      "tensor([[ 0.6631, -0.1457, -1.2511,  ...,  1.1400, -0.5468, -4.4877],\n",
      "        [ 0.8909,  0.2825, -0.3483,  ...,  1.2316, -1.6687,  0.3175],\n",
      "        [-0.8021, -2.1227, -1.2052,  ...,  0.2728,  1.1712,  0.9201],\n",
      "        ...,\n",
      "        [ 0.4751,  0.0510, -0.6690,  ..., -0.2335, -1.0255, -1.1438],\n",
      "        [-0.5635,  0.9464,  0.6049,  ...,  0.1614,  0.2667,  0.2045],\n",
      "        [ 0.9647,  0.7141,  0.1065,  ..., -0.4578,  0.6353, -0.3997]])\n"
     ]
    },
    {
     "data": {
      "image/png": "[encoded data removed]",
      "text/plain": [
       "<PIL.Image.Image image mode=L size=28x28 at 0x7FA1C3546C88>"
      ]
     },
     "metadata": {},
     "output_type": "display_data"
    },
    {
     "name": "stdout",
     "output_type": "stream",
     "text": [
      "tensor([[-0.0113,  1.0439, -0.6966,  ..., -0.4447,  1.0240,  0.0023],\n",
      "        [-0.3441,  0.5867,  0.5653,  ...,  0.0121,  0.7407,  0.1043],\n",
      "        [ 0.2714,  0.3559, -1.1652,  ..., -0.5316,  0.6595,  0.7594],\n",
      "        ...,\n",
      "        [ 0.4910,  0.6960, -0.8848,  ...,  1.0251,  0.6804, -0.6538],\n",
      "        [ 0.5794, -0.9423,  1.1034,  ...,  0.7960, -0.7550, -0.2509],\n",
      "        [ 1.0581, -1.4915,  0.3831,  ..., -0.1290,  1.1320,  0.7773]])\n"
     ]
    },
    {
     "data": {
      "image/png": "[encoded data removed]",
      "text/plain": [
       "<PIL.Image.Image image mode=L size=28x28 at 0x7FA1C3546C18>"
      ]
     },
     "metadata": {},
     "output_type": "display_data"
    },
    {
     "name": "stdout",
     "output_type": "stream",
     "text": [
      "tensor([[ 0.5973,  0.7342, -0.4038,  ...,  0.3630,  1.0220, -0.5942],\n",
      "        [ 0.2984, -1.3387,  0.7327,  ...,  1.0245,  0.7001,  1.0711],\n",
      "        [-1.5805, -0.3117, -0.2262,  ...,  0.4987,  0.1128,  0.2603],\n",
      "        ...,\n",
      "        [ 1.1926,  0.6411, -0.4880,  ...,  0.4875,  1.3054,  0.1804],\n",
      "        [ 0.0754,  0.7095,  0.3629,  ...,  0.4363,  0.5611,  0.8971],\n",
      "        [ 0.9650,  0.1798,  0.2224,  ..., -0.1004, -0.2973, -0.2229]])\n"
     ]
    },
    {
     "data": {
      "image/png": "[encoded data removed]",
      "text/plain": [
       "<PIL.Image.Image image mode=L size=28x28 at 0x7FA1C3546C50>"
      ]
     },
     "metadata": {},
     "output_type": "display_data"
    },
    {
     "name": "stdout",
     "output_type": "stream",
     "text": [
      "tensor([[ 0.3456,  0.5547, -0.1970,  ...,  0.6906,  0.4439, -0.0853],\n",
      "        [-0.0300, -0.8845,  0.4225,  ...,  0.9237,  0.1926, -0.0616],\n",
      "        [ 0.3154,  0.7163,  0.5897,  ..., -0.0053,  1.2440,  0.8467],\n",
      "        ...,\n",
      "        [-1.4937,  1.1395, -0.2253,  ..., -0.1164, -4.7676, -2.6038],\n",
      "        [-0.0666, -0.4017, -0.7359,  ...,  0.7007, -0.1250,  0.1707],\n",
      "        [ 1.0395,  1.0147,  0.0213,  ...,  0.5278, -0.1056,  0.2685]])\n"
     ]
    },
    {
     "data": {
      "image/png": "[encoded data removed]",
      "text/plain": [
       "<PIL.Image.Image image mode=L size=28x28 at 0x7FA1C352C0F0>"
      ]
     },
     "metadata": {},
     "output_type": "display_data"
    },
    {
     "name": "stdout",
     "output_type": "stream",
     "text": [
      "tensor([[ 0.0052,  1.0104, -0.0817,  ...,  0.6377,  1.0520,  1.4342],\n",
      "        [ 0.1444,  0.2937,  0.3009,  ..., -0.0841, -1.1964, -0.9345],\n",
      "        [ 0.1120,  0.9356,  0.5401,  ...,  0.5845, -0.0312, -1.5438],\n",
      "        ...,\n",
      "        [-1.6027,  0.9819,  0.3062,  ...,  0.1320,  0.7267,  0.9981],\n",
      "        [-2.6638, -0.4875,  0.3155,  ..., -0.8198,  0.8892,  1.0402],\n",
      "        [-3.8092,  0.3829,  0.6569,  ...,  0.6227,  1.5943,  0.9554]])\n"
     ]
    },
    {
     "data": {
      "image/png": "[encoded data removed]",
      "text/plain": [
       "<PIL.Image.Image image mode=L size=28x28 at 0x7FA1BDEA3BA8>"
      ]
     },
     "metadata": {},
     "output_type": "display_data"
    },
    {
     "name": "stdout",
     "output_type": "stream",
     "text": [
      "tensor([[-0.0226,  0.1848, -0.7172,  ...,  0.5969,  0.1904,  0.4343],\n",
      "        [-1.4720,  0.1641, -0.3433,  ..., -0.2225, -0.4288,  0.8091],\n",
      "        [ 0.0553,  0.5552,  0.1529,  ...,  0.7163, -0.3163, -1.1549],\n",
      "        ...,\n",
      "        [-0.3052,  0.7611, -1.5123,  ...,  0.6429, -0.9502,  0.0240],\n",
      "        [ 0.0613, -0.8806,  0.7374,  ...,  0.7438,  0.4459, -0.0125],\n",
      "        [ 1.1770, -1.4625,  0.3420,  ..., -0.1765, -0.3081, -1.1557]])\n"
     ]
    },
    {
     "data": {
      "image/png": "[encoded data removed]",
      "text/plain": [
       "<PIL.Image.Image image mode=L size=28x28 at 0x7FA1C3546C88>"
      ]
     },
     "metadata": {},
     "output_type": "display_data"
    },
    {
     "name": "stdout",
     "output_type": "stream",
     "text": [
      "tensor([[-0.2084,  0.8733,  0.3120,  ..., -0.6782,  0.0122,  0.6099],\n",
      "        [ 0.4486,  0.1146,  0.6677,  ..., -0.6090,  0.2101, -1.3369],\n",
      "        [-0.8918,  1.4138, -2.5239,  ...,  0.4537,  0.2030,  0.3597],\n",
      "        ...,\n",
      "        [-0.3772,  0.7648,  0.3846,  ...,  0.7094,  0.8932, -1.2544],\n",
      "        [ 0.6686, -0.4289,  0.7195,  ...,  0.5297,  0.0494,  0.9709],\n",
      "        [-0.6716,  1.3828,  0.3568,  ..., -1.1947,  0.9896,  0.6646]])\n"
     ]
    },
    {
     "data": {
      "image/png": "[encoded data removed]",
      "text/plain": [
       "<PIL.Image.Image image mode=L size=28x28 at 0x7FA1C3546C18>"
      ]
     },
     "metadata": {},
     "output_type": "display_data"
    },
    {
     "name": "stdout",
     "output_type": "stream",
     "text": [
      "tensor([[ 0.6130,  1.1218, -0.4104,  ...,  0.4791, -0.9103, -0.7762],\n",
      "        [ 0.7020,  0.3005, -3.0971,  ...,  0.9875,  2.0645,  1.8345],\n",
      "        [-1.6450,  1.5000, -0.3451,  ..., -0.6208,  1.1765,  1.1673],\n",
      "        ...,\n",
      "        [-0.1325, -2.3920, -0.2211,  ...,  0.5824,  0.2096, -2.3867],\n",
      "        [-1.1435,  0.0849,  0.4728,  ...,  0.9490,  1.2014,  1.2264],\n",
      "        [ 0.4845,  1.2168,  0.3190,  ...,  0.9603, -0.1517, -0.1670]])\n"
     ]
    },
    {
     "data": {
      "image/png": "[encoded data removed]",
      "text/plain": [
       "<PIL.Image.Image image mode=L size=28x28 at 0x7FA1C3546B38>"
      ]
     },
     "metadata": {},
     "output_type": "display_data"
    },
    {
     "name": "stdout",
     "output_type": "stream",
     "text": [
      "tensor([[ 0.5563, -0.3480, -0.6328,  ...,  0.4366, -1.5144,  0.0908],\n",
      "        [-1.3347,  0.4831,  0.6361,  ...,  0.8373, -0.7512, -0.7623],\n",
      "        [ 0.3427,  0.1133, -0.5085,  ...,  1.1428, -1.2816, -2.5590],\n",
      "        ...,\n",
      "        [-1.9845, -0.3639,  0.2454,  ..., -0.6190, -0.9641, -0.2893],\n",
      "        [-1.1688, -0.3044,  0.6174,  ..., -0.2186, -0.1145, -0.3341],\n",
      "        [-2.1367, -1.1792, -0.1306,  ...,  1.0090,  0.0903,  0.2919]])\n"
     ]
    },
    {
     "data": {
      "image/png": "[encoded data removed]",
      "text/plain": [
       "<PIL.Image.Image image mode=L size=28x28 at 0x7FA1C352C358>"
      ]
     },
     "metadata": {},
     "output_type": "display_data"
    },
    {
     "name": "stdout",
     "output_type": "stream",
     "text": [
      "tensor([[ 0.6169,  0.2837,  0.4707,  ..., -0.8363, -0.3654,  0.1276],\n",
      "        [-0.2793,  0.0112,  0.1264,  ...,  0.3480,  0.0617,  0.9299],\n",
      "        [-0.0536,  0.0197,  0.2140,  ...,  0.9977,  0.4007,  1.1971],\n",
      "        ...,\n",
      "        [-0.6525,  0.8472, -0.3814,  ...,  0.1951, -0.2676,  0.4138],\n",
      "        [-2.2950,  1.0327,  0.2554,  ...,  0.5038,  0.7169,  0.9597],\n",
      "        [ 0.4295, -0.3627,  0.4910,  ..., -2.2262,  0.3497,  1.1710]])\n"
     ]
    },
    {
     "data": {
      "image/png": "[encoded data removed]",
      "text/plain": [
       "<PIL.Image.Image image mode=L size=28x28 at 0x7FA1BDEA3AC8>"
      ]
     },
     "metadata": {},
     "output_type": "display_data"
    },
    {
     "name": "stdout",
     "output_type": "stream",
     "text": [
      "tensor([[-2.0067,  0.8360, -0.2375,  ...,  0.7605, -0.9281, -0.0526],\n",
      "        [-0.0492, -1.9055,  0.5205,  ..., -0.9647, -1.3638, -0.0396],\n",
      "        [ 0.6368,  0.1465,  1.0359,  ..., -0.9952, -1.2117, -0.3757],\n",
      "        ...,\n",
      "        [-0.4963,  0.6654,  0.3631,  ..., -0.7671, -1.2306, -0.2563],\n",
      "        [ 0.1334, -0.8307,  0.3639,  ..., -0.0917,  0.4579,  0.5541],\n",
      "        [ 0.7219,  0.7191,  0.5166,  ...,  0.5405,  0.4683,  0.7420]])\n"
     ]
    },
    {
     "data": {
      "image/png": "[encoded data removed]",
      "text/plain": [
       "<PIL.Image.Image image mode=L size=28x28 at 0x7FA1C3546C88>"
      ]
     },
     "metadata": {},
     "output_type": "display_data"
    },
    {
     "name": "stdout",
     "output_type": "stream",
     "text": [
      "tensor([[ 0.4289,  1.3218, -3.2322,  ..., -1.5512,  0.9369,  0.7537],\n",
      "        [ 0.2494, -0.3504,  0.8248,  ...,  0.7491, -0.4429, -0.3085],\n",
      "        [ 0.4366, -0.6841,  0.5862,  ...,  0.3805,  0.1678, -0.1232],\n",
      "        ...,\n",
      "        [-0.7889,  0.6297, -0.4984,  ...,  0.6910,  0.1300, -0.0972],\n",
      "        [ 0.6876, -0.4484, -2.0458,  ..., -0.1572,  0.5313, -2.1388],\n",
      "        [ 0.3692,  0.2101,  1.0339,  ..., -0.0753,  0.4252,  0.4494]])\n"
     ]
    },
    {
     "data": {
      "image/png": "[encoded data removed]",
      "text/plain": [
       "<PIL.Image.Image image mode=L size=28x28 at 0x7FA1C3546B38>"
      ]
     },
     "metadata": {},
     "output_type": "display_data"
    },
    {
     "name": "stdout",
     "output_type": "stream",
     "text": [
      "tensor([[ 0.4787,  0.5645,  0.7491,  ..., -2.8171, -1.8934, -2.7445],\n",
      "        [-0.0836,  0.9670, -0.1776,  ..., -0.1842,  0.7098,  0.3085],\n",
      "        [-0.9973,  0.1677,  0.7083,  ..., -1.2108,  1.2068,  1.1359],\n",
      "        ...,\n",
      "        [ 0.4799, -0.0054, -0.0620,  ...,  0.2444,  0.4986, -0.3745],\n",
      "        [ 1.2768,  0.8366, -0.0578,  ..., -0.1537,  1.3820,  1.2616],\n",
      "        [-0.8427, -0.8348,  0.2183,  ..., -0.7301,  1.3735,  1.7640]])\n"
     ]
    },
    {
     "data": {
      "image/png": "[encoded data removed]",
      "text/plain": [
       "<PIL.Image.Image image mode=L size=28x28 at 0x7FA1C3546C18>"
      ]
     },
     "metadata": {},
     "output_type": "display_data"
    },
    {
     "name": "stdout",
     "output_type": "stream",
     "text": [
      "tensor([[-0.6891,  0.3452,  0.5163,  ..., -3.1500,  1.1524,  0.9111],\n",
      "        [ 0.0169, -1.1860,  0.5567,  ...,  0.3396, -0.5455,  0.0670],\n",
      "        [ 0.5727, -0.6670,  0.4506,  ...,  0.6320,  1.1235,  1.1968],\n",
      "        ...,\n",
      "        [ 0.7280,  0.6160,  0.8304,  ...,  1.2519, -0.0844, -0.1948],\n",
      "        [ 0.3891, -0.8785, -0.0634,  ...,  1.2554,  0.0143, -0.9706],\n",
      "        [-1.7780,  0.1320, -0.5335,  ...,  0.8748, -0.6129,  0.1685]])\n"
     ]
    },
    {
     "data": {
      "image/png": "[encoded data removed]",
      "text/plain": [
       "<PIL.Image.Image image mode=L size=28x28 at 0x7FA1C352C320>"
      ]
     },
     "metadata": {},
     "output_type": "display_data"
    },
    {
     "name": "stdout",
     "output_type": "stream",
     "text": [
      "tensor([[ 0.0764,  0.5175,  0.0163,  ..., -1.3418,  0.5859, -0.5242],\n",
      "        [-0.6493, -0.5506, -1.0068,  ...,  1.2413, -0.3362, -0.7144],\n",
      "        [ 0.6207,  0.9931,  0.2916,  ...,  0.4378, -0.0817,  1.1441],\n",
      "        ...,\n",
      "        [ 0.4551,  1.2331, -0.0662,  ..., -0.9658,  1.4090,  0.5840],\n",
      "        [-0.5528,  0.4096,  0.6895,  ..., -0.0154, -0.7916,  0.3371],\n",
      "        [-1.3973,  0.5423,  0.4300,  ..., -0.3643, -0.0359,  0.3213]])\n"
     ]
    },
    {
     "data": {
      "image/png": "[encoded data removed]",
      "text/plain": [
       "<PIL.Image.Image image mode=L size=28x28 at 0x7FA1BDEA3278>"
      ]
     },
     "metadata": {},
     "output_type": "display_data"
    },
    {
     "name": "stdout",
     "output_type": "stream",
     "text": [
      "tensor([[-0.2251,  0.6200, -0.7253,  ..., -0.1707,  0.6682,  0.7523],\n",
      "        [-0.2778,  0.2816, -0.0603,  ...,  0.3290, -0.1346, -0.9931],\n",
      "        [-0.5809,  1.1082,  0.0852,  ...,  0.5781, -0.1293,  0.4953],\n",
      "        ...,\n",
      "        [-0.3681,  0.7765, -0.8038,  ...,  0.7542, -0.2712,  0.4933],\n",
      "        [ 0.8511,  0.2147,  0.5927,  ...,  0.1587,  0.1852,  0.1623],\n",
      "        [ 0.6908, -3.6691,  0.7647,  ...,  0.1518,  0.7244,  0.9093]])\n"
     ]
    },
    {
     "data": {
      "image/png": "[encoded data removed]",
      "text/plain": [
       "<PIL.Image.Image image mode=L size=28x28 at 0x7FA1C3546C88>"
      ]
     },
     "metadata": {},
     "output_type": "display_data"
    },
    {
     "name": "stdout",
     "output_type": "stream",
     "text": [
      "tensor([[-0.8507,  0.4712,  0.4537,  ...,  0.7308, -0.3080,  0.1921],\n",
      "        [-0.3678, -0.8037,  0.1784,  ..., -1.5712,  0.7335,  0.3238],\n",
      "        [ 0.4010,  0.8881, -0.7739,  ..., -0.8676,  1.4353,  1.5143],\n",
      "        ...,\n",
      "        [-0.6893,  1.2180,  0.6070,  ...,  0.1987, -0.9294, -0.5821],\n",
      "        [ 0.6488, -0.0498,  0.3115,  ..., -0.6054, -1.1984,  0.4905],\n",
      "        [ 0.6210,  0.2029,  0.3258,  ...,  0.8017,  0.0761, -0.2993]])\n"
     ]
    },
    {
     "data": {
      "image/png": "[encoded data removed]",
      "text/plain": [
       "<PIL.Image.Image image mode=L size=28x28 at 0x7FA1C3546C18>"
      ]
     },
     "metadata": {},
     "output_type": "display_data"
    },
    {
     "name": "stdout",
     "output_type": "stream",
     "text": [
      "tensor([[-0.5843, -2.8190,  0.7927,  ...,  0.8422, -0.8058, -1.1548],\n",
      "        [ 0.1955,  1.1434, -1.2132,  ...,  0.4013,  1.0358,  0.9629],\n",
      "        [-2.9777, -0.6124,  0.4495,  ...,  0.2992,  1.2009,  1.5315],\n",
      "        ...,\n",
      "        [ 0.1993,  0.0669,  0.0706,  ...,  1.0357,  0.7821,  1.4185],\n",
      "        [ 0.2978, -0.5151, -0.6823,  ...,  0.3071,  0.1277, -0.0399],\n",
      "        [ 0.1275,  0.0427,  0.5247,  ...,  0.9819,  1.4476,  1.3405]])\n"
     ]
    },
    {
     "data": {
      "image/png": "[encoded data removed]",
      "text/plain": [
       "<PIL.Image.Image image mode=L size=28x28 at 0x7FA1C3546B38>"
      ]
     },
     "metadata": {},
     "output_type": "display_data"
    },
    {
     "name": "stdout",
     "output_type": "stream",
     "text": [
      "tensor([[-1.6147,  0.2212,  0.5991,  ...,  1.1821, -0.6374, -1.8368],\n",
      "        [-0.9465,  0.5806,  0.0386,  ..., -0.1791,  1.3553,  1.2106],\n",
      "        [-0.7350, -0.1034, -1.3913,  ..., -0.1796, -0.6943, -0.7031],\n",
      "        ...,\n",
      "        [ 0.7827,  1.3730,  0.4229,  ...,  0.9614,  1.0281,  0.0468],\n",
      "        [-1.3255,  1.0728,  0.2740,  ...,  1.3283,  0.7105, -2.0365],\n",
      "        [-0.4756,  0.2207, -2.0910,  ..., -0.0533,  0.9782,  0.4841]])\n"
     ]
    },
    {
     "data": {
      "image/png": "[encoded data removed]",
      "text/plain": [
       "<PIL.Image.Image image mode=L size=28x28 at 0x7FA1C352C2E8>"
      ]
     },
     "metadata": {},
     "output_type": "display_data"
    },
    {
     "name": "stdout",
     "output_type": "stream",
     "text": [
      "tensor([[-0.2611,  1.0901, -2.4059,  ...,  0.1336,  0.5848,  0.6738],\n",
      "        [-0.7542,  0.0414, -0.6060,  ..., -0.4661,  0.0555, -1.7528],\n",
      "        [-0.4403, -0.2912,  0.8797,  ...,  0.4894, -1.7505, -2.8010],\n",
      "        ...,\n",
      "        [-1.3812,  0.8567, -0.2628,  ..., -0.0588, -0.0909,  1.0903],\n",
      "        [-0.8578,  0.2505,  0.1056,  ...,  0.3956, -1.0181, -0.3806],\n",
      "        [-4.5777, -0.4320,  0.2424,  ...,  1.0494,  0.4890, -0.5851]])\n"
     ]
    },
    {
     "data": {
      "image/png": "[encoded data removed]",
      "text/plain": [
       "<PIL.Image.Image image mode=L size=28x28 at 0x7FA1BDEA3C18>"
      ]
     },
     "metadata": {},
     "output_type": "display_data"
    },
    {
     "name": "stdout",
     "output_type": "stream",
     "text": [
      "tensor([[-1.5294,  0.4090,  0.9262,  ...,  0.2491, -0.9035, -0.1312],\n",
      "        [ 0.9094,  1.2354, -1.1216,  ...,  0.5858,  1.2953,  0.4897],\n",
      "        [-0.4406,  0.5932, -1.1513,  ..., -0.1123, -1.2795, -0.2845],\n",
      "        ...,\n",
      "        [ 0.1121, -0.3282,  0.5758,  ..., -0.3749,  0.0399, -0.0594],\n",
      "        [ 0.3680,  0.5682, -0.0300,  ..., -0.2886,  0.6527, -1.1660],\n",
      "        [ 0.5860,  0.4472,  0.6951,  ...,  1.0303, -0.2255, -0.2827]])\n"
     ]
    },
    {
     "data": {
      "image/png": "[encoded data removed]",
      "text/plain": [
       "<PIL.Image.Image image mode=L size=28x28 at 0x7FA1C3546C88>"
      ]
     },
     "metadata": {},
     "output_type": "display_data"
    },
    {
     "name": "stdout",
     "output_type": "stream",
     "text": [
      "tensor([[-0.2565,  1.3240,  0.0381,  ...,  1.2865,  1.9635,  1.3560],\n",
      "        [-0.5753,  1.0581, -0.1711,  ...,  0.3955, -4.4271,  0.6948],\n",
      "        [ 0.9257,  0.8418, -0.5439,  ...,  0.2465,  1.2455,  0.4339],\n",
      "        ...,\n",
      "        [ 0.2478,  0.0240,  0.4966,  ..., -0.1376,  1.0793,  1.2289],\n",
      "        [-0.0143, -2.1078,  0.3981,  ..., -0.3343,  0.8534, -0.3136],\n",
      "        [-0.5421,  1.0258,  0.4135,  ..., -0.1386,  0.7908,  1.1154]])\n"
     ]
    },
    {
     "data": {
      "image/png": "[encoded data removed]",
      "text/plain": [
       "<PIL.Image.Image image mode=L size=28x28 at 0x7FA1C3546C18>"
      ]
     },
     "metadata": {},
     "output_type": "display_data"
    },
    {
     "name": "stdout",
     "output_type": "stream",
     "text": [
      "tensor([[ 0.4666,  0.8462,  0.4371,  ...,  0.4225,  0.0254,  0.0407],\n",
      "        [ 0.5818, -0.4074,  1.5155,  ...,  0.9187, -1.0370, -0.6557],\n",
      "        [-0.4335, -2.9898,  0.3675,  ...,  1.0344,  0.4294, -3.4729],\n",
      "        ...,\n",
      "        [ 0.6703,  0.9665, -0.1920,  ..., -0.6925,  0.1347, -1.2011],\n",
      "        [ 0.5975,  1.2273,  0.1852,  ...,  0.3593,  0.2479,  0.5415],\n",
      "        [ 0.3313,  1.1535,  0.1236,  ...,  0.9084,  0.9465,  0.9528]])\n"
     ]
    },
    {
     "data": {
      "image/png": "[encoded data removed]",
      "text/plain": [
       "<PIL.Image.Image image mode=L size=28x28 at 0x7FA1C3546B38>"
      ]
     },
     "metadata": {},
     "output_type": "display_data"
    },
    {
     "name": "stdout",
     "output_type": "stream",
     "text": [
      "tensor([[-1.2082,  0.4363,  0.6969,  ...,  1.0261,  0.3878,  0.6883],\n",
      "        [ 0.1152,  0.6020, -0.9255,  ..., -0.8168,  0.4263,  0.1761],\n",
      "        [ 0.4564,  0.5266,  0.4222,  ..., -0.9139,  1.0685,  1.3267],\n",
      "        ...,\n",
      "        [-1.7117,  1.1371, -1.8431,  ...,  0.6985, -0.3073,  0.4037],\n",
      "        [ 0.5161,  0.5537,  1.0970,  ...,  0.4537, -0.3491,  1.0824],\n",
      "        [-2.0040,  0.3189, -0.5004,  ...,  0.2537,  0.6147,  0.4531]])\n"
     ]
    },
    {
     "data": {
      "image/png": "[encoded data removed]",
      "text/plain": [
       "<PIL.Image.Image image mode=L size=28x28 at 0x7FA1C352C0F0>"
      ]
     },
     "metadata": {},
     "output_type": "display_data"
    },
    {
     "name": "stdout",
     "output_type": "stream",
     "text": [
      "tensor([[ 0.1097,  0.5674,  0.8140,  ...,  0.5716,  0.5411,  0.3416],\n",
      "        [-0.2812,  1.5102,  0.3383,  ..., -0.5821,  0.1737,  0.0406],\n",
      "        [ 0.6524,  0.3978, -0.6700,  ...,  0.7875,  0.4809,  0.6875],\n",
      "        ...,\n",
      "        [ 0.3353, -0.4780,  0.5312,  ...,  0.9008,  0.7722,  1.5142],\n",
      "        [ 0.2050,  0.1023,  0.2856,  ..., -0.0745, -1.2016, -0.7747],\n",
      "        [ 0.0858, -1.8930,  0.3760,  ...,  0.3309,  0.6770,  0.4526]])\n"
     ]
    },
    {
     "data": {
      "image/png": "[encoded data removed]",
      "text/plain": [
       "<PIL.Image.Image image mode=L size=28x28 at 0x7FA1BDEA3C88>"
      ]
     },
     "metadata": {},
     "output_type": "display_data"
    },
    {
     "name": "stdout",
     "output_type": "stream",
     "text": [
      "tensor([[-1.3093e+00,  7.9454e-01, -8.5308e-02,  ...,  6.4884e-02,\n",
      "         -3.2168e+00,  3.1450e-01],\n",
      "        [-7.4005e-01,  2.5502e-01, -1.1283e+00,  ..., -1.4372e+00,\n",
      "         -6.8851e-01, -1.1792e+00],\n",
      "        [-1.0925e-01, -7.8084e-01, -2.2446e+00,  ..., -3.4653e-01,\n",
      "         -1.3775e-01, -8.7753e-01],\n",
      "        ...,\n",
      "        [-2.1582e-01,  6.5051e-01,  4.4313e-01,  ...,  1.2493e+00,\n",
      "         -2.8897e+00,  2.2640e-01],\n",
      "        [ 7.9243e-01,  6.5860e-01, -1.2072e+00,  ...,  1.3515e+00,\n",
      "         -1.4620e+00,  7.8019e-01],\n",
      "        [-1.2349e+00,  5.4451e-01,  4.6303e-01,  ..., -5.4812e-01,\n",
      "          9.1468e-01, -2.8489e-03]])\n"
     ]
    },
    {
     "data": {
      "image/png": "[encoded data removed]",
      "text/plain": [
       "<PIL.Image.Image image mode=L size=28x28 at 0x7FA1C3546C88>"
      ]
     },
     "metadata": {},
     "output_type": "display_data"
    },
    {
     "name": "stdout",
     "output_type": "stream",
     "text": [
      "tensor([[ 4.2539e-01,  7.9565e-01, -1.3856e-01,  ...,  1.1114e+00,\n",
      "         -1.4406e+00,  5.1262e-01],\n",
      "        [ 2.7261e-01, -3.9934e-01,  5.7174e-02,  ..., -4.1380e+00,\n",
      "          6.6617e-01, -7.3003e-03],\n",
      "        [-1.8867e-01, -2.1824e+00, -7.6949e-01,  ...,  1.1647e+00,\n",
      "         -2.0117e+00,  5.7450e-01],\n",
      "        ...,\n",
      "        [-6.4181e-01, -2.6001e+00,  3.5713e-03,  ...,  8.1020e-01,\n",
      "          1.1598e+00,  1.5120e+00],\n",
      "        [-4.7644e-02, -9.6884e-01,  2.6808e-01,  ...,  1.2916e+00,\n",
      "          8.5241e-02, -1.5831e-01],\n",
      "        [-2.5872e+00,  5.3352e-01, -1.1825e-01,  ...,  2.8468e-01,\n",
      "         -1.8206e+00,  1.1167e-01]])\n"
     ]
    },
    {
     "data": {
      "image/png": "[encoded data removed]",
      "text/plain": [
       "<PIL.Image.Image image mode=L size=28x28 at 0x7FA1C3546C18>"
      ]
     },
     "metadata": {},
     "output_type": "display_data"
    },
    {
     "name": "stdout",
     "output_type": "stream",
     "text": [
      "tensor([[ 0.6060,  0.7371,  1.0029,  ...,  0.1455, -0.1851,  0.3925],\n",
      "        [ 0.2045,  0.2731, -0.0287,  ...,  0.0842,  1.0799,  1.2091],\n",
      "        [ 0.1021,  0.0843,  0.5894,  ..., -0.3568, -0.1478,  0.0093],\n",
      "        ...,\n",
      "        [-0.0995,  0.7230, -3.9081,  ...,  0.6387,  0.7359,  1.0946],\n",
      "        [ 0.5441, -0.2927,  0.6860,  ..., -2.8446,  0.6838,  0.0626],\n",
      "        [ 0.2381,  0.3087, -0.5077,  ...,  0.8105, -0.4951,  0.2197]])\n"
     ]
    },
    {
     "data": {
      "image/png": "[encoded data removed]",
      "text/plain": [
       "<PIL.Image.Image image mode=L size=28x28 at 0x7FA1C3546B38>"
      ]
     },
     "metadata": {},
     "output_type": "display_data"
    },
    {
     "name": "stdout",
     "output_type": "stream",
     "text": [
      "tensor([[ 1.0057, -0.0093,  0.4981,  ..., -1.3797,  1.0761, -0.7426],\n",
      "        [-0.2889,  0.0605, -2.5826,  ...,  1.4166, -1.2216, -0.4811],\n",
      "        [-0.2089,  0.5974,  0.9806,  ...,  1.0554, -0.1249, -0.5718],\n",
      "        ...,\n",
      "        [ 0.6968,  0.1266, -0.9463,  ...,  1.3221, -0.9833,  0.5711],\n",
      "        [-0.6116,  0.9777,  0.1586,  ...,  0.4574, -0.6455,  1.1973],\n",
      "        [-2.1794,  0.0889,  0.3086,  ...,  0.7480, -0.4391,  0.6607]])\n"
     ]
    },
    {
     "data": {
      "image/png": "[encoded data removed]",
      "text/plain": [
       "<PIL.Image.Image image mode=L size=28x28 at 0x7FA1C352C320>"
      ]
     },
     "metadata": {},
     "output_type": "display_data"
    },
    {
     "name": "stdout",
     "output_type": "stream",
     "text": [
      "tensor([[ 0.0862,  1.3538, -0.2343,  ..., -2.1431, -0.3320, -2.4591],\n",
      "        [ 0.4033, -1.7333, -0.0210,  ..., -0.3099,  1.3973,  0.8376],\n",
      "        [-2.4395,  0.4393, -0.5202,  ...,  0.3511,  0.9602,  0.6947],\n",
      "        ...,\n",
      "        [ 0.4339,  0.6083,  0.6527,  ..., -0.0683,  1.7187,  0.6154],\n",
      "        [ 0.1172,  0.0064,  1.2088,  ...,  1.1151, -1.3350, -0.5131],\n",
      "        [ 0.0357,  1.0662,  0.1121,  ...,  0.0432, -0.4125, -1.5154]])\n"
     ]
    },
    {
     "data": {
      "image/png": "[encoded data removed]",
      "text/plain": [
       "<PIL.Image.Image image mode=L size=28x28 at 0x7FA1BDEA3DD8>"
      ]
     },
     "metadata": {},
     "output_type": "display_data"
    },
    {
     "name": "stdout",
     "output_type": "stream",
     "text": [
      "tensor([[-0.0808, -0.3767,  0.7344,  ..., -4.0340,  0.1177,  0.3263],\n",
      "        [-0.1390,  0.2733, -0.0587,  ...,  0.5966,  0.1879,  0.4953],\n",
      "        [ 0.2698,  0.6580,  0.0643,  ...,  0.9254, -1.0989, -3.0035],\n",
      "        ...,\n",
      "        [ 0.2252,  0.9665,  0.0567,  ...,  0.5671,  1.0941,  1.0677],\n",
      "        [-1.3370,  0.3006,  0.6218,  ..., -0.1139,  0.3675,  1.0859],\n",
      "        [-0.1300,  1.0382, -0.1437,  ...,  0.3828,  0.0433,  0.1261]])\n"
     ]
    },
    {
     "data": {
      "image/png": "[encoded data removed]",
      "text/plain": [
       "<PIL.Image.Image image mode=L size=28x28 at 0x7FA1C3546C88>"
      ]
     },
     "metadata": {},
     "output_type": "display_data"
    },
    {
     "name": "stdout",
     "output_type": "stream",
     "text": [
      "tensor([[ 0.7901,  0.6602, -0.5039,  ...,  0.4353, -2.1744,  0.4191],\n",
      "        [-2.1057,  1.1148,  0.4171,  ...,  1.0019,  0.4029, -1.2288],\n",
      "        [-1.0678,  0.5509,  0.4163,  ...,  0.1661, -0.7752,  1.2107],\n",
      "        ...,\n",
      "        [ 0.0379,  0.6808,  0.5751,  ..., -0.5529, -0.2100, -0.1502],\n",
      "        [-0.3131, -0.1030,  0.3269,  ..., -0.8024,  0.9647,  0.3883],\n",
      "        [ 0.3354,  1.0315, -0.4684,  ..., -0.4404,  0.8378,  0.9329]])\n"
     ]
    },
    {
     "data": {
      "image/png": "[encoded data removed]",
      "text/plain": [
       "<PIL.Image.Image image mode=L size=28x28 at 0x7FA1C3546B38>"
      ]
     },
     "metadata": {},
     "output_type": "display_data"
    },
    {
     "name": "stdout",
     "output_type": "stream",
     "text": [
      "tensor([[ 0.5674, -0.5091, -0.9331,  ...,  0.2571,  1.1447,  0.1288],\n",
      "        [ 0.0516,  0.6120, -1.1446,  ...,  0.5866, -0.5149, -1.7690],\n",
      "        [-0.5087,  1.2735,  0.1855,  ..., -0.1299,  1.2582,  1.5379],\n",
      "        ...,\n",
      "        [-0.3948, -5.2657,  0.0279,  ..., -2.3486,  0.5163,  0.7251],\n",
      "        [-0.2192, -0.1223,  0.6532,  ...,  0.3994, -0.1604, -0.6651],\n",
      "        [ 0.3469, -0.5944,  0.1789,  ...,  0.5333, -2.9694, -0.7039]])\n"
     ]
    },
    {
     "data": {
      "image/png": "[encoded data removed]",
      "text/plain": [
       "<PIL.Image.Image image mode=L size=28x28 at 0x7FA1C3546C18>"
      ]
     },
     "metadata": {},
     "output_type": "display_data"
    },
    {
     "name": "stdout",
     "output_type": "stream",
     "text": [
      "tensor([[ 0.6232, -0.4253,  0.2533,  ..., -0.0209, -0.3540, -3.0219],\n",
      "        [-0.7016,  1.0003,  0.1453,  ...,  0.9570,  0.0544,  0.0562],\n",
      "        [-0.2107, -1.3250, -0.1595,  ...,  0.2711,  0.7297,  0.3215],\n",
      "        ...,\n",
      "        [ 0.0519,  0.0611,  0.3401,  ...,  0.7231,  0.5666, -2.0263],\n",
      "        [ 0.5152,  1.1119,  0.0239,  ...,  0.1441,  0.1939,  0.1041],\n",
      "        [-2.9124,  0.2674, -0.6911,  ...,  0.7292,  0.9403,  1.0431]])\n"
     ]
    },
    {
     "data": {
      "image/png": "[encoded data removed]",
      "text/plain": [
       "<PIL.Image.Image image mode=L size=28x28 at 0x7FA1C352C358>"
      ]
     },
     "metadata": {},
     "output_type": "display_data"
    },
    {
     "name": "stdout",
     "output_type": "stream",
     "text": [
      "tensor([[ 0.5045,  0.7512, -3.2257,  ...,  1.4078, -0.3805, -3.4060],\n",
      "        [ 0.3402,  0.6964,  0.4613,  ...,  0.7697, -2.1797,  0.2153],\n",
      "        [-1.1443,  0.0186, -0.0802,  ...,  0.4721, -0.2199,  0.8431],\n",
      "        ...,\n",
      "        [ 0.5112,  0.2019, -0.2338,  ...,  0.9479, -0.2591,  0.1888],\n",
      "        [-0.8456,  1.2349,  0.2189,  ..., -0.3511,  0.7188,  0.7300],\n",
      "        [-1.3676,  0.5636,  0.1259,  ...,  0.8752, -0.0575, -0.6451]])\n"
     ]
    },
    {
     "data": {
      "image/png": "[encoded data removed]",
      "text/plain": [
       "<PIL.Image.Image image mode=L size=28x28 at 0x7FA1BDEA3A90>"
      ]
     },
     "metadata": {},
     "output_type": "display_data"
    },
    {
     "name": "stdout",
     "output_type": "stream",
     "text": [
      "tensor([[ 0.7684,  0.0212,  0.2534,  ..., -0.4169,  1.1032,  1.2189],\n",
      "        [ 0.7991, -0.8514,  0.6677,  ...,  0.2412, -0.2349, -1.5545],\n",
      "        [-0.6042,  0.4847,  0.0686,  ...,  0.2139, -0.2115,  0.6057],\n",
      "        ...,\n",
      "        [ 0.4544,  0.9845, -0.3193,  ...,  0.1637, -0.0769,  0.1786],\n",
      "        [ 0.6354, -1.2925, -1.2005,  ...,  0.5387,  0.7638,  1.6173],\n",
      "        [-0.0101,  0.8441, -0.1098,  ..., -1.3524, -0.1603, -3.2304]])\n"
     ]
    },
    {
     "data": {
      "image/png": "[encoded data removed]",
      "text/plain": [
       "<PIL.Image.Image image mode=L size=28x28 at 0x7FA1C3546C88>"
      ]
     },
     "metadata": {},
     "output_type": "display_data"
    },
    {
     "name": "stdout",
     "output_type": "stream",
     "text": [
      "tensor([[ 8.9167e-01,  2.0389e-01,  2.9269e-01,  ..., -4.6985e+00,\n",
      "          8.9792e-01,  6.9173e-01],\n",
      "        [ 7.7939e-01,  3.3705e-01,  1.0686e+00,  ..., -1.3548e+00,\n",
      "          5.5689e-01,  1.3341e+00],\n",
      "        [ 7.9851e-01,  4.2288e-01,  5.3265e-01,  ...,  7.4437e-01,\n",
      "          1.1778e-01,  7.9516e-01],\n",
      "        ...,\n",
      "        [ 3.6442e-01,  7.1055e-01,  7.3566e-01,  ...,  1.1628e+00,\n",
      "          2.2260e-01, -2.6353e+00],\n",
      "        [-1.0606e+00, -8.7571e-01,  9.1008e-01,  ...,  8.0266e-01,\n",
      "          7.0774e-01,  5.7504e-01],\n",
      "        [-5.0681e-04, -3.8683e-01,  5.0707e-01,  ...,  4.4636e-01,\n",
      "         -5.5977e-02,  4.0003e-01]])\n"
     ]
    },
    {
     "data": {
      "image/png": "[encoded data removed]",
      "text/plain": [
       "<PIL.Image.Image image mode=L size=28x28 at 0x7FA1C3546B38>"
      ]
     },
     "metadata": {},
     "output_type": "display_data"
    },
    {
     "name": "stdout",
     "output_type": "stream",
     "text": [
      "tensor([[-0.5514, -1.4495,  0.3122,  ...,  0.6864,  0.9409,  0.4011],\n",
      "        [ 0.7016,  0.3334, -0.0495,  ..., -0.0836,  0.4659,  0.5879],\n",
      "        [ 0.5372, -2.0819,  0.8117,  ...,  0.4584,  0.0830,  0.2413],\n",
      "        ...,\n",
      "        [ 0.2354,  0.2658, -2.0418,  ...,  0.5406,  0.0791,  0.3693],\n",
      "        [-2.1513,  0.7230,  1.0045,  ..., -4.2427, -0.8896,  0.1569],\n",
      "        [-0.1834,  1.0164, -1.5847,  ...,  1.3997, -0.6820, -0.9901]])\n"
     ]
    },
    {
     "data": {
      "image/png": "[encoded data removed]",
      "text/plain": [
       "<PIL.Image.Image image mode=L size=28x28 at 0x7FA1C3546C18>"
      ]
     },
     "metadata": {},
     "output_type": "display_data"
    },
    {
     "name": "stdout",
     "output_type": "stream",
     "text": [
      "tensor([[ 0.3066,  0.2178,  0.0424,  ..., -0.1314,  0.9580,  0.0183],\n",
      "        [ 0.4775,  1.2648, -0.7583,  ..., -2.8049,  0.5403,  0.0135],\n",
      "        [ 0.8518,  0.8078, -0.1360,  ...,  0.4969,  0.8835,  0.3255],\n",
      "        ...,\n",
      "        [-1.0320,  0.8249,  0.2518,  ..., -0.4228,  0.1100,  1.3081],\n",
      "        [ 0.3636,  0.1556,  0.2758,  ..., -0.9508,  0.1088,  0.3921],\n",
      "        [ 0.0135,  1.1144, -0.2032,  ...,  0.9853,  1.7883,  1.8123]])\n"
     ]
    },
    {
     "data": {
      "image/png": "[encoded data removed]",
      "text/plain": [
       "<PIL.Image.Image image mode=L size=28x28 at 0x7FA1C352C2E8>"
      ]
     },
     "metadata": {},
     "output_type": "display_data"
    },
    {
     "name": "stdout",
     "output_type": "stream",
     "text": [
      "tensor([[ 1.0983,  0.9926,  0.1295,  ..., -1.9167, -1.2600,  0.8948],\n",
      "        [-0.7420,  1.5677, -0.3007,  ...,  0.5688,  1.0110,  0.7876],\n",
      "        [-3.2695,  1.2887,  0.3000,  ..., -2.4967,  0.5138,  1.1391],\n",
      "        ...,\n",
      "        [ 0.0520,  0.4499, -0.4869,  ..., -1.3740,  0.6255,  0.6872],\n",
      "        [ 0.4551,  1.2331, -0.0662,  ..., -0.9658,  1.4090,  0.5840],\n",
      "        [-0.7113,  0.5371,  0.4918,  ..., -1.2630, -0.0423, -0.1475]])\n"
     ]
    },
    {
     "data": {
      "image/png": "[encoded data removed]",
      "text/plain": [
       "<PIL.Image.Image image mode=L size=28x28 at 0x7FA1BDEA3E80>"
      ]
     },
     "metadata": {},
     "output_type": "display_data"
    },
    {
     "name": "stdout",
     "output_type": "stream",
     "text": [
      "tensor([[ 0.5988,  0.4483,  0.6551,  ...,  0.8703,  0.8083,  0.6763],\n",
      "        [-0.5437,  0.8589, -0.4044,  ...,  0.3787,  1.2770,  0.8475],\n",
      "        [-0.7852,  1.2876, -0.4214,  ..., -0.6453,  1.0042,  1.0900],\n",
      "        ...,\n",
      "        [-1.0152, -0.3877,  0.0309,  ..., -0.5159, -0.9257,  0.4354],\n",
      "        [ 0.8988,  0.6078, -2.4889,  ...,  0.0064, -0.6809, -1.2920],\n",
      "        [-0.6145,  0.5842, -0.1587,  ...,  0.4787, -1.3049,  0.2253]])\n"
     ]
    },
    {
     "data": {
      "image/png": "[encoded data removed]",
      "text/plain": [
       "<PIL.Image.Image image mode=L size=28x28 at 0x7FA1C3546C88>"
      ]
     },
     "metadata": {},
     "output_type": "display_data"
    },
    {
     "name": "stdout",
     "output_type": "stream",
     "text": [
      "tensor([[ 0.3809, -2.1897, -0.0350,  ...,  0.1331, -0.8216,  0.8200],\n",
      "        [-1.2661,  0.9751, -3.5032,  ..., -1.8943, -0.2808, -0.7403],\n",
      "        [ 0.3132, -3.5383,  0.3907,  ...,  0.4649,  0.7463,  0.8748],\n",
      "        ...,\n",
      "        [-0.0654,  0.2256, -0.1848,  ...,  0.6370, -0.2961,  0.0140],\n",
      "        [-0.9036, -0.5848,  0.6351,  ...,  0.6843,  1.6139,  1.9338],\n",
      "        [ 0.7669,  0.1904, -3.4820,  ...,  0.5227, -0.2559,  0.3399]])\n"
     ]
    },
    {
     "data": {
      "image/png": "[encoded data removed]",
      "text/plain": [
       "<PIL.Image.Image image mode=L size=28x28 at 0x7FA1C3546C18>"
      ]
     },
     "metadata": {},
     "output_type": "display_data"
    },
    {
     "name": "stdout",
     "output_type": "stream",
     "text": [
      "tensor([[ 0.5306,  0.6123,  0.2022,  ..., -0.9180,  0.6991,  1.0249],\n",
      "        [-0.6565, -2.7724, -0.0329,  ...,  0.6446,  2.1194,  1.9896],\n",
      "        [ 0.5331,  1.1835,  0.3026,  ..., -1.9931, -0.8556, -0.9756],\n",
      "        ...,\n",
      "        [-1.1656, -0.8203,  0.6697,  ...,  0.1375,  0.0242,  0.0694],\n",
      "        [ 1.2312,  1.4208,  0.6817,  ...,  0.1929, -0.2982,  0.6775],\n",
      "        [-0.4423,  0.8335, -0.3028,  ...,  0.6063,  0.8587,  0.8041]])\n"
     ]
    },
    {
     "data": {
      "image/png": "[encoded data removed]",
      "text/plain": [
       "<PIL.Image.Image image mode=L size=28x28 at 0x7FA1C3546B38>"
      ]
     },
     "metadata": {},
     "output_type": "display_data"
    },
    {
     "name": "stdout",
     "output_type": "stream",
     "text": [
      "tensor([[ 0.0889, -0.3107,  1.1946,  ...,  0.8526,  0.2878,  0.3330],\n",
      "        [ 0.4063, -2.7274,  1.0363,  ...,  0.5421,  0.4424,  0.6756],\n",
      "        [ 0.8363,  0.9151, -1.6706,  ..., -3.2109,  0.8492,  0.6517],\n",
      "        ...,\n",
      "        [ 0.4593,  1.0722,  0.0237,  ...,  0.2166,  1.4020,  0.6949],\n",
      "        [-1.6208,  0.3772, -0.7640,  ..., -1.3514, -1.3485, -1.1785],\n",
      "        [-1.4049,  1.4221,  0.4949,  ..., -2.2094,  1.5590,  1.4450]])\n"
     ]
    },
    {
     "data": {
      "image/png": "[encoded data removed]",
      "text/plain": [
       "<PIL.Image.Image image mode=L size=28x28 at 0x7FA1C352C4E0>"
      ]
     },
     "metadata": {},
     "output_type": "display_data"
    },
    {
     "name": "stdout",
     "output_type": "stream",
     "text": [
      "tensor([[-0.6310, -0.2018, -0.3808,  ...,  0.7055, -0.0508,  1.1072],\n",
      "        [ 0.5634,  0.4570,  0.6395,  ...,  1.2653,  0.1747,  0.2516],\n",
      "        [ 0.9913,  1.0829,  0.1933,  ...,  0.1767,  1.0381,  0.8884],\n",
      "        ...,\n",
      "        [-0.2270,  0.5796,  1.2852,  ...,  0.4328, -0.4673, -1.3694],\n",
      "        [ 0.2736,  0.2730,  0.7466,  ...,  0.8049,  0.1177,  0.2327],\n",
      "        [ 0.2746,  0.4251,  0.4047,  ...,  0.7856,  0.7103,  0.1328]])\n"
     ]
    },
    {
     "data": {
      "image/png": "[encoded data removed]",
      "text/plain": [
       "<PIL.Image.Image image mode=L size=28x28 at 0x7FA1BDEA3EB8>"
      ]
     },
     "metadata": {},
     "output_type": "display_data"
    },
    {
     "name": "stdout",
     "output_type": "stream",
     "text": [
      "tensor([[-0.1733,  0.9107,  0.6706,  ..., -1.0488,  0.9162,  0.9631],\n",
      "        [-1.2187,  0.8700, -0.0581,  ...,  1.0708, -0.8358,  0.5528],\n",
      "        [ 0.4370,  1.2609,  0.4779,  ...,  0.4096, -0.2046,  0.3974],\n",
      "        ...,\n",
      "        [-0.4145,  0.9224, -0.1631,  ..., -3.1990, -0.0718, -2.5402],\n",
      "        [-0.3029,  0.7457,  0.1141,  ..., -0.6654, -0.6061,  0.4083],\n",
      "        [-1.5984,  0.7560,  0.4195,  ..., -0.5703, -0.2803,  1.0625]])\n"
     ]
    },
    {
     "data": {
      "image/png": "[encoded data removed]",
      "text/plain": [
       "<PIL.Image.Image image mode=L size=28x28 at 0x7FA1C3546C88>"
      ]
     },
     "metadata": {},
     "output_type": "display_data"
    },
    {
     "name": "stdout",
     "output_type": "stream",
     "text": [
      "tensor([[-1.2398,  0.7740,  0.7553,  ...,  1.1804, -0.8268, -1.6672],\n",
      "        [ 0.4814, -0.1473,  0.4063,  ..., -0.6969, -0.6136, -2.5211],\n",
      "        [ 0.3896, -0.8290,  0.3435,  ...,  1.0191, -0.5453, -0.3298],\n",
      "        ...,\n",
      "        [ 0.0046,  0.3292,  0.4294,  ..., -0.1389,  0.3498, -0.2295],\n",
      "        [-0.5482, -0.7351,  0.1929,  ...,  1.2663, -1.4993, -1.6143],\n",
      "        [ 0.9081,  0.7715,  0.3451,  ...,  0.7015,  1.5986,  1.3545]])\n"
     ]
    },
    {
     "data": {
      "image/png": "[encoded data removed]",
      "text/plain": [
       "<PIL.Image.Image image mode=L size=28x28 at 0x7FA1C3546C18>"
      ]
     },
     "metadata": {},
     "output_type": "display_data"
    },
    {
     "name": "stdout",
     "output_type": "stream",
     "text": [
      "tensor([[-1.3836,  0.7651,  0.4508,  ..., -0.6568,  0.3456, -0.2941],\n",
      "        [ 0.5736,  0.6772, -0.3588,  ...,  0.7874, -2.5866, -1.6983],\n",
      "        [ 0.5590,  0.6623, -0.7926,  ...,  0.5475, -0.8594,  0.1915],\n",
      "        ...,\n",
      "        [ 0.3750, -0.6914, -2.2320,  ...,  0.5685,  1.6221,  2.2047],\n",
      "        [-0.7401,  1.1890, -0.1589,  ...,  0.3797,  1.0146,  1.0089],\n",
      "        [ 0.9927, -0.0893, -0.7651,  ...,  1.1817, -0.6045, -1.1703]])\n"
     ]
    },
    {
     "data": {
      "image/png": "[encoded data removed]",
      "text/plain": [
       "<PIL.Image.Image image mode=L size=28x28 at 0x7FA1C3546B38>"
      ]
     },
     "metadata": {},
     "output_type": "display_data"
    },
    {
     "name": "stdout",
     "output_type": "stream",
     "text": [
      "tensor([[-0.0893,  0.5813,  0.9255,  ...,  0.8862,  0.9422,  0.1478],\n",
      "        [ 1.2839, -0.7707,  0.2165,  ...,  0.2872, -0.3747,  0.8301],\n",
      "        [ 0.5916,  0.8526,  0.0839,  ...,  0.6159,  0.1724, -0.9122],\n",
      "        ...,\n",
      "        [ 0.1670,  0.5925, -0.8483,  ..., -1.0950, -0.7544, -0.6250],\n",
      "        [-0.2108, -1.4252,  0.9765,  ..., -2.0834,  0.4272,  1.5238],\n",
      "        [ 0.0095, -0.2512,  0.5480,  ...,  0.3131,  0.0128,  0.7308]])\n"
     ]
    },
    {
     "data": {
      "image/png": "[encoded data removed]",
      "text/plain": [
       "<PIL.Image.Image image mode=L size=28x28 at 0x7FA1C352C668>"
      ]
     },
     "metadata": {},
     "output_type": "display_data"
    },
    {
     "name": "stdout",
     "output_type": "stream",
     "text": [
      "tensor([[-0.0407,  1.0945,  0.3788,  ...,  0.9550,  1.4735,  1.7979],\n",
      "        [ 0.0861,  0.8194,  0.4336,  ..., -0.0580,  0.5033,  0.3003],\n",
      "        [ 0.3201, -0.9960,  0.6548,  ..., -1.2336, -1.3284,  0.4588],\n",
      "        ...,\n",
      "        [ 0.5568, -2.9333,  0.2052,  ...,  0.3649, -0.5030,  0.3992],\n",
      "        [-1.2253,  1.3077,  0.2166,  ...,  0.6501,  0.0781, -0.3871],\n",
      "        [-0.0988,  0.9703, -1.5496,  ..., -0.3897,  0.8610,  0.4311]])\n"
     ]
    },
    {
     "data": {
      "image/png": "[encoded data removed]",
      "text/plain": [
       "<PIL.Image.Image image mode=L size=28x28 at 0x7FA1BDEA3D68>"
      ]
     },
     "metadata": {},
     "output_type": "display_data"
    },
    {
     "name": "stdout",
     "output_type": "stream",
     "text": [
      "tensor([[-0.1063, -3.5757, -0.5131,  ...,  0.5133,  1.3686, -0.4670],\n",
      "        [-1.0977,  1.1598,  0.3272,  ..., -2.0610,  0.8255,  1.2773],\n",
      "        [ 0.3556,  0.5997, -0.2647,  ...,  0.7604,  0.4465,  0.3830],\n",
      "        ...,\n",
      "        [ 1.2030,  0.6802, -0.1640,  ...,  0.9586, -1.3164, -1.6001],\n",
      "        [ 0.7449,  0.5018,  0.1616,  ...,  0.2946,  0.8027,  0.4393],\n",
      "        [ 0.3618,  0.7818, -0.6703,  ...,  1.0551,  0.6958, -1.3476]])\n"
     ]
    },
    {
     "data": {
      "image/png": "[encoded data removed]",
      "text/plain": [
       "<PIL.Image.Image image mode=L size=28x28 at 0x7FA1C3546C88>"
      ]
     },
     "metadata": {},
     "output_type": "display_data"
    },
    {
     "name": "stdout",
     "output_type": "stream",
     "text": [
      "tensor([[ 0.0338,  0.6430,  1.0656,  ..., -1.6245, -0.2731,  0.3729],\n",
      "        [-1.0141,  0.2161, -0.0287,  ..., -1.3117,  0.6501,  1.0069],\n",
      "        [-2.2792,  0.2760, -0.2043,  ...,  0.7512, -2.7452, -1.3284],\n",
      "        ...,\n",
      "        [ 0.4647,  0.6566,  0.6531,  ..., -1.8343, -0.5379,  1.3838],\n",
      "        [ 0.6424,  0.5679, -1.2575,  ..., -0.0871, -0.0980,  0.8325],\n",
      "        [ 0.2641,  0.3325,  0.4885,  ..., -0.8527,  0.2277, -0.1857]])\n"
     ]
    },
    {
     "data": {
      "image/png": "[encoded data removed]",
      "text/plain": [
       "<PIL.Image.Image image mode=L size=28x28 at 0x7FA1C3546C18>"
      ]
     },
     "metadata": {},
     "output_type": "display_data"
    },
    {
     "name": "stdout",
     "output_type": "stream",
     "text": [
      "tensor([[-2.5994, -2.1000,  1.1343,  ..., -0.0349, -0.1180, -0.2028],\n",
      "        [ 0.2378,  0.4550,  0.2176,  ..., -0.4795, -0.4931,  1.0366],\n",
      "        [ 0.1032,  0.0398,  0.8424,  ...,  0.2773, -4.4707,  0.4267],\n",
      "        ...,\n",
      "        [-0.6664, -0.1144,  0.4909,  ...,  0.8930, -1.4951, -0.6827],\n",
      "        [-0.4227, -0.1525,  0.7260,  ...,  1.0704,  0.5017, -0.2631],\n",
      "        [-0.1966,  0.9160,  0.0936,  ...,  0.4496, -0.1527, -0.1921]])\n"
     ]
    },
    {
     "data": {
      "image/png": "[encoded data removed]",
      "text/plain": [
       "<PIL.Image.Image image mode=L size=28x28 at 0x7FA1C3546C88>"
      ]
     },
     "metadata": {},
     "output_type": "display_data"
    },
    {
     "name": "stdout",
     "output_type": "stream",
     "text": [
      "tensor([[ 1.2403,  0.1785, -3.4297,  ...,  1.0199, -0.2187, -0.6131],\n",
      "        [-0.7405,  0.5244,  0.2825,  ..., -3.4022,  0.6634,  0.0208],\n",
      "        [-2.9176,  0.7620,  0.7213,  ..., -0.5352,  1.7822,  1.7549],\n",
      "        ...,\n",
      "        [ 0.0267, -0.0837,  0.3580,  ..., -0.0680, -0.3057,  0.6299],\n",
      "        [-1.3784, -1.6219,  0.0302,  ..., -1.6123,  0.4633, -0.6704],\n",
      "        [-0.0462, -0.3681, -1.5136,  ...,  1.1951,  0.8403,  0.9137]])\n"
     ]
    },
    {
     "data": {
      "image/png": "[encoded data removed]",
      "text/plain": [
       "<PIL.Image.Image image mode=L size=28x28 at 0x7FA1C352C358>"
      ]
     },
     "metadata": {},
     "output_type": "display_data"
    },
    {
     "name": "stdout",
     "output_type": "stream",
     "text": [
      "tensor([[ 0.1228, -0.2065,  0.8306,  ...,  0.1423, -0.8279,  0.1916],\n",
      "        [ 0.3794,  0.4486,  0.6372,  ...,  0.7822,  0.4866,  0.7854],\n",
      "        [ 0.3924,  0.9312,  0.8136,  ...,  0.6520,  0.7245,  0.9950],\n",
      "        ...,\n",
      "        [-2.0540,  0.2766, -0.4104,  ..., -0.4445, -1.3910, -1.3114],\n",
      "        [ 0.2353,  0.3349, -0.0198,  ..., -0.0767,  0.9923,  1.5233],\n",
      "        [ 0.9421,  1.2644, -2.4327,  ...,  0.2567, -0.7402,  0.8352]])\n"
     ]
    },
    {
     "data": {
      "image/png": "[encoded data removed]",
      "text/plain": [
       "<PIL.Image.Image image mode=L size=28x28 at 0x7FA1BDEA3C50>"
      ]
     },
     "metadata": {},
     "output_type": "display_data"
    },
    {
     "name": "stdout",
     "output_type": "stream",
     "text": [
      "tensor([[-0.4384,  0.5664, -0.5299,  ...,  0.7236,  2.1030,  1.4817],\n",
      "        [ 1.0332, -0.9800, -0.1708,  ..., -0.2568,  0.6638,  1.5202],\n",
      "        [-5.3765,  0.8891,  0.3162,  ...,  1.0943,  0.6719,  1.0522],\n",
      "        ...,\n",
      "        [ 0.8487, -1.4045,  0.5541,  ..., -0.4093,  1.4988, -0.0954],\n",
      "        [ 0.1955, -1.7817,  0.3909,  ...,  0.8527,  0.4783,  0.3683],\n",
      "        [-0.5191, -0.1367,  0.1874,  ...,  0.8042, -0.4969, -1.6922]])\n"
     ]
    },
    {
     "data": {
      "image/png": "[encoded data removed]",
      "text/plain": [
       "<PIL.Image.Image image mode=L size=28x28 at 0x7FA1C3546B38>"
      ]
     },
     "metadata": {},
     "output_type": "display_data"
    },
    {
     "name": "stdout",
     "output_type": "stream",
     "text": [
      "tensor([[ 0.0370,  1.0393, -0.8920,  ..., -0.0645, -0.4067, -3.1597],\n",
      "        [-0.4924,  1.0003, -0.8668,  ..., -1.6211, -0.0948,  0.7656],\n",
      "        [ 0.7204, -0.5008,  0.4617,  ..., -0.7326,  0.9598, -0.3278],\n",
      "        ...,\n",
      "        [ 0.3397, -0.6135,  0.2592,  ...,  0.7865, -0.2158, -0.0744],\n",
      "        [ 0.5942,  1.1441,  0.0449,  ..., -0.1295,  0.7373,  0.3133],\n",
      "        [-0.2190, -0.5309, -0.2520,  ..., -1.6777,  0.7478,  0.0500]])\n"
     ]
    },
    {
     "data": {
      "image/png": "[encoded data removed]",
      "text/plain": [
       "<PIL.Image.Image image mode=L size=28x28 at 0x7FA1C3546C18>"
      ]
     },
     "metadata": {},
     "output_type": "display_data"
    },
    {
     "name": "stdout",
     "output_type": "stream",
     "text": [
      "tensor([[ 0.4967, -2.7558, -0.1206,  ...,  1.0183,  0.8338,  1.2590],\n",
      "        [-0.1151,  0.4754, -0.3860,  ..., -0.7236,  0.3624, -0.3152],\n",
      "        [ 0.1578,  0.3617, -1.0449,  ...,  0.1942, -0.3849,  0.4314],\n",
      "        ...,\n",
      "        [-0.8351,  0.8212, -0.5073,  ...,  0.5000, -1.1194,  0.1657],\n",
      "        [ 0.8732, -1.3066,  0.7372,  ...,  0.6815, -0.0764, -1.5888],\n",
      "        [-0.1457,  1.0483, -1.2011,  ..., -1.3358,  0.5778,  0.0637]])\n"
     ]
    },
    {
     "data": {
      "image/png": "[encoded data removed]",
      "text/plain": [
       "<PIL.Image.Image image mode=L size=28x28 at 0x7FA1C3546B38>"
      ]
     },
     "metadata": {},
     "output_type": "display_data"
    },
    {
     "name": "stdout",
     "output_type": "stream",
     "text": [
      "tensor([[ 0.0157,  1.0257,  0.2064,  ...,  0.0066,  1.5893,  0.5689],\n",
      "        [-2.0018, -0.3804,  0.1497,  ...,  0.8209,  0.1077, -0.5474],\n",
      "        [ 0.0936,  0.3768,  0.2414,  ..., -0.8604, -0.4058, -1.0217],\n",
      "        ...,\n",
      "        [ 0.5316, -0.2569,  0.0965,  ...,  0.2991, -1.1716,  0.4356],\n",
      "        [ 0.8735,  1.1461, -0.6289,  ...,  0.7325,  0.4919,  0.5794],\n",
      "        [ 0.1991,  0.9323,  1.2528,  ..., -0.3042, -0.0587,  0.1580]])\n"
     ]
    },
    {
     "data": {
      "image/png": "[encoded data removed]",
      "text/plain": [
       "<PIL.Image.Image image mode=L size=28x28 at 0x7FA1C352C390>"
      ]
     },
     "metadata": {},
     "output_type": "display_data"
    },
    {
     "name": "stdout",
     "output_type": "stream",
     "text": [
      "tensor([[ 0.2079,  0.5355,  0.4496,  ..., -1.6321,  0.3624,  1.5350],\n",
      "        [ 0.4698,  0.4782,  0.1821,  ...,  0.4238, -0.2355, -0.2509],\n",
      "        [ 0.3146, -0.3666,  0.5888,  ...,  1.1811, -1.3999,  0.4377],\n",
      "        ...,\n",
      "        [ 0.3465,  0.3944, -1.2198,  ...,  0.0181,  0.9523,  0.3935],\n",
      "        [ 1.2187,  0.6254, -0.0565,  ...,  0.3319,  0.2877,  0.7541],\n",
      "        [ 0.2827,  0.8130,  0.2880,  ...,  0.4384,  1.1601,  1.0073]])\n"
     ]
    },
    {
     "data": {
      "image/png": "[encoded data removed]",
      "text/plain": [
       "<PIL.Image.Image image mode=L size=28x28 at 0x7FA1BDEA3EF0>"
      ]
     },
     "metadata": {},
     "output_type": "display_data"
    },
    {
     "name": "stdout",
     "output_type": "stream",
     "text": [
      "tensor([[-0.0663,  0.8812,  0.0600,  ...,  0.9357,  0.5082,  0.2735],\n",
      "        [ 0.6203, -2.8538,  0.8799,  ..., -0.2731,  0.2638, -0.0391],\n",
      "        [-1.5139, -0.0687, -0.3703,  ...,  1.3251, -0.0778, -4.0393],\n",
      "        ...,\n",
      "        [-1.0933,  0.5671,  1.1484,  ...,  0.3604,  0.5936,  0.8938],\n",
      "        [-1.2501,  0.9117, -0.0569,  ...,  0.9678,  1.9211,  0.6843],\n",
      "        [-1.6881,  0.9532,  0.0183,  ...,  0.3958,  0.6843,  1.3939]])\n"
     ]
    },
    {
     "data": {
      "image/png": "[encoded data removed]",
      "text/plain": [
       "<PIL.Image.Image image mode=L size=28x28 at 0x7FA1C3546C88>"
      ]
     },
     "metadata": {},
     "output_type": "display_data"
    },
    {
     "name": "stdout",
     "output_type": "stream",
     "text": [
      "tensor([[-1.8084, -0.8523, -0.3649,  ..., -0.0362,  0.4137,  0.4472],\n",
      "        [ 0.7046, -0.1216, -0.6608,  ..., -1.4475,  0.5789, -0.3352],\n",
      "        [ 0.5920, -0.0509,  0.5624,  ...,  0.9027,  0.2769, -0.2746],\n",
      "        ...,\n",
      "        [ 0.0717,  0.6678, -0.4250,  ...,  0.8200, -0.4667,  0.3776],\n",
      "        [ 0.7901,  0.6602, -0.5039,  ...,  0.4353, -2.1744,  0.4191],\n",
      "        [ 0.2459,  1.0375,  0.3918,  ..., -4.0908,  0.9711,  0.3604]])\n"
     ]
    },
    {
     "data": {
      "image/png": "[encoded data removed]",
      "text/plain": [
       "<PIL.Image.Image image mode=L size=28x28 at 0x7FA1C3546B38>"
      ]
     },
     "metadata": {},
     "output_type": "display_data"
    },
    {
     "name": "stdout",
     "output_type": "stream",
     "text": [
      "tensor([[ 0.3254, -1.1785,  0.0418,  ..., -0.0224,  0.1396,  1.2606],\n",
      "        [ 0.1226, -1.7155, -1.0171,  ...,  0.5490,  0.1117,  0.4803],\n",
      "        [ 0.3359,  0.4138,  0.3798,  ..., -1.3894, -0.3919, -0.1739],\n",
      "        ...,\n",
      "        [ 1.0016,  0.6733,  1.1561,  ...,  1.0273, -0.2923, -0.8640],\n",
      "        [ 0.7221,  0.4253, -0.3581,  ..., -0.3033,  0.0835, -1.2420],\n",
      "        [-1.2339,  0.8423, -0.5650,  ...,  0.8739,  0.7504,  1.1174]])\n"
     ]
    },
    {
     "data": {
      "image/png": "[encoded data removed]",
      "text/plain": [
       "<PIL.Image.Image image mode=L size=28x28 at 0x7FA1C3546C18>"
      ]
     },
     "metadata": {},
     "output_type": "display_data"
    },
    {
     "name": "stdout",
     "output_type": "stream",
     "text": [
      "tensor([[ 0.6250,  0.3050, -2.2543,  ..., -2.2136, -1.0196, -1.0361],\n",
      "        [-0.3045, -0.2852,  0.8638,  ...,  1.2020,  0.9229, -0.0670],\n",
      "        [ 0.6991,  1.1875,  0.3516,  ...,  0.7484,  0.2309,  0.7878],\n",
      "        ...,\n",
      "        [-0.8651, -0.1164,  0.3648,  ...,  0.9303,  0.7500,  0.9073],\n",
      "        [-0.3298,  0.8498,  0.5988,  ...,  0.3504, -0.7814,  0.5007],\n",
      "        [-0.5368, -1.1995,  1.0035,  ...,  0.9723, -1.7180, -2.4219]])\n"
     ]
    },
    {
     "data": {
      "image/png": "[encoded data removed]",
      "text/plain": [
       "<PIL.Image.Image image mode=L size=28x28 at 0x7FA1C352C2E8>"
      ]
     },
     "metadata": {},
     "output_type": "display_data"
    },
    {
     "name": "stdout",
     "output_type": "stream",
     "text": [
      "tensor([[ 6.4520e-01, -8.4071e-01,  4.0782e-01,  ...,  6.8719e-01,\n",
      "         -3.0811e-03, -5.7528e-01],\n",
      "        [ 6.2831e-01, -5.3457e-01, -1.5061e+00,  ...,  1.0355e+00,\n",
      "         -2.4579e+00,  3.4280e-01],\n",
      "        [ 8.4843e-01,  9.6841e-01, -3.7678e-01,  ..., -4.7240e+00,\n",
      "          6.0306e-01, -1.6011e-01],\n",
      "        ...,\n",
      "        [ 5.3731e-01,  8.0077e-01, -8.1113e-01,  ..., -3.5008e-01,\n",
      "         -4.0395e-01, -5.8789e+00],\n",
      "        [-2.5087e+00,  1.1557e+00, -4.5224e-01,  ..., -9.5060e-01,\n",
      "         -6.8278e-01, -1.1053e-01],\n",
      "        [ 1.1970e+00,  1.0786e+00, -2.8198e-01,  ...,  8.1271e-01,\n",
      "          9.4580e-01,  6.1825e-01]])\n"
     ]
    },
    {
     "data": {
      "image/png": "[encoded data removed]",
      "text/plain": [
       "<PIL.Image.Image image mode=L size=28x28 at 0x7FA1BDEA3DA0>"
      ]
     },
     "metadata": {},
     "output_type": "display_data"
    },
    {
     "name": "stdout",
     "output_type": "stream",
     "text": [
      "tensor([[ 0.2594,  0.5448,  0.5865,  ...,  1.0560, -1.0531, -0.6904],\n",
      "        [-0.2052,  0.0972,  1.1724,  ...,  0.8988, -0.1767, -2.7789],\n",
      "        [ 0.8743, -0.3328, -0.0876,  ...,  1.1301,  0.5512, -1.1705],\n",
      "        ...,\n",
      "        [ 0.1726, -0.1802,  0.0161,  ..., -0.2828,  1.2856,  1.0197],\n",
      "        [ 0.2013, -0.4933, -0.6794,  ..., -0.1497, -0.0506,  0.8104],\n",
      "        [ 0.6824, -0.6198,  0.8128,  ...,  1.0387, -1.7913, -0.6360]])\n"
     ]
    },
    {
     "data": {
      "image/png": "[encoded data removed]",
      "text/plain": [
       "<PIL.Image.Image image mode=L size=28x28 at 0x7FA1C3546B38>"
      ]
     },
     "metadata": {},
     "output_type": "display_data"
    },
    {
     "name": "stdout",
     "output_type": "stream",
     "text": [
      "tensor([[-1.0148e-02,  8.4409e-01, -1.0977e-01,  ..., -1.3524e+00,\n",
      "         -1.6032e-01, -3.2304e+00],\n",
      "        [ 4.9974e-01,  7.8278e-01, -2.2706e-03,  ...,  1.0313e+00,\n",
      "          7.2831e-01,  5.2154e-01],\n",
      "        [ 7.7025e-02,  1.3116e+00, -1.6361e+00,  ...,  4.9150e-01,\n",
      "          5.6602e-01,  1.0906e+00],\n",
      "        ...,\n",
      "        [ 3.4636e-01,  1.0573e+00,  5.5236e-02,  ..., -1.0040e+00,\n",
      "          7.3964e-01,  2.3687e-02],\n",
      "        [-5.9514e-01,  7.4932e-01,  2.2971e-01,  ..., -1.0453e+00,\n",
      "          2.9769e-01,  8.6289e-01],\n",
      "        [-1.5563e+00, -1.7939e-01,  3.5020e-01,  ..., -1.2417e+00,\n",
      "          1.2360e+00,  8.2924e-01]])\n"
     ]
    },
    {
     "data": {
      "image/png": "[encoded data removed]",
      "text/plain": [
       "<PIL.Image.Image image mode=L size=28x28 at 0x7FA1C3546C88>"
      ]
     },
     "metadata": {},
     "output_type": "display_data"
    },
    {
     "name": "stdout",
     "output_type": "stream",
     "text": [
      "tensor([[ 0.2565,  0.9063,  0.5233,  ...,  1.0056,  0.0334, -0.9242],\n",
      "        [-0.7427,  1.1627,  0.4639,  ...,  0.2937,  1.0055,  1.3233],\n",
      "        [-0.1885, -4.3517, -2.0594,  ...,  0.2673,  0.0217,  1.2013],\n",
      "        ...,\n",
      "        [ 0.6227, -1.4082, -0.3998,  ...,  1.2193,  0.8532,  0.7250],\n",
      "        [ 0.7640,  0.5273, -0.5793,  ..., -1.9793,  1.3846,  1.4948],\n",
      "        [ 0.6925,  0.4078,  0.5522,  ..., -1.8512,  0.7228,  0.9793]])\n"
     ]
    },
    {
     "data": {
      "image/png": "[encoded data removed]",
      "text/plain": [
       "<PIL.Image.Image image mode=L size=28x28 at 0x7FA1C3546C18>"
      ]
     },
     "metadata": {},
     "output_type": "display_data"
    },
    {
     "name": "stdout",
     "output_type": "stream",
     "text": [
      "tensor([[ 0.6888,  1.1481,  0.5601,  ..., -1.7535, -0.4823,  0.3032],\n",
      "        [-1.7010, -0.1953, -0.1747,  ..., -0.8593,  0.0503, -0.0495],\n",
      "        [ 0.9344,  0.5381,  0.5400,  ...,  0.3578,  0.1223,  1.1249],\n",
      "        ...,\n",
      "        [-1.7549,  0.3061,  0.2093,  ...,  0.6340,  0.2181,  0.5812],\n",
      "        [ 1.2320,  0.2704, -0.9326,  ...,  0.4802,  1.0913,  0.8561],\n",
      "        [ 0.6011,  0.8307, -1.2733,  ..., -0.3572, -0.2803, -0.5401]])\n"
     ]
    },
    {
     "data": {
      "image/png": "[encoded data removed]",
      "text/plain": [
       "<PIL.Image.Image image mode=L size=28x28 at 0x7FA1C352C390>"
      ]
     },
     "metadata": {},
     "output_type": "display_data"
    },
    {
     "name": "stdout",
     "output_type": "stream",
     "text": [
      "tensor([[-0.9160,  0.5040, -2.1322,  ..., -3.7368, -0.5649, -1.8242],\n",
      "        [ 0.5897,  0.8284, -1.0964,  ..., -1.2003,  0.4940,  0.8711],\n",
      "        [-0.3662, -0.9330, -1.2561,  ..., -1.3459,  0.7082, -0.6542],\n",
      "        ...,\n",
      "        [-0.1092, -0.7808, -2.2446,  ..., -0.3465, -0.1377, -0.8775],\n",
      "        [-1.0557,  0.2318, -0.7020,  ...,  0.8302, -1.1800, -0.6208],\n",
      "        [ 0.8532,  0.2822,  0.4036,  ...,  1.2290,  1.0068,  1.5212]])\n"
     ]
    },
    {
     "data": {
      "image/png": "[encoded data removed]",
      "text/plain": [
       "<PIL.Image.Image image mode=L size=28x28 at 0x7FA1BDEA3F28>"
      ]
     },
     "metadata": {},
     "output_type": "display_data"
    },
    {
     "name": "stdout",
     "output_type": "stream",
     "text": [
      "tensor([[ 0.7805, -2.0393,  0.3173,  ...,  1.1068,  0.3394, -0.1044],\n",
      "        [-1.9063,  0.8573,  0.6992,  ..., -1.3087,  0.9453,  0.7200],\n",
      "        [-0.0576, -0.1724, -1.7280,  ...,  1.0783,  0.0824, -0.4643],\n",
      "        ...,\n",
      "        [-0.9417, -0.2319,  0.1303,  ...,  0.9659,  1.0851,  0.4421],\n",
      "        [-0.0167, -1.5339,  0.4929,  ...,  0.9424,  0.3443, -0.2187],\n",
      "        [-1.0606, -0.8757,  0.9101,  ...,  0.8027,  0.7077,  0.5750]])\n"
     ]
    },
    {
     "data": {
      "image/png": "[encoded data removed]",
      "text/plain": [
       "<PIL.Image.Image image mode=L size=28x28 at 0x7FA1C3546B38>"
      ]
     },
     "metadata": {},
     "output_type": "display_data"
    },
    {
     "name": "stdout",
     "output_type": "stream",
     "text": [
      "tensor([[ 0.6494,  0.5733, -0.3654,  ..., -1.3062,  0.2245, -0.0372],\n",
      "        [-0.4787,  0.9365,  0.5085,  ...,  0.7159, -0.4259, -0.1901],\n",
      "        [ 0.3452,  0.8972,  0.0782,  ...,  0.3591,  1.5710,  1.5282],\n",
      "        ...,\n",
      "        [-0.7352, -0.4073,  0.4859,  ...,  0.1249,  0.3696,  0.4549],\n",
      "        [-1.4236,  0.2473,  1.2736,  ...,  0.0430, -1.1744,  0.3279],\n",
      "        [ 0.4971,  0.6214,  0.3031,  ...,  0.6614,  0.6193,  1.4010]])\n"
     ]
    },
    {
     "data": {
      "image/png": "[encoded data removed]",
      "text/plain": [
       "<PIL.Image.Image image mode=L size=28x28 at 0x7FA1C3546C18>"
      ]
     },
     "metadata": {},
     "output_type": "display_data"
    },
    {
     "name": "stdout",
     "output_type": "stream",
     "text": [
      "tensor([[ 1.0493,  1.2259,  0.1104,  ..., -0.3993,  1.1655,  1.0296],\n",
      "        [-0.6829,  0.2796,  0.2175,  ...,  0.0029, -0.2604,  0.0020],\n",
      "        [ 0.7325,  0.5062, -0.0718,  ...,  0.5486, -0.1578,  0.8521],\n",
      "        ...,\n",
      "        [ 0.0705, -0.7870,  0.0230,  ...,  0.6402,  1.3625,  1.4954],\n",
      "        [-0.6896,  0.6670,  0.3573,  ...,  0.6548,  0.7224,  1.3491],\n",
      "        [-0.0982,  0.0942,  0.6085,  ...,  0.1583,  0.3806,  0.6128]])\n"
     ]
    },
    {
     "data": {
      "image/png": "[encoded data removed]",
      "text/plain": [
       "<PIL.Image.Image image mode=L size=28x28 at 0x7FA1C3546C18>"
      ]
     },
     "metadata": {},
     "output_type": "display_data"
    },
    {
     "name": "stdout",
     "output_type": "stream",
     "text": [
      "tensor([[-0.4112, -0.2391, -0.1583,  ...,  0.6372,  0.9742,  1.4217],\n",
      "        [-0.6018,  0.4639, -1.1312,  ..., -0.5690, -0.4852, -0.7431],\n",
      "        [-0.0213,  1.4146,  0.1752,  ...,  0.3289, -0.7822,  0.9670],\n",
      "        ...,\n",
      "        [ 0.7124,  1.1666, -0.1737,  ..., -0.2889,  1.1289,  0.7392],\n",
      "        [-0.3830,  0.2170,  0.0997,  ...,  0.0053,  0.9678,  0.8404],\n",
      "        [ 0.3459, -0.4218,  0.9490,  ..., -0.9091, -1.0252,  0.5767]])\n"
     ]
    },
    {
     "data": {
      "image/png": "[encoded data removed]",
      "text/plain": [
       "<PIL.Image.Image image mode=L size=28x28 at 0x7FA1C352C0F0>"
      ]
     },
     "metadata": {},
     "output_type": "display_data"
    },
    {
     "name": "stdout",
     "output_type": "stream",
     "text": [
      "tensor([[ 0.3365, -0.4101,  0.4383,  ..., -0.0536,  1.1116, -0.1253],\n",
      "        [ 1.0670,  0.0228, -0.3554,  ...,  0.9361, -1.7545,  0.0462],\n",
      "        [ 0.8510,  1.2254,  0.3578,  ..., -1.1941,  1.8111,  0.3652],\n",
      "        ...,\n",
      "        [ 0.1897,  0.8876, -0.8374,  ...,  1.6323, -1.7428, -0.2393],\n",
      "        [ 0.4925,  1.0572, -1.7704,  ..., -2.1241, -0.3996,  0.4188],\n",
      "        [-0.3617, -1.7748,  0.4473,  ...,  0.3335,  0.7844,  1.6504]])\n"
     ]
    },
    {
     "data": {
      "image/png": "[encoded data removed]",
      "text/plain": [
       "<PIL.Image.Image image mode=L size=28x28 at 0x7FA1BDEA3E48>"
      ]
     },
     "metadata": {},
     "output_type": "display_data"
    },
    {
     "name": "stdout",
     "output_type": "stream",
     "text": [
      "tensor([[-2.1678, -2.6241, -3.1468,  ...,  0.4938,  0.6504,  0.5840],\n",
      "        [-1.5728, -2.7664,  0.1546,  ...,  0.9220,  2.0001,  1.8240],\n",
      "        [ 0.7654,  0.5339,  1.1381,  ..., -1.1222, -0.4940,  0.4277],\n",
      "        ...,\n",
      "        [ 0.0582,  0.1523, -0.6060,  ...,  0.1057,  0.4886,  0.5869],\n",
      "        [ 0.8213, -0.2631, -0.3827,  ...,  0.0951,  0.8031,  1.1991],\n",
      "        [-1.0627, -0.5852,  0.4482,  ..., -1.1536, -0.2204,  0.1167]])\n"
     ]
    },
    {
     "data": {
      "image/png": "[encoded data removed]",
      "text/plain": [
       "<PIL.Image.Image image mode=L size=28x28 at 0x7FA1C3546B38>"
      ]
     },
     "metadata": {},
     "output_type": "display_data"
    },
    {
     "name": "stdout",
     "output_type": "stream",
     "text": [
      "tensor([[ 0.9484, -1.0341,  1.1199,  ...,  1.0075,  0.3436, -1.2476],\n",
      "        [-0.7342,  0.8639, -1.0416,  ..., -0.1006, -0.5503,  0.0505],\n",
      "        [ 0.6413, -1.2411, -0.8178,  ..., -1.7288,  0.4809, -0.6827],\n",
      "        ...,\n",
      "        [ 0.4681, -1.8121, -0.9417,  ...,  0.8777,  0.7081,  1.7321],\n",
      "        [ 1.1406,  0.4644,  0.4350,  ...,  1.2565,  0.9709, -0.0269],\n",
      "        [-0.4501,  1.1933,  0.5319,  ...,  0.4271, -0.5103, -0.8568]])\n"
     ]
    },
    {
     "data": {
      "image/png": "[encoded data removed]",
      "text/plain": [
       "<PIL.Image.Image image mode=L size=28x28 at 0x7FA1C3546C88>"
      ]
     },
     "metadata": {},
     "output_type": "display_data"
    },
    {
     "name": "stdout",
     "output_type": "stream",
     "text": [
      "tensor([[ 0.2966,  0.6391,  0.1645,  ...,  0.5356, -0.8340, -0.4810],\n",
      "        [-0.2197,  0.9060,  0.2883,  ...,  0.8302,  0.7890,  0.3856],\n",
      "        [-0.5952,  0.7621, -0.3709,  ..., -0.9164,  0.0617,  0.9274],\n",
      "        ...,\n",
      "        [-0.3661,  0.0209,  0.9270,  ..., -0.8630,  0.8569,  0.7662],\n",
      "        [-0.5994, -0.2923,  0.9601,  ...,  0.4683, -0.3425,  0.7245],\n",
      "        [-0.1390,  0.2733, -0.0587,  ...,  0.5966,  0.1879,  0.4953]])\n"
     ]
    },
    {
     "data": {
      "image/png": "[encoded data removed]",
      "text/plain": [
       "<PIL.Image.Image image mode=L size=28x28 at 0x7FA1C3546C18>"
      ]
     },
     "metadata": {},
     "output_type": "display_data"
    },
    {
     "name": "stdout",
     "output_type": "stream",
     "text": [
      "tensor([[ 0.5438,  1.2145, -0.0100,  ..., -0.0113,  1.2148,  1.3934],\n",
      "        [-0.0171, -0.2997, -0.4412,  ..., -1.2902,  0.1431, -1.5147],\n",
      "        [ 0.4127, -0.8225,  0.3273,  ...,  0.7822,  0.0915, -1.0482],\n",
      "        ...,\n",
      "        [-0.8347, -1.2199,  0.6671,  ...,  1.1605,  0.6785,  0.7236],\n",
      "        [-0.0866,  1.3157,  0.5907,  ...,  0.3843, -0.0863,  0.7602],\n",
      "        [ 0.8392, -2.5277, -0.0694,  ..., -3.5455,  0.9088,  1.6608]])\n"
     ]
    },
    {
     "data": {
      "image/png": "[encoded data removed]",
      "text/plain": [
       "<PIL.Image.Image image mode=L size=28x28 at 0x7FA1C352C390>"
      ]
     },
     "metadata": {},
     "output_type": "display_data"
    },
    {
     "name": "stdout",
     "output_type": "stream",
     "text": [
      "tensor([[-0.5679,  1.1660, -0.1365,  ...,  0.6688,  0.9421,  0.8620],\n",
      "        [-2.8630, -1.6414,  0.2843,  ...,  0.0396, -0.3865,  0.0768],\n",
      "        [-0.2947, -1.2039,  0.3911,  ..., -0.4938,  0.4444, -1.0277],\n",
      "        ...,\n",
      "        [ 0.7010, -0.0509,  0.0239,  ...,  0.3709,  1.7085,  0.9750],\n",
      "        [-0.4423,  0.8335, -0.3028,  ...,  0.6063,  0.8587,  0.8041],\n",
      "        [-0.2083,  0.5591,  0.2488,  ..., -4.5642, -1.1215, -1.1678]])\n"
     ]
    },
    {
     "data": {
      "image/png": "[encoded data removed]",
      "text/plain": [
       "<PIL.Image.Image image mode=L size=28x28 at 0x7FA1BDEA3FD0>"
      ]
     },
     "metadata": {},
     "output_type": "display_data"
    },
    {
     "name": "stdout",
     "output_type": "stream",
     "text": [
      "tensor([[-2.8589,  0.9096, -0.7736,  ..., -1.1316,  1.0890,  1.2912],\n",
      "        [ 0.6630, -0.0073,  0.0252,  ...,  0.8356, -1.0986, -0.2050],\n",
      "        [-4.4528, -0.4277, -0.1284,  ...,  1.1845, -1.2437, -0.3302],\n",
      "        ...,\n",
      "        [ 0.7729, -0.6612,  0.2867,  ..., -2.4824,  1.0775,  1.0068],\n",
      "        [ 0.0157,  0.7671,  0.1813,  ...,  1.1842,  0.1880,  0.4533],\n",
      "        [-0.5251, -3.7460,  0.2407,  ..., -2.8185,  0.6412, -1.2621]])\n"
     ]
    },
    {
     "data": {
      "image/png": "[encoded data removed]",
      "text/plain": [
       "<PIL.Image.Image image mode=L size=28x28 at 0x7FA1C3546B38>"
      ]
     },
     "metadata": {},
     "output_type": "display_data"
    },
    {
     "name": "stdout",
     "output_type": "stream",
     "text": [
      "tensor([[ 0.5303, -0.1859,  0.8494,  ...,  0.7785,  0.2551,  0.3087],\n",
      "        [ 0.7309,  0.1366,  0.6908,  ...,  0.2917,  0.0187,  0.0519],\n",
      "        [-0.2098, -2.1459,  0.9315,  ...,  0.6169,  0.8515,  0.7588],\n",
      "        ...,\n",
      "        [-0.1802,  1.2856,  0.3481,  ..., -0.1496, -0.2540, -0.4896],\n",
      "        [-1.1397,  0.8577,  0.7817,  ..., -2.0112,  0.3701,  0.0309],\n",
      "        [ 0.7443,  0.7724, -0.6213,  ...,  1.1439, -0.0425, -2.4696]])\n"
     ]
    },
    {
     "data": {
      "image/png": "[encoded data removed]",
      "text/plain": [
       "<PIL.Image.Image image mode=L size=28x28 at 0x7FA1C3546C18>"
      ]
     },
     "metadata": {},
     "output_type": "display_data"
    },
    {
     "name": "stdout",
     "output_type": "stream",
     "text": [
      "tensor([[ 0.3451,  0.6776,  0.3404,  ...,  0.7176,  0.4923, -2.0281],\n",
      "        [ 0.1561,  1.1875,  0.5705,  ...,  0.3604,  0.8803,  0.4951],\n",
      "        [-0.2197,  0.9060,  0.2883,  ...,  0.8302,  0.7890,  0.3856],\n",
      "        ...,\n",
      "        [ 0.6856, -1.5555,  0.2515,  ...,  0.8365,  0.0514, -1.0067],\n",
      "        [ 0.2594,  0.5448,  0.5865,  ...,  1.0560, -1.0531, -0.6904],\n",
      "        [ 0.7585,  1.0199,  0.1286,  ..., -1.4223,  1.0314,  0.9060]])\n"
     ]
    },
    {
     "data": {
      "image/png": "[encoded data removed]",
      "text/plain": [
       "<PIL.Image.Image image mode=L size=28x28 at 0x7FA1C3546C88>"
      ]
     },
     "metadata": {},
     "output_type": "display_data"
    },
    {
     "name": "stdout",
     "output_type": "stream",
     "text": [
      "tensor([[ 0.2174,  0.3353,  0.4612,  ...,  0.3086,  0.6639, -0.7759],\n",
      "        [ 0.3405,  0.7670, -0.1611,  ...,  0.0327,  0.1812,  0.3642],\n",
      "        [ 0.5482,  1.0050,  0.4894,  ..., -1.2678,  1.0077,  0.9930],\n",
      "        ...,\n",
      "        [ 0.7418,  0.7493,  0.0562,  ...,  0.0455, -0.4838,  0.1771],\n",
      "        [ 0.4043,  0.3253,  0.8852,  ...,  0.9413, -1.4864, -1.0088],\n",
      "        [-0.0747,  0.3968,  0.0338,  ...,  0.4965,  0.8031, -1.8746]])\n"
     ]
    },
    {
     "data": {
      "image/png": "[encoded data removed]",
      "text/plain": [
       "<PIL.Image.Image image mode=L size=28x28 at 0x7FA1C352C390>"
      ]
     },
     "metadata": {},
     "output_type": "display_data"
    },
    {
     "name": "stdout",
     "output_type": "stream",
     "text": [
      "tensor([[-0.0301, -0.4030,  0.6700,  ..., -0.7127, -2.7961,  0.7684],\n",
      "        [ 0.2348,  1.1998, -1.3268,  ...,  0.9578, -0.2943, -0.7185],\n",
      "        [ 0.1972,  0.7266,  0.6580,  ..., -1.4136, -0.2285,  0.2092],\n",
      "        ...,\n",
      "        [-1.0425,  0.8891,  0.0214,  ...,  0.6391,  0.6218, -0.0231],\n",
      "        [ 0.8992,  1.3788,  0.0995,  ..., -0.6595,  0.9155, -1.6153],\n",
      "        [ 0.5618,  1.0546, -0.7761,  ..., -0.2855,  1.5632,  1.2734]])\n"
     ]
    },
    {
     "data": {
      "image/png": "[encoded data removed]",
      "text/plain": [
       "<PIL.Image.Image image mode=L size=28x28 at 0x7FA1BDEA3E10>"
      ]
     },
     "metadata": {},
     "output_type": "display_data"
    },
    {
     "name": "stdout",
     "output_type": "stream",
     "text": [
      "tensor([[ 0.6935,  0.9532, -1.8603,  ...,  0.2474, -0.3466,  0.4232],\n",
      "        [ 0.9954, -1.0228, -0.2270,  ..., -0.7473,  1.6045,  1.7172],\n",
      "        [ 0.5662,  1.2058,  0.2457,  ...,  0.5717,  1.0417, -1.6957],\n",
      "        ...,\n",
      "        [-0.1736,  0.6486,  0.0639,  ...,  1.3357,  1.2690,  1.0933],\n",
      "        [ 0.2137,  1.0869,  0.2975,  ...,  0.8505, -0.4640,  0.9690],\n",
      "        [ 0.5233, -0.1038, -0.8631,  ...,  0.3339,  0.1015,  0.8772]])\n"
     ]
    },
    {
     "data": {
      "image/png": "[encoded data removed]",
      "text/plain": [
       "<PIL.Image.Image image mode=L size=28x28 at 0x7FA1C3546B38>"
      ]
     },
     "metadata": {},
     "output_type": "display_data"
    },
    {
     "name": "stdout",
     "output_type": "stream",
     "text": [
      "tensor([[ 0.9271,  0.9404,  0.0971,  ...,  0.4321, -0.3327,  0.3601],\n",
      "        [ 0.4308,  0.6074,  0.7441,  ..., -0.0021,  0.5957,  0.7063],\n",
      "        [ 0.2000,  0.3453,  1.0864,  ...,  0.3900, -0.3247,  0.2298],\n",
      "        ...,\n",
      "        [-0.7276,  0.7429,  0.7329,  ...,  1.3768, -0.1714, -0.2135],\n",
      "        [ 0.5195,  0.6043,  0.3249,  ...,  0.5544, -0.1277,  0.8855],\n",
      "        [-0.4436,  1.1452, -1.4253,  ...,  1.0002,  0.4738, -0.2551]])\n"
     ]
    },
    {
     "data": {
      "image/png": "[encoded data removed]",
      "text/plain": [
       "<PIL.Image.Image image mode=L size=28x28 at 0x7FA1C3546C18>"
      ]
     },
     "metadata": {},
     "output_type": "display_data"
    },
    {
     "name": "stdout",
     "output_type": "stream",
     "text": [
      "tensor([[-1.5629,  0.4527,  0.7695,  ...,  0.4544,  1.1006,  1.1466],\n",
      "        [ 0.3968,  1.0259,  0.5162,  ..., -0.2359, -0.3137, -1.2928],\n",
      "        [ 0.4153,  0.3406,  1.0749,  ...,  0.8235, -0.2164, -0.8170],\n",
      "        ...,\n",
      "        [-0.8909, -0.1815, -0.3497,  ..., -0.2449,  0.6759,  1.5359],\n",
      "        [-4.4528, -0.4277, -0.1284,  ...,  1.1845, -1.2437, -0.3302],\n",
      "        [-0.8642, -1.3325,  0.3887,  ..., -0.9611,  0.1552,  0.5263]])\n"
     ]
    },
    {
     "data": {
      "image/png": "[encoded data removed]",
      "text/plain": [
       "<PIL.Image.Image image mode=L size=28x28 at 0x7FA1C352C0F0>"
      ]
     },
     "metadata": {},
     "output_type": "display_data"
    },
    {
     "name": "stdout",
     "output_type": "stream",
     "text": [
      "tensor([[ 0.4829,  0.7486,  0.6044,  ..., -1.2863,  0.4008, -1.1969],\n",
      "        [-0.2719,  0.6709, -0.2927,  ...,  1.2963,  0.2211, -0.4972],\n",
      "        [ 0.4401, -0.0298,  0.0643,  ..., -1.0547,  0.5500, -0.8293],\n",
      "        ...,\n",
      "        [ 0.4604,  0.6911,  0.3566,  ..., -0.2794,  1.4317, -0.3855],\n",
      "        [ 0.3451,  0.6776,  0.3404,  ...,  0.7176,  0.4923, -2.0281],\n",
      "        [ 0.0441, -0.0936,  0.3700,  ...,  0.8536,  0.3855,  0.0930]])\n"
     ]
    },
    {
     "data": {
      "image/png": "[encoded data removed]",
      "text/plain": [
       "<PIL.Image.Image image mode=L size=28x28 at 0x7FA1C3546C18>"
      ]
     },
     "metadata": {},
     "output_type": "display_data"
    },
    {
     "name": "stdout",
     "output_type": "stream",
     "text": [
      "tensor([[-6.9420e-01,  1.3390e+00,  5.9223e-01,  ...,  8.4467e-01,\n",
      "         -1.6503e-01, -1.9056e+00],\n",
      "        [ 3.6182e-01, -7.0518e-03, -1.1816e+00,  ...,  1.0189e+00,\n",
      "         -1.9413e-05,  5.9470e-01],\n",
      "        [ 6.4875e-01, -4.9779e-02,  3.1150e-01,  ..., -6.0542e-01,\n",
      "         -1.1984e+00,  4.9052e-01],\n",
      "        ...,\n",
      "        [-1.1376e+00,  7.8953e-01,  2.3773e-01,  ...,  8.4586e-02,\n",
      "          8.3237e-01,  1.1762e+00],\n",
      "        [-1.6134e+00,  9.6123e-01,  2.0744e-01,  ..., -3.8955e-01,\n",
      "          5.8383e-01,  1.0849e+00],\n",
      "        [ 9.4922e-01,  7.6587e-01, -5.2760e-01,  ..., -2.5773e+00,\n",
      "         -5.1467e+00,  3.2946e-01]])\n"
     ]
    },
    {
     "data": {
      "image/png": "[encoded data removed]",
      "text/plain": [
       "<PIL.Image.Image image mode=L size=28x28 at 0x7FA1BDEA3F60>"
      ]
     },
     "metadata": {},
     "output_type": "display_data"
    },
    {
     "name": "stdout",
     "output_type": "stream",
     "text": [
      "tensor([[ 0.6130,  1.1218, -0.4104,  ...,  0.4791, -0.9103, -0.7762],\n",
      "        [-0.4428,  0.7563,  0.0760,  ...,  0.5970,  1.8078,  1.7926],\n",
      "        [ 0.1482,  0.6586,  0.8264,  ...,  0.7837, -0.3466, -0.7664],\n",
      "        ...,\n",
      "        [-0.4400,  0.3756,  0.2604,  ..., -0.5133,  1.4273,  1.2309],\n",
      "        [-0.5689,  1.1496, -0.9780,  ...,  1.0553,  0.6566,  0.9093],\n",
      "        [ 0.1810,  0.8157,  0.0203,  ...,  0.2258,  0.5534,  0.1008]])\n"
     ]
    },
    {
     "data": {
      "image/png": "[encoded data removed]",
      "text/plain": [
       "<PIL.Image.Image image mode=L size=28x28 at 0x7FA1BDEA3198>"
      ]
     },
     "metadata": {},
     "output_type": "display_data"
    },
    {
     "name": "stdout",
     "output_type": "stream",
     "text": [
      "tensor([[ 1.3159,  0.7159,  0.1478,  ...,  0.9332,  0.7240, -0.5344],\n",
      "        [-5.0948,  0.2970,  0.0816,  ...,  0.0610,  1.2147,  0.9386],\n",
      "        [-0.9936,  0.5387, -0.3820,  ...,  1.0717, -0.4204, -0.0886],\n",
      "        ...,\n",
      "        [ 0.0477, -0.5806, -0.2862,  ...,  0.2390,  0.2862, -1.1323],\n",
      "        [ 0.5389,  0.4880,  0.2650,  ...,  0.2555, -1.7933, -0.6971],\n",
      "        [-2.8407,  0.0207, -0.5927,  ...,  0.8482,  0.4566,  0.7038]])\n"
     ]
    },
    {
     "data": {
      "image/png": "[encoded data removed]",
      "text/plain": [
       "<PIL.Image.Image image mode=L size=28x28 at 0x7FA1C352C390>"
      ]
     },
     "metadata": {},
     "output_type": "display_data"
    },
    {
     "name": "stdout",
     "output_type": "stream",
     "text": [
      "tensor([[ 0.8276,  0.4579,  0.4994,  ...,  1.0120,  0.4094,  0.7281],\n",
      "        [ 0.6853, -1.1650,  0.7001,  ...,  1.1620,  0.0470,  0.1001],\n",
      "        [ 0.4048,  0.2273, -0.4669,  ..., -0.5644,  0.8247,  1.0443],\n",
      "        ...,\n",
      "        [ 0.6845,  1.0462, -0.3385,  ...,  0.8397,  0.7488, -0.1907],\n",
      "        [-2.6545,  0.7020,  0.1509,  ...,  0.8148,  0.0166,  0.8163],\n",
      "        [ 0.6966,  0.8232,  0.4475,  ...,  1.1512,  0.7541,  1.0634]])\n"
     ]
    },
    {
     "data": {
      "image/png": "[encoded data removed]",
      "text/plain": [
       "<PIL.Image.Image image mode=L size=28x28 at 0x7FA1C352C2E8>"
      ]
     },
     "metadata": {},
     "output_type": "display_data"
    },
    {
     "name": "stdout",
     "output_type": "stream",
     "text": [
      "tensor([[ 0.2509,  0.5563,  0.8565,  ..., -1.0777,  0.7118,  0.0042],\n",
      "        [-0.2669,  0.3077, -0.7249,  ...,  0.0607,  1.8128,  0.4474],\n",
      "        [-0.9454,  0.4440,  0.0995,  ..., -3.1782, -0.6743, -1.1603],\n",
      "        ...,\n",
      "        [ 0.1533,  0.0993, -0.1363,  ...,  0.4579, -0.4444,  0.2162],\n",
      "        [-0.1858, -0.1351,  0.4977,  ..., -0.2423,  0.7497, -0.2406],\n",
      "        [-0.3343,  0.9485,  0.3207,  ...,  0.6414,  0.2535, -0.0093]])\n"
     ]
    },
    {
     "data": {
      "image/png": "[encoded data removed]",
      "text/plain": [
       "<PIL.Image.Image image mode=L size=28x28 at 0x7FA1C352C4E0>"
      ]
     },
     "metadata": {},
     "output_type": "display_data"
    },
    {
     "name": "stdout",
     "output_type": "stream",
     "text": [
      "tensor([[ 0.5372,  0.5066,  0.2334,  ...,  0.9398,  0.6089,  0.5378],\n",
      "        [ 0.8639, -1.2537, -1.5721,  ..., -0.1511, -0.5141, -0.2352],\n",
      "        [ 0.4695,  0.6708,  0.0048,  ..., -0.7280,  0.5725,  0.9060],\n",
      "        ...,\n",
      "        [ 0.1195,  1.0783,  0.5265,  ...,  0.5507, -0.0786,  0.0376],\n",
      "        [ 0.9504,  1.4020, -0.2052,  ...,  0.2123,  1.7052,  1.6638],\n",
      "        [ 0.0732,  0.9365,  0.7181,  ..., -0.3369,  1.4323,  0.2379]])\n"
     ]
    },
    {
     "data": {
      "image/png": "[encoded data removed]",
      "text/plain": [
       "<PIL.Image.Image image mode=L size=28x28 at 0x7FA1C352C2E8>"
      ]
     },
     "metadata": {},
     "output_type": "display_data"
    },
    {
     "name": "stdout",
     "output_type": "stream",
     "text": [
      "tensor([[ 0.1097,  1.3644, -0.6101,  ..., -2.4067, -2.1728, -0.3772],\n",
      "        [ 0.6430, -0.2297, -0.0771,  ...,  0.2097,  1.8557, -0.1565],\n",
      "        [ 0.3680,  0.5682, -0.0300,  ..., -0.2886,  0.6527, -1.1660],\n",
      "        ...,\n",
      "        [-1.2901, -1.1616, -0.2689,  ...,  0.4050,  1.3248,  0.7494],\n",
      "        [-0.9554,  0.8019, -0.6271,  ...,  0.1539,  1.3058,  2.0682],\n",
      "        [ 0.8562, -0.0782,  0.2659,  ..., -0.3668, -1.8967,  0.7191]])\n"
     ]
    },
    {
     "data": {
      "image/png": "[encoded data removed]",
      "text/plain": [
       "<PIL.Image.Image image mode=L size=28x28 at 0x7FA1C3546B38>"
      ]
     },
     "metadata": {},
     "output_type": "display_data"
    },
    {
     "name": "stdout",
     "output_type": "stream",
     "text": [
      "tensor([[ 0.4263, -3.3559,  0.8967,  ..., -0.2556, -0.3193, -0.2704],\n",
      "        [ 0.6817, -0.1748, -1.2168,  ...,  0.6529, -0.3892, -0.1943],\n",
      "        [ 0.3634,  0.3367,  0.2970,  ...,  0.5122,  0.9526,  1.1088],\n",
      "        ...,\n",
      "        [ 0.1306,  1.2633,  0.5801,  ...,  0.4888, -0.9505,  0.9202],\n",
      "        [-0.0459, -0.4190,  0.1216,  ...,  1.1366, -0.5336, -1.3296],\n",
      "        [-1.4720,  0.1641, -0.3433,  ..., -0.2225, -0.4288,  0.8091]])\n"
     ]
    },
    {
     "data": {
      "image/png": "[encoded data removed]",
      "text/plain": [
       "<PIL.Image.Image image mode=L size=28x28 at 0x7FA1BDEA3240>"
      ]
     },
     "metadata": {},
     "output_type": "display_data"
    },
    {
     "name": "stdout",
     "output_type": "stream",
     "text": [
      "tensor([[ 0.0848,  0.0117,  0.5004,  ...,  0.2506, -0.1356,  0.0790],\n",
      "        [-1.5384,  1.2005,  0.5234,  ...,  0.7657,  0.7183,  0.9083],\n",
      "        [ 0.3328,  0.9067, -3.0999,  ...,  0.3557, -0.7132, -1.0617],\n",
      "        ...,\n",
      "        [-1.1443,  0.0186, -0.0802,  ...,  0.4721, -0.2199,  0.8431],\n",
      "        [-0.0847,  1.1400, -0.5186,  ...,  0.6563,  0.7636,  1.1290],\n",
      "        [-0.7155,  0.9674,  0.7772,  ...,  1.2660,  0.0059,  0.5474]])\n"
     ]
    },
    {
     "data": {
      "image/png": "[encoded data removed]",
      "text/plain": [
       "<PIL.Image.Image image mode=L size=28x28 at 0x7FA25460EC18>"
      ]
     },
     "metadata": {},
     "output_type": "display_data"
    },
    {
     "name": "stdout",
     "output_type": "stream",
     "text": [
      "tensor([[-0.4058, -0.9204,  0.7842,  ...,  0.3240,  1.6662,  1.9097],\n",
      "        [ 0.4257, -0.3198, -0.1650,  ..., -0.9271,  0.3859,  0.8708],\n",
      "        [ 0.5743,  0.5519, -1.7315,  ..., -3.1348, -0.7130, -2.2103],\n",
      "        ...,\n",
      "        [ 0.4687, -1.6763, -0.1151,  ...,  0.8045,  0.8997, -0.8891],\n",
      "        [ 0.1763,  0.5294, -1.1777,  ...,  0.0460,  0.9035,  0.7054],\n",
      "        [ 0.8796,  0.8379, -3.3230,  ..., -0.0092, -0.6692,  0.8742]])\n"
     ]
    },
    {
     "data": {
      "image/png": "[encoded data removed]",
      "text/plain": [
       "<PIL.Image.Image image mode=L size=28x28 at 0x7FA1C3546C88>"
      ]
     },
     "metadata": {},
     "output_type": "display_data"
    },
    {
     "name": "stdout",
     "output_type": "stream",
     "text": [
      "tensor([[-0.2268,  0.7717, -0.3194,  ...,  0.2115,  1.3941,  1.8112],\n",
      "        [-2.5387, -1.5288,  0.1327,  ..., -0.0175, -0.9120, -0.3057],\n",
      "        [ 0.1640,  0.4507,  0.1447,  ...,  0.5222, -1.4757, -0.2114],\n",
      "        ...,\n",
      "        [ 1.2487,  0.2519,  0.2773,  ..., -2.5379, -0.9623,  0.7678],\n",
      "        [ 0.0786, -2.5001,  0.3707,  ..., -3.1224, -0.2772,  0.7251],\n",
      "        [ 0.3611,  0.3179, -0.3319,  ...,  0.0659,  0.2772,  0.9595]])\n"
     ]
    },
    {
     "data": {
      "image/png": "[encoded data removed]",
      "text/plain": [
       "<PIL.Image.Image image mode=L size=28x28 at 0x7FA1C3546B38>"
      ]
     },
     "metadata": {},
     "output_type": "display_data"
    },
    {
     "name": "stdout",
     "output_type": "stream",
     "text": [
      "tensor([[ 0.3972,  0.7401,  0.3751,  ...,  0.9631,  1.7346,  0.8156],\n",
      "        [ 0.3832, -0.8855,  0.0415,  ...,  0.8503,  0.8394,  0.1328],\n",
      "        [ 0.3815,  0.5834,  0.1416,  ...,  0.3901,  0.6643,  1.4718],\n",
      "        ...,\n",
      "        [-0.5738,  0.3954,  0.5865,  ...,  0.8618, -0.6028, -1.6960],\n",
      "        [-0.3409, -1.6373,  0.4251,  ..., -0.4372, -0.8214, -0.5630],\n",
      "        [-0.9893, -0.1057, -0.7605,  ...,  0.2029,  0.5740,  0.6613]])\n"
     ]
    },
    {
     "data": {
      "image/png": "[encoded data removed]",
      "text/plain": [
       "<PIL.Image.Image image mode=L size=28x28 at 0x7FA1C352C390>"
      ]
     },
     "metadata": {},
     "output_type": "display_data"
    },
    {
     "name": "stdout",
     "output_type": "stream",
     "text": [
      "tensor([[ 0.6660, -1.1274, -0.1888,  ..., -0.3174, -0.4065, -2.6479],\n",
      "        [ 0.4286, -2.2598, -1.5794,  ...,  0.6029,  1.1349, -0.4812],\n",
      "        [ 0.3739,  0.3388, -0.2610,  ..., -1.4862,  1.3616, -0.1637],\n",
      "        ...,\n",
      "        [-0.2566,  0.0802,  0.1699,  ..., -0.2877, -0.6088, -1.2347],\n",
      "        [ 1.0626,  0.7802,  0.0446,  ...,  0.9822,  1.3366,  0.1204],\n",
      "        [ 0.2617,  0.6613, -0.6534,  ..., -0.6754,  0.6700,  0.3968]])\n"
     ]
    },
    {
     "data": {
      "image/png": "[encoded data removed]",
      "text/plain": [
       "<PIL.Image.Image image mode=L size=28x28 at 0x7FA1BDEA3F98>"
      ]
     },
     "metadata": {},
     "output_type": "display_data"
    },
    {
     "name": "stdout",
     "output_type": "stream",
     "text": [
      "tensor([[-0.4803,  0.5591,  0.5298,  ...,  0.4982, -0.5888, -2.9045],\n",
      "        [ 0.3395,  1.4298, -1.2869,  ...,  0.0601,  0.3496, -0.6461],\n",
      "        [-0.0159, -1.6795,  0.9633,  ...,  0.2897,  0.1823,  0.7027],\n",
      "        ...,\n",
      "        [-0.7531, -0.0397, -0.8154,  ...,  1.1459, -0.2333,  0.1404],\n",
      "        [ 0.6947, -2.2017,  0.2671,  ...,  0.1529,  0.6399,  1.2513],\n",
      "        [ 0.7536,  0.0063,  0.7232,  ...,  0.0633, -2.4039, -0.6793]])\n"
     ]
    },
    {
     "data": {
      "image/png": "[encoded data removed]",
      "text/plain": [
       "<PIL.Image.Image image mode=L size=28x28 at 0x7FA1C3546C18>"
      ]
     },
     "metadata": {},
     "output_type": "display_data"
    },
    {
     "name": "stdout",
     "output_type": "stream",
     "text": [
      "tensor([[ 0.0659,  0.0976,  0.7053,  ..., -0.3847, -0.0769, -1.4330],\n",
      "        [ 0.3214, -0.2002,  0.4951,  ..., -0.0514, -0.1398,  0.7799],\n",
      "        [ 0.4152, -2.6636,  0.9618,  ...,  1.0682, -0.4355, -1.3254],\n",
      "        ...,\n",
      "        [ 0.4008, -0.0709, -0.6762,  ..., -0.4495, -0.5024,  0.9931],\n",
      "        [ 0.7076, -3.8520,  0.0602,  ...,  0.1170,  0.7686, -0.5988],\n",
      "        [ 0.4444,  0.0047,  0.3507,  ...,  0.3069,  0.1857, -0.7275]])\n"
     ]
    },
    {
     "data": {
      "image/png": "[encoded data removed]",
      "text/plain": [
       "<PIL.Image.Image image mode=L size=28x28 at 0x7FA1C352C390>"
      ]
     },
     "metadata": {},
     "output_type": "display_data"
    },
    {
     "name": "stdout",
     "output_type": "stream",
     "text": [
      "tensor([[ 0.4560,  0.7567,  0.2138,  ...,  0.8560,  0.7314,  0.8627],\n",
      "        [-0.0978, -2.7655,  0.4171,  ..., -0.8921, -1.1258,  0.4887],\n",
      "        [ 0.6822, -0.2151, -0.1104,  ...,  0.8872,  1.6051,  1.4833],\n",
      "        ...,\n",
      "        [ 0.4477,  1.2347,  0.6256,  ...,  0.6060, -2.4132,  0.4841],\n",
      "        [ 1.2768,  0.8366, -0.0578,  ..., -0.1537,  1.3820,  1.2616],\n",
      "        [ 0.1114,  1.3722, -0.7183,  ...,  0.6864, -1.8491, -0.4588]])\n"
     ]
    },
    {
     "data": {
      "image/png": "[encoded data removed]",
      "text/plain": [
       "<PIL.Image.Image image mode=L size=28x28 at 0x7FA1C352C0F0>"
      ]
     },
     "metadata": {},
     "output_type": "display_data"
    },
    {
     "name": "stdout",
     "output_type": "stream",
     "text": [
      "tensor([[ 0.9171, -0.1362, -0.0360,  ...,  0.1925,  2.3446,  1.8299],\n",
      "        [-0.5002,  0.4700,  0.0619,  ...,  0.0735,  1.0582,  0.9188],\n",
      "        [-0.0187,  1.0616,  0.2703,  ...,  0.9278, -0.6896,  0.5599],\n",
      "        ...,\n",
      "        [ 0.7123, -2.2502, -0.1350,  ...,  0.9029,  0.2461,  0.7909],\n",
      "        [ 0.0516,  1.2606, -0.6464,  ...,  0.3771, -0.3822, -1.5687],\n",
      "        [ 0.5157,  0.4313, -0.6543,  ...,  0.2891, -0.7679,  0.0114]])\n"
     ]
    },
    {
     "data": {
      "image/png": "[encoded data removed]",
      "text/plain": [
       "<PIL.Image.Image image mode=L size=28x28 at 0x7FA1C3546B38>"
      ]
     },
     "metadata": {},
     "output_type": "display_data"
    },
    {
     "name": "stdout",
     "output_type": "stream",
     "text": [
      "tensor([[-0.2551, -3.2276,  0.2476,  ...,  0.3064,  1.5071,  0.1374],\n",
      "        [-0.3939,  1.0249,  0.4700,  ...,  0.6061,  1.0767,  0.0047],\n",
      "        [ 0.6814,  0.4908, -1.4972,  ...,  0.3154,  0.0582,  0.6173],\n",
      "        ...,\n",
      "        [-0.4024, -0.8268, -0.8216,  ..., -0.4263, -0.1998, -0.8806],\n",
      "        [-0.3192,  1.1821,  0.7407,  ..., -1.1741,  0.4082,  0.4548],\n",
      "        [ 0.3804, -2.2868, -1.7692,  ...,  1.0863, -0.3316, -1.1899]])\n"
     ]
    },
    {
     "data": {
      "image/png": "[encoded data removed]",
      "text/plain": [
       "<PIL.Image.Image image mode=L size=28x28 at 0x7FA1BDEA3320>"
      ]
     },
     "metadata": {},
     "output_type": "display_data"
    },
    {
     "name": "stdout",
     "output_type": "stream",
     "text": [
      "tensor([[ 0.0353,  0.7230, -1.8892,  ..., -0.4687,  0.0919,  0.6498],\n",
      "        [ 1.0279, -0.3603, -1.3009,  ...,  0.2847, -1.0290, -1.9270],\n",
      "        [ 0.0467,  0.8186, -0.0706,  ...,  0.9387,  1.2321,  1.1973],\n",
      "        ...,\n",
      "        [ 0.2744,  0.5120,  0.3634,  ..., -1.2368,  0.7078,  1.1262],\n",
      "        [-0.1411, -1.2233,  0.5234,  ...,  0.2309, -0.3274,  0.8551],\n",
      "        [ 0.4104,  0.2903, -1.8069,  ...,  0.8702,  0.3887,  0.1651]])\n"
     ]
    },
    {
     "data": {
      "image/png": "[encoded data removed]",
      "text/plain": [
       "<PIL.Image.Image image mode=L size=28x28 at 0x7FA1BDEA3390>"
      ]
     },
     "metadata": {},
     "output_type": "display_data"
    },
    {
     "name": "stdout",
     "output_type": "stream",
     "text": [
      "tensor([[ 0.3706, -1.0941, -0.0466,  ..., -0.1004,  0.0225, -0.1278],\n",
      "        [-0.1537,  0.6012,  0.9325,  ...,  0.6552,  0.2267,  0.8669],\n",
      "        [ 1.1506,  0.3676, -0.2894,  ...,  1.3894,  0.3762,  0.5341],\n",
      "        ...,\n",
      "        [-1.7674, -1.6771, -1.5358,  ...,  1.1751,  0.3729,  0.8105],\n",
      "        [ 1.0653,  0.4683, -0.0156,  ...,  0.7628,  0.2825,  0.4343],\n",
      "        [ 0.5962,  0.1656,  0.8976,  ...,  0.8331, -2.0104,  0.4090]])\n"
     ]
    },
    {
     "data": {
      "image/png": "[encoded data removed]",
      "text/plain": [
       "<PIL.Image.Image image mode=L size=28x28 at 0x7FA1C352C4E0>"
      ]
     },
     "metadata": {},
     "output_type": "display_data"
    },
    {
     "name": "stdout",
     "output_type": "stream",
     "text": [
      "tensor([[ 0.6682,  0.8152, -0.5233,  ...,  1.1048,  0.6795,  0.4560],\n",
      "        [ 0.4546,  0.8079, -0.8990,  ..., -0.0623,  0.7208,  0.3534],\n",
      "        [-0.2214,  0.6623,  0.5354,  ...,  0.5610,  0.1200, -0.9300],\n",
      "        ...,\n",
      "        [-2.0207,  1.1760, -1.4891,  ..., -1.7736,  0.0203, -1.6249],\n",
      "        [ 0.5243, -0.9706,  0.6063,  ...,  1.1444,  0.8905, -0.8984],\n",
      "        [-1.7533, -0.4237, -0.3366,  ...,  0.3689,  1.1000,  0.6791]])\n"
     ]
    },
    {
     "data": {
      "image/png": "[encoded data removed]",
      "text/plain": [
       "<PIL.Image.Image image mode=L size=28x28 at 0x7FA1C352C2E8>"
      ]
     },
     "metadata": {},
     "output_type": "display_data"
    },
    {
     "name": "stdout",
     "output_type": "stream",
     "text": [
      "tensor([[ 1.3489e-01,  8.2102e-01, -2.1411e+00,  ...,  5.3919e-01,\n",
      "         -1.0500e-03,  1.0572e+00],\n",
      "        [-4.1001e-01, -1.0948e-01,  6.8467e-01,  ...,  4.8793e-01,\n",
      "         -2.0889e-01, -1.6282e-01],\n",
      "        [ 5.4457e-01,  1.1128e+00, -8.7568e-01,  ...,  5.3361e-02,\n",
      "          1.0235e+00, -2.6233e-01],\n",
      "        ...,\n",
      "        [-9.7735e-01,  1.6251e-01, -2.3343e-01,  ...,  8.9894e-01,\n",
      "          1.0159e-01,  5.3087e-02],\n",
      "        [-6.2121e-01,  7.4822e-01,  4.2998e-01,  ...,  8.0829e-01,\n",
      "          8.7453e-01,  1.1334e+00],\n",
      "        [-1.2349e+00,  5.4451e-01,  4.6303e-01,  ..., -5.4812e-01,\n",
      "          9.1468e-01, -2.8489e-03]])\n"
     ]
    },
    {
     "data": {
      "image/png": "[encoded data removed]",
      "text/plain": [
       "<PIL.Image.Image image mode=L size=28x28 at 0x7FA1C352C390>"
      ]
     },
     "metadata": {},
     "output_type": "display_data"
    },
    {
     "name": "stdout",
     "output_type": "stream",
     "text": [
      "tensor([[ 0.4879,  0.6925, -1.2488,  ..., -0.7072,  0.4291,  0.4890],\n",
      "        [ 1.2553,  0.8075, -1.7409,  ...,  0.1922,  0.8407,  1.2223],\n",
      "        [-2.8630, -1.6414,  0.2843,  ...,  0.0396, -0.3865,  0.0768],\n",
      "        ...,\n",
      "        [-2.0540,  0.2766, -0.4104,  ..., -0.4445, -1.3910, -1.3114],\n",
      "        [ 0.3510,  0.1724,  0.5207,  ...,  0.5990, -0.7879,  0.6601],\n",
      "        [-0.4367, -1.2333, -0.1555,  ..., -0.8212,  1.9929,  0.5998]])\n"
     ]
    },
    {
     "data": {
      "image/png": "[encoded data removed]",
      "text/plain": [
       "<PIL.Image.Image image mode=L size=28x28 at 0x7FA1C3546C18>"
      ]
     },
     "metadata": {},
     "output_type": "display_data"
    },
    {
     "name": "stdout",
     "output_type": "stream",
     "text": [
      "tensor([[ 0.6990,  0.0406, -1.1674,  ...,  0.3509,  0.0107,  0.4653],\n",
      "        [ 0.0541,  0.9598,  0.8885,  ..., -3.0308,  0.9260,  0.1739],\n",
      "        [-0.5820, -0.7577, -1.3374,  ...,  0.2658,  1.0328,  0.4137],\n",
      "        ...,\n",
      "        [ 0.2881,  0.1217,  0.1276,  ...,  1.1602, -1.4037,  0.4636],\n",
      "        [ 0.8932,  0.6599, -0.2632,  ..., -0.4552,  1.4770,  1.8699],\n",
      "        [-1.7578,  0.1036, -0.1648,  ...,  0.2738,  0.2463,  1.3884]])\n"
     ]
    },
    {
     "data": {
      "image/png": "[encoded data removed]",
      "text/plain": [
       "<PIL.Image.Image image mode=L size=28x28 at 0x7FA1BDEA3438>"
      ]
     },
     "metadata": {},
     "output_type": "display_data"
    },
    {
     "name": "stdout",
     "output_type": "stream",
     "text": [
      "tensor([[-0.6567, -1.1751,  1.3537,  ...,  0.0720, -1.2648, -1.1979],\n",
      "        [ 0.1305, -1.0024, -0.7268,  ...,  0.9350, -2.2527,  0.2573],\n",
      "        [ 0.4700,  0.4632,  0.0724,  ...,  0.1423,  1.0018,  0.8629],\n",
      "        ...,\n",
      "        [-0.9052,  0.2452, -0.3992,  ...,  0.4037,  1.6204,  1.7804],\n",
      "        [ 0.1885, -0.5816, -0.0078,  ...,  1.0297,  0.0384,  0.9494],\n",
      "        [ 0.4577, -1.2482,  0.0690,  ...,  0.3939,  1.1103,  1.6184]])\n"
     ]
    },
    {
     "data": {
      "image/png": "[encoded data removed]",
      "text/plain": [
       "<PIL.Image.Image image mode=L size=28x28 at 0x7FA1C352C0F0>"
      ]
     },
     "metadata": {},
     "output_type": "display_data"
    },
    {
     "name": "stdout",
     "output_type": "stream",
     "text": [
      "tensor([[ 0.7001,  0.8815,  0.0894,  ...,  0.7124, -0.1060, -0.2523],\n",
      "        [-3.5251, -0.6732, -1.3640,  ...,  1.0672, -1.2461, -1.1193],\n",
      "        [ 0.7449,  0.5018,  0.1616,  ...,  0.2946,  0.8027,  0.4393],\n",
      "        ...,\n",
      "        [ 0.3545,  1.0761,  0.2544,  ..., -0.0425,  0.9552,  0.7887],\n",
      "        [-4.2238, -0.4862,  0.8980,  ..., -0.6754, -2.2728, -0.4567],\n",
      "        [ 0.9083, -1.9277,  0.1113,  ...,  0.1731,  0.3054,  1.8192]])\n"
     ]
    },
    {
     "data": {
      "image/png": "[encoded data removed]",
      "text/plain": [
       "<PIL.Image.Image image mode=L size=28x28 at 0x7FA1C352C2E8>"
      ]
     },
     "metadata": {},
     "output_type": "display_data"
    },
    {
     "name": "stdout",
     "output_type": "stream",
     "text": [
      "tensor([[ 0.4660,  0.3910,  0.6026,  ...,  0.4506,  0.9767,  1.1911],\n",
      "        [ 0.3241,  1.0283,  0.4356,  ..., -2.7369,  0.0959, -0.5280],\n",
      "        [ 0.6048,  0.8155,  0.3522,  ..., -1.2170,  1.5262,  1.2644],\n",
      "        ...,\n",
      "        [-0.1097,  1.1211, -0.1718,  ...,  0.4764,  1.1462,  1.1639],\n",
      "        [ 0.2533,  1.1026,  0.6259,  ..., -4.9824,  0.7134, -0.4245],\n",
      "        [-2.3957,  0.1261, -0.4482,  ...,  0.5852, -0.3227,  0.1525]])\n"
     ]
    },
    {
     "data": {
      "image/png": "[encoded data removed]",
      "text/plain": [
       "<PIL.Image.Image image mode=L size=28x28 at 0x7FA1C352C4E0>"
      ]
     },
     "metadata": {},
     "output_type": "display_data"
    },
    {
     "name": "stdout",
     "output_type": "stream",
     "text": [
      "tensor([[ 0.1882,  0.8884, -1.6430,  ...,  0.8745,  0.1872,  0.3974],\n",
      "        [-0.9775,  0.8989, -0.3226,  ..., -1.0052,  1.6823,  1.2110],\n",
      "        [ 0.0758,  1.0680, -0.2561,  ..., -0.4250,  0.5160,  0.6823],\n",
      "        ...,\n",
      "        [-0.2575,  0.0213, -1.5092,  ...,  0.5528,  0.5116, -1.6791],\n",
      "        [ 0.5860, -1.7115, -0.5432,  ...,  1.3259,  1.2965,  0.9176],\n",
      "        [-1.4849,  0.8341, -0.0569,  ...,  0.9342, -0.2106,  1.3796]])\n"
     ]
    },
    {
     "data": {
      "image/png": "[encoded data removed]",
      "text/plain": [
       "<PIL.Image.Image image mode=L size=28x28 at 0x7FA1C3546C18>"
      ]
     },
     "metadata": {},
     "output_type": "display_data"
    },
    {
     "name": "stdout",
     "output_type": "stream",
     "text": [
      "tensor([[ 0.5140, -0.3575,  0.5040,  ..., -0.0760,  0.6683,  0.4330],\n",
      "        [-0.0733, -0.6491, -0.4393,  ..., -0.9156,  0.9098,  0.4716],\n",
      "        [ 0.1662,  0.5470, -0.5114,  ..., -0.1029,  0.3902,  0.1827],\n",
      "        ...,\n",
      "        [-0.8052, -0.1694,  0.5293,  ...,  0.0605,  0.6669,  1.1560],\n",
      "        [ 1.0689,  0.4072, -0.4512,  ..., -0.4647,  1.5077,  0.9047],\n",
      "        [ 0.5954, -2.2595,  0.1750,  ...,  0.0715, -2.1801, -1.2145]])\n"
     ]
    },
    {
     "data": {
      "image/png": "[encoded data removed]",
      "text/plain": [
       "<PIL.Image.Image image mode=L size=28x28 at 0x7FA1BDEA3320>"
      ]
     },
     "metadata": {},
     "output_type": "display_data"
    },
    {
     "name": "stdout",
     "output_type": "stream",
     "text": [
      "tensor([[ 0.0144,  0.8426,  0.5264,  ..., -0.2914,  1.0793,  1.3905],\n",
      "        [-0.9977,  1.2739, -0.3793,  ..., -0.1025,  1.5789,  0.1844],\n",
      "        [-4.5869,  0.3821, -1.1948,  ...,  0.2040, -0.3611,  0.1395],\n",
      "        ...,\n",
      "        [ 0.5587,  0.2840,  0.7635,  ...,  0.2292, -0.1744,  0.0275],\n",
      "        [-0.3899,  1.1836, -0.1903,  ...,  0.0057,  0.0929,  0.8590],\n",
      "        [ 0.6834,  0.2500, -0.8676,  ...,  0.3638, -0.9592, -0.2874]])\n"
     ]
    },
    {
     "data": {
      "image/png": "[encoded data removed]",
      "text/plain": [
       "<PIL.Image.Image image mode=L size=28x28 at 0x7FA1C352C0F0>"
      ]
     },
     "metadata": {},
     "output_type": "display_data"
    },
    {
     "name": "stdout",
     "output_type": "stream",
     "text": [
      "tensor([[-1.7695,  1.3036, -0.3248,  ...,  0.8818,  0.2700, -0.1075],\n",
      "        [ 0.7783, -1.3651, -3.6098,  ...,  0.3810,  0.1261, -0.5771],\n",
      "        [-0.4039,  0.7074, -0.9179,  ...,  0.0407,  1.1280,  1.6319],\n",
      "        ...,\n",
      "        [ 0.4112,  0.1363, -0.0239,  ...,  0.2253,  1.0581,  1.2702],\n",
      "        [-0.1693,  0.4575,  0.8334,  ...,  0.4025, -0.1479, -0.1025],\n",
      "        [ 0.3898,  0.4195, -0.5270,  ..., -0.6552, -0.9514, -0.0566]])\n"
     ]
    },
    {
     "data": {
      "image/png": "[encoded data removed]",
      "text/plain": [
       "<PIL.Image.Image image mode=L size=28x28 at 0x7FA1C3546C18>"
      ]
     },
     "metadata": {},
     "output_type": "display_data"
    },
    {
     "name": "stdout",
     "output_type": "stream",
     "text": [
      "tensor([[ 0.5682,  0.3107, -0.2917,  ...,  1.2366, -4.0535, -0.5032],\n",
      "        [-1.0473,  0.1813,  0.3646,  ...,  0.7604,  0.5497,  0.3658],\n",
      "        [-2.1505,  1.0907, -0.5632,  ...,  0.2612,  0.7778,  0.6915],\n",
      "        ...,\n",
      "        [ 0.6481, -0.5147,  0.2510,  ...,  1.1067, -0.0560, -0.6930],\n",
      "        [ 0.4640,  1.1993, -0.1768,  ..., -1.6211, -0.1282,  0.9414],\n",
      "        [ 0.2096, -2.3199, -0.2680,  ..., -0.5911,  1.3585,  1.2243]])\n"
     ]
    },
    {
     "data": {
      "image/png": "[encoded data removed]",
      "text/plain": [
       "<PIL.Image.Image image mode=L size=28x28 at 0x7FA1C3546B38>"
      ]
     },
     "metadata": {},
     "output_type": "display_data"
    },
    {
     "name": "stdout",
     "output_type": "stream",
     "text": [
      "tensor([[ 0.3202, -0.3227,  0.1245,  ...,  0.1211,  0.3218,  0.0343],\n",
      "        [-0.1673, -0.4181,  0.1054,  ...,  0.5522,  0.9549, -0.1406],\n",
      "        [ 0.5458, -1.4159,  0.8478,  ...,  0.4324, -1.3066,  0.5421],\n",
      "        ...,\n",
      "        [-1.1609, -0.2760, -0.0704,  ...,  0.5694,  0.7481,  0.4817],\n",
      "        [ 0.4241,  0.1071,  0.4733,  ...,  0.0307,  0.5588,  0.5414],\n",
      "        [ 1.0139, -1.7159,  0.5269,  ...,  0.7472,  0.3399,  0.7408]])\n"
     ]
    },
    {
     "data": {
      "image/png": "[encoded data removed]",
      "text/plain": [
       "<PIL.Image.Image image mode=L size=28x28 at 0x7FA1C352C2E8>"
      ]
     },
     "metadata": {},
     "output_type": "display_data"
    },
    {
     "name": "stdout",
     "output_type": "stream",
     "text": [
      "tensor([[ 0.2262, -0.0938,  0.2895,  ..., -0.2768, -0.2127,  0.7341],\n",
      "        [ 0.6028,  1.2673,  0.0218,  ...,  0.5862, -0.3599,  0.0798],\n",
      "        [-0.0129,  0.7999,  0.1679,  ..., -1.2632,  2.5905,  2.9960],\n",
      "        ...,\n",
      "        [-0.4992, -0.7363, -2.3460,  ...,  0.4348,  0.8325,  0.5550],\n",
      "        [ 0.5241, -0.0196, -1.2179,  ..., -0.2646, -1.3080, -0.3524],\n",
      "        [ 0.7028,  0.6080,  0.4247,  ..., -1.6284, -5.5884, -0.2502]])\n"
     ]
    },
    {
     "data": {
      "image/png": "[encoded data removed]",
      "text/plain": [
       "<PIL.Image.Image image mode=L size=28x28 at 0x7FA1BDEA3208>"
      ]
     },
     "metadata": {},
     "output_type": "display_data"
    },
    {
     "name": "stdout",
     "output_type": "stream",
     "text": [
      "tensor([[-1.6617, -0.0334,  0.8433,  ...,  1.1980, -0.3613,  0.6922],\n",
      "        [ 0.0854,  1.1962, -0.4154,  ...,  0.2902, -1.2421,  0.3949],\n",
      "        [ 0.1741,  0.2618,  0.4250,  ..., -0.6566,  0.0533, -0.1930],\n",
      "        ...,\n",
      "        [ 0.5960,  0.9059, -0.0212,  ...,  0.9687,  0.8894,  1.2789],\n",
      "        [ 0.4640,  0.8886,  0.5042,  ...,  1.0943,  0.7283,  0.9877],\n",
      "        [-1.6651,  0.8880, -0.3289,  ...,  0.4154,  0.1018,  0.5408]])\n"
     ]
    },
    {
     "data": {
      "image/png": "[encoded data removed]",
      "text/plain": [
       "<PIL.Image.Image image mode=L size=28x28 at 0x7FA1C3546C88>"
      ]
     },
     "metadata": {},
     "output_type": "display_data"
    },
    {
     "name": "stdout",
     "output_type": "stream",
     "text": [
      "tensor([[-1.2939, -0.0995, -0.8447,  ..., -0.0170, -1.0413, -0.3665],\n",
      "        [ 0.5704, -0.9316,  1.3311,  ...,  0.7080, -1.5743, -0.4322],\n",
      "        [ 0.4114, -0.2736, -1.2936,  ...,  1.1672,  0.8681,  1.1969],\n",
      "        ...,\n",
      "        [ 0.6654, -1.8319, -0.4259,  ...,  1.0120,  0.7521,  0.4712],\n",
      "        [ 0.5171,  0.2214, -0.4617,  ..., -0.9000,  0.2913, -1.1392],\n",
      "        [ 0.3814,  0.7358, -0.1558,  ...,  1.1077, -0.0720, -0.6577]])\n"
     ]
    },
    {
     "data": {
      "image/png": "[encoded data removed]",
      "text/plain": [
       "<PIL.Image.Image image mode=L size=28x28 at 0x7FA1C352C390>"
      ]
     },
     "metadata": {},
     "output_type": "display_data"
    },
    {
     "name": "stdout",
     "output_type": "stream",
     "text": [
      "tensor([[-0.3885, -0.6504, -0.2496,  ...,  0.4602, -0.0096, -1.4766],\n",
      "        [-0.9373, -0.4595, -1.2541,  ...,  0.6270, -0.1768,  0.3222],\n",
      "        [ 0.3594, -0.2157, -0.0857,  ...,  0.2956,  0.0989, -0.6500],\n",
      "        ...,\n",
      "        [ 0.0461,  0.6258,  0.5200,  ...,  0.7096,  0.3771,  0.8443],\n",
      "        [ 0.6024, -0.9523,  0.8093,  ...,  0.7492, -1.4842,  0.3381],\n",
      "        [ 0.7167, -0.8673, -0.4892,  ..., -0.1328,  0.4513, -0.0473]])\n"
     ]
    },
    {
     "data": {
      "image/png": "[encoded data removed]",
      "text/plain": [
       "<PIL.Image.Image image mode=L size=28x28 at 0x7FA1C3546C18>"
      ]
     },
     "metadata": {},
     "output_type": "display_data"
    },
    {
     "name": "stdout",
     "output_type": "stream",
     "text": [
      "tensor([[-3.3872,  0.7111,  0.5834,  ..., -3.2780,  0.5484,  0.5025],\n",
      "        [ 0.0578, -1.4938,  0.0278,  ...,  0.1635,  0.5454,  0.7790],\n",
      "        [ 0.3272, -5.2224, -2.9338,  ...,  0.6868,  1.0996,  1.2102],\n",
      "        ...,\n",
      "        [-0.6633,  0.7250,  0.3036,  ...,  1.2405,  1.2499, -0.0737],\n",
      "        [-0.3592,  0.5320, -0.1119,  ..., -0.0778, -1.9166,  0.6590],\n",
      "        [ 0.5681, -0.0716,  0.8764,  ...,  1.1861, -1.7863, -0.6945]])\n"
     ]
    },
    {
     "data": {
      "image/png": "[encoded data removed]",
      "text/plain": [
       "<PIL.Image.Image image mode=L size=28x28 at 0x7FA1C352C0F0>"
      ]
     },
     "metadata": {},
     "output_type": "display_data"
    },
    {
     "name": "stdout",
     "output_type": "stream",
     "text": [
      "tensor([[ 0.3366, -0.5954, -0.5704,  ..., -5.1340,  0.1938, -0.0755],\n",
      "        [ 0.1454,  0.7586,  0.7847,  ...,  0.3402, -0.8400, -1.9578],\n",
      "        [ 0.6294, -0.9787,  0.4845,  ...,  0.9998, -0.6456, -1.0114],\n",
      "        ...,\n",
      "        [ 0.5940,  0.6977, -1.7640,  ...,  0.8075, -0.5347, -0.5092],\n",
      "        [-0.0707,  0.1215, -1.1253,  ...,  0.7008, -0.3578,  0.3502],\n",
      "        [-0.8340,  0.7367,  0.5690,  ..., -2.4027,  0.8094,  1.1794]])\n"
     ]
    },
    {
     "data": {
      "image/png": "[encoded data removed]",
      "text/plain": [
       "<PIL.Image.Image image mode=L size=28x28 at 0x7FA1BDEA34A8>"
      ]
     },
     "metadata": {},
     "output_type": "display_data"
    },
    {
     "name": "stdout",
     "output_type": "stream",
     "text": [
      "tensor([[ 3.4202e-01,  1.0195e+00,  2.8971e-01,  ...,  1.1301e+00,\n",
      "          6.6705e-01,  1.4126e-01],\n",
      "        [-2.0540e+00,  2.7659e-01, -4.1044e-01,  ..., -4.4453e-01,\n",
      "         -1.3910e+00, -1.3114e+00],\n",
      "        [ 4.1526e-01,  3.4055e-01,  1.0749e+00,  ...,  8.2351e-01,\n",
      "         -2.1641e-01, -8.1705e-01],\n",
      "        ...,\n",
      "        [ 1.2403e+00,  1.7855e-01, -3.4297e+00,  ...,  1.0199e+00,\n",
      "         -2.1868e-01, -6.1310e-01],\n",
      "        [-5.8085e-01,  6.4898e-01,  1.1199e+00,  ...,  6.8680e-01,\n",
      "         -2.6027e-01, -8.6615e-01],\n",
      "        [-9.1113e-01, -5.7618e-02, -1.4797e+00,  ..., -1.9737e-03,\n",
      "          2.4707e-01,  2.8185e-01]])\n"
     ]
    },
    {
     "data": {
      "image/png": "[encoded data removed]",
      "text/plain": [
       "<PIL.Image.Image image mode=L size=28x28 at 0x7FA1C3546B38>"
      ]
     },
     "metadata": {},
     "output_type": "display_data"
    },
    {
     "name": "stdout",
     "output_type": "stream",
     "text": [
      "tensor([[-0.6551,  1.0275, -0.2232,  ..., -4.9806, -0.9044, -0.4033],\n",
      "        [-0.0787,  0.7115, -0.3808,  ...,  0.1991,  0.3754, -0.5479],\n",
      "        [ 0.2398, -1.9334, -2.3483,  ...,  0.0165,  1.4006,  1.3138],\n",
      "        ...,\n",
      "        [ 0.6727,  0.8678, -0.7937,  ..., -1.7886,  0.4416,  0.4735],\n",
      "        [ 0.4207,  0.5642, -0.3839,  ...,  0.8040, -1.4879, -1.6366],\n",
      "        [ 0.5127,  1.0597,  0.2113,  ...,  0.2575,  1.0886, -1.2854]])\n"
     ]
    },
    {
     "data": {
      "image/png": "[encoded data removed]",
      "text/plain": [
       "<PIL.Image.Image image mode=L size=28x28 at 0x7FA1C3546C88>"
      ]
     },
     "metadata": {},
     "output_type": "display_data"
    },
    {
     "name": "stdout",
     "output_type": "stream",
     "text": [
      "tensor([[ 0.6539,  0.0611,  0.7178,  ..., -0.9746,  1.6115,  2.1185],\n",
      "        [-0.4513, -0.1225, -1.0349,  ..., -1.1448,  0.4194,  1.6106],\n",
      "        [-1.2952,  1.4397, -1.1482,  ...,  0.9543,  0.6215,  0.5557],\n",
      "        ...,\n",
      "        [ 0.3362, -0.2989,  0.1729,  ...,  0.6974, -0.8929,  0.7439],\n",
      "        [-0.1676, -0.6907,  0.0368,  ...,  0.8729,  0.7819, -1.4938],\n",
      "        [ 0.3765, -0.2836,  0.5630,  ..., -0.2440, -1.0911,  0.6347]])\n"
     ]
    },
    {
     "data": {
      "image/png": "[encoded data removed]",
      "text/plain": [
       "<PIL.Image.Image image mode=L size=28x28 at 0x7FA1C352C390>"
      ]
     },
     "metadata": {},
     "output_type": "display_data"
    },
    {
     "name": "stdout",
     "output_type": "stream",
     "text": [
      "tensor([[-0.1243,  1.0741, -0.6108,  ..., -1.1092,  1.1123,  0.6689],\n",
      "        [-0.8469,  0.1541,  0.5632,  ...,  0.1806, -1.6530, -0.8015],\n",
      "        [-0.0129,  0.7999,  0.1679,  ..., -1.2632,  2.5905,  2.9960],\n",
      "        ...,\n",
      "        [-1.4839,  1.0053,  0.0427,  ..., -2.0051,  0.6212,  0.5756],\n",
      "        [-1.1743,  1.0575, -0.8150,  ...,  0.1169,  0.9042,  0.5489],\n",
      "        [ 0.0815,  0.7066, -0.8715,  ..., -0.7159, -0.9711, -0.4690]])\n"
     ]
    },
    {
     "data": {
      "image/png": "[encoded data removed]",
      "text/plain": [
       "<PIL.Image.Image image mode=L size=28x28 at 0x7FA1C3546C88>"
      ]
     },
     "metadata": {},
     "output_type": "display_data"
    },
    {
     "name": "stdout",
     "output_type": "stream",
     "text": [
      "tensor([[ 0.5818, -0.4074,  1.5155,  ...,  0.9187, -1.0370, -0.6557],\n",
      "        [-2.9819,  1.1014,  0.0248,  ...,  0.4191, -0.0903,  0.6717],\n",
      "        [ 1.0245, -0.3503,  0.2939,  ..., -1.4131,  0.7207,  0.5558],\n",
      "        ...,\n",
      "        [ 0.3291,  0.8917, -0.9205,  ...,  0.2023,  0.0551,  0.7342],\n",
      "        [ 0.3087, -1.0708,  0.5096,  ...,  0.6381,  0.0836, -1.2305],\n",
      "        [ 0.9821,  0.2662, -0.6196,  ...,  0.5536, -0.2810, -0.4285]])\n"
     ]
    },
    {
     "data": {
      "image/png": "[encoded data removed]",
      "text/plain": [
       "<PIL.Image.Image image mode=L size=28x28 at 0x7FA1BDEA3400>"
      ]
     },
     "metadata": {},
     "output_type": "display_data"
    },
    {
     "name": "stdout",
     "output_type": "stream",
     "text": [
      "tensor([[ 0.8909,  0.2825, -0.3483,  ...,  1.2316, -1.6687,  0.3175],\n",
      "        [ 0.3578,  1.1532, -0.6615,  ..., -0.0123,  1.2187,  0.9676],\n",
      "        [ 0.5443,  0.3225, -1.2282,  ...,  1.0607,  0.5776, -0.2003],\n",
      "        ...,\n",
      "        [-0.4406,  0.5932, -1.1513,  ..., -0.1123, -1.2795, -0.2845],\n",
      "        [ 0.5081, -0.5485, -0.3562,  ..., -0.7514, -0.9612, -0.1024],\n",
      "        [ 0.5798,  0.6713, -0.2383,  ...,  1.0759, -3.5432, -0.6523]])\n"
     ]
    },
    {
     "data": {
      "image/png": "[encoded data removed]",
      "text/plain": [
       "<PIL.Image.Image image mode=L size=28x28 at 0x7FA1C352C0F0>"
      ]
     },
     "metadata": {},
     "output_type": "display_data"
    },
    {
     "name": "stdout",
     "output_type": "stream",
     "text": [
      "tensor([[-3.9741,  1.3301,  0.4901,  ..., -1.3201,  0.6618,  0.2019],\n",
      "        [ 0.4397,  0.9307, -1.7894,  ...,  0.2673,  0.4157,  0.5317],\n",
      "        [-0.4992, -0.7363, -2.3460,  ...,  0.4348,  0.8325,  0.5550],\n",
      "        ...,\n",
      "        [ 0.0804,  0.9895,  0.5229,  ...,  0.4434,  0.4968, -0.8243],\n",
      "        [ 0.6049, -3.0988,  0.7517,  ..., -1.8588,  0.3863,  1.1740],\n",
      "        [-0.4047,  0.2526,  1.2496,  ..., -0.3476, -0.6552, -1.3235]])\n"
     ]
    },
    {
     "data": {
      "image/png": "[encoded data removed]",
      "text/plain": [
       "<PIL.Image.Image image mode=L size=28x28 at 0x7FA1C352C4E0>"
      ]
     },
     "metadata": {},
     "output_type": "display_data"
    },
    {
     "name": "stdout",
     "output_type": "stream",
     "text": [
      "tensor([[-2.0670, -0.2832, -0.7137,  ...,  0.7945, -2.0365, -0.1603],\n",
      "        [-0.4188,  0.0368, -2.3583,  ...,  0.1085,  0.8983,  1.0325],\n",
      "        [-1.0285,  1.0049, -0.1883,  ..., -0.9918, -0.1695,  0.2395],\n",
      "        ...,\n",
      "        [-0.5376, -0.3395,  0.2192,  ...,  0.5860, -0.8138,  0.1979],\n",
      "        [ 0.0267, -0.0837,  0.3580,  ..., -0.0680, -0.3057,  0.6299],\n",
      "        [-3.7259,  0.7919,  0.4640,  ..., -0.3635,  0.3191,  0.6208]])\n"
     ]
    },
    {
     "data": {
      "image/png": "[encoded data removed]",
      "text/plain": [
       "<PIL.Image.Image image mode=L size=28x28 at 0x7FA1C352C2E8>"
      ]
     },
     "metadata": {},
     "output_type": "display_data"
    },
    {
     "name": "stdout",
     "output_type": "stream",
     "text": [
      "tensor([[ 0.4877,  0.1464,  0.7952,  ..., -0.2613, -0.7730, -0.9494],\n",
      "        [-0.3277,  0.8399,  0.3582,  ...,  0.8051,  0.2716,  0.0133],\n",
      "        [ 0.6128,  0.3127,  0.6924,  ..., -0.2389, -2.6481,  0.2192],\n",
      "        ...,\n",
      "        [ 0.3634,  0.1436,  0.8072,  ...,  0.5235,  0.2585,  0.3709],\n",
      "        [ 0.7284, -3.2157,  0.5560,  ...,  1.0690, -1.0889, -1.2693],\n",
      "        [ 0.0858, -1.8930,  0.3760,  ...,  0.3309,  0.6770,  0.4526]])\n"
     ]
    },
    {
     "data": {
      "image/png": "[encoded data removed]",
      "text/plain": [
       "<PIL.Image.Image image mode=L size=28x28 at 0x7FA1C3546B38>"
      ]
     },
     "metadata": {},
     "output_type": "display_data"
    },
    {
     "name": "stdout",
     "output_type": "stream",
     "text": [
      "tensor([[ 0.0316,  0.1608, -1.1409,  ...,  0.2849,  0.5477, -0.4579],\n",
      "        [ 0.5237,  0.7221,  0.4687,  ...,  0.7886, -2.5478, -0.8130],\n",
      "        [-0.4621, -4.5163,  0.3978,  ..., -1.6001, -0.0804,  0.8345],\n",
      "        ...,\n",
      "        [ 0.9508, -0.5820,  0.1035,  ...,  0.4785, -1.6554, -1.1860],\n",
      "        [-0.3097,  1.1059,  0.4337,  ...,  1.2485,  0.9480,  1.0086],\n",
      "        [-0.3339, -1.1805,  0.2761,  ...,  0.4647, -1.0018,  0.2429]])\n"
     ]
    },
    {
     "data": {
      "image/png": "[encoded data removed]",
      "text/plain": [
       "<PIL.Image.Image image mode=L size=28x28 at 0x7FA1BDEA3F60>"
      ]
     },
     "metadata": {},
     "output_type": "display_data"
    },
    {
     "name": "stdout",
     "output_type": "stream",
     "text": [
      "tensor([[-0.1036,  0.8150,  0.7914,  ..., -0.2527, -0.4763, -2.5586],\n",
      "        [-0.4442,  1.2450,  0.0132,  ...,  0.6943,  0.7607,  1.0188],\n",
      "        [-0.0751, -3.5819, -1.0834,  ...,  0.4806,  1.1059,  0.2443],\n",
      "        ...,\n",
      "        [-1.4297,  0.0930, -0.3429,  ..., -0.3898, -0.3770, -0.0488],\n",
      "        [ 0.3841, -2.5641,  0.3081,  ...,  0.8293, -1.2515, -0.0662],\n",
      "        [-0.8053, -3.1707, -0.0823,  ...,  1.0567, -0.6540,  0.2776]])\n"
     ]
    },
    {
     "data": {
      "image/png": "[encoded data removed]",
      "text/plain": [
       "<PIL.Image.Image image mode=L size=28x28 at 0x7FA1C352C0F0>"
      ]
     },
     "metadata": {},
     "output_type": "display_data"
    },
    {
     "name": "stdout",
     "output_type": "stream",
     "text": [
      "tensor([[ 0.7319,  0.5192, -0.1953,  ...,  0.7594, -0.3182, -0.4029],\n",
      "        [-0.3868,  0.1184,  0.8990,  ...,  0.7772, -0.7466, -0.3528],\n",
      "        [-2.4668,  0.9959,  1.3840,  ...,  1.2890,  0.3780,  0.2698],\n",
      "        ...,\n",
      "        [-0.0407,  1.0945,  0.3788,  ...,  0.9550,  1.4735,  1.7979],\n",
      "        [ 0.6196,  0.9814,  0.2665,  ..., -0.3306,  1.1040,  1.2300],\n",
      "        [-2.2129,  0.2706,  0.3834,  ..., -1.0949, -0.3251, -1.2633]])\n"
     ]
    },
    {
     "data": {
      "image/png": "[encoded data removed]",
      "text/plain": [
       "<PIL.Image.Image image mode=L size=28x28 at 0x7FA1C352C2E8>"
      ]
     },
     "metadata": {},
     "output_type": "display_data"
    },
    {
     "name": "stdout",
     "output_type": "stream",
     "text": [
      "tensor([[-1.0402,  0.7023,  0.8230,  ...,  0.3269, -0.0074,  0.4804],\n",
      "        [ 0.5475,  0.9194, -1.1658,  ...,  0.0207,  1.0931,  0.9448],\n",
      "        [ 0.0722, -0.6279, -0.7776,  ...,  1.1889,  2.1429,  0.4543],\n",
      "        ...,\n",
      "        [-0.2027,  1.2563,  0.3380,  ..., -0.2903, -1.1806, -2.0999],\n",
      "        [-0.4018,  1.0614, -0.6999,  ...,  0.0270,  0.2057,  0.7673],\n",
      "        [ 0.6683,  1.2072,  0.5082,  ...,  0.5377,  0.4033, -0.8843]])\n"
     ]
    },
    {
     "data": {
      "image/png": "[encoded data removed]",
      "text/plain": [
       "<PIL.Image.Image image mode=L size=28x28 at 0x7FA1C352C390>"
      ]
     },
     "metadata": {},
     "output_type": "display_data"
    },
    {
     "name": "stdout",
     "output_type": "stream",
     "text": [
      "tensor([[ 0.8183, -1.0903, -0.8995,  ...,  0.4628,  0.5650, -1.4161],\n",
      "        [ 0.4322,  0.7029, -1.1755,  ...,  1.1874,  0.5969,  1.2611],\n",
      "        [ 0.8379,  0.9927, -0.7531,  ...,  0.0348,  0.8663,  1.1593],\n",
      "        ...,\n",
      "        [-3.1749,  0.7758, -0.0973,  ...,  0.3885,  0.9078, -3.8915],\n",
      "        [-1.9170,  1.2550,  0.2357,  ..., -0.8669,  1.1208, -0.2287],\n",
      "        [ 0.6797,  0.5504,  0.4624,  ..., -0.4072,  0.5731,  0.9369]])\n"
     ]
    },
    {
     "data": {
      "image/png": "[encoded data removed]",
      "text/plain": [
       "<PIL.Image.Image image mode=L size=28x28 at 0x7FA1C3546C88>"
      ]
     },
     "metadata": {},
     "output_type": "display_data"
    },
    {
     "name": "stdout",
     "output_type": "stream",
     "text": [
      "tensor([[ 0.6529,  0.5156, -0.3587,  ...,  0.7744,  1.0001,  0.2406],\n",
      "        [-0.8695, -0.5166,  0.0871,  ...,  0.9345, -0.2216, -0.1976],\n",
      "        [-0.3361,  0.4998,  0.6913,  ..., -0.6235, -0.5438, -1.9016],\n",
      "        ...,\n",
      "        [ 0.2726,  1.0279,  0.2513,  ...,  0.0871,  0.4451, -0.0995],\n",
      "        [ 0.4701,  0.3165, -0.0222,  ..., -0.8027,  0.4901, -0.2387],\n",
      "        [-1.1976,  0.7452,  0.8821,  ..., -0.5193,  0.4224, -0.4362]])\n"
     ]
    },
    {
     "data": {
      "image/png": "[encoded data removed]",
      "text/plain": [
       "<PIL.Image.Image image mode=L size=28x28 at 0x7FA1BDEA3470>"
      ]
     },
     "metadata": {},
     "output_type": "display_data"
    },
    {
     "name": "stdout",
     "output_type": "stream",
     "text": [
      "tensor([[ 0.3482, -0.4029,  0.4251,  ...,  0.8790,  0.4991,  1.3607],\n",
      "        [ 0.0808, -0.0810, -1.0412,  ...,  0.3182, -0.1381,  0.5781],\n",
      "        [ 1.1869,  0.4936,  0.1880,  ...,  1.0130,  0.0546, -0.9812],\n",
      "        ...,\n",
      "        [ 0.6551,  0.8023, -0.1519,  ...,  0.1174,  2.4303,  2.6948],\n",
      "        [-2.6138,  0.4709, -0.1047,  ...,  0.9934,  0.4039,  0.2817],\n",
      "        [-0.5964,  0.8733,  0.2563,  ...,  0.7805,  0.2307,  0.4454]])\n"
     ]
    },
    {
     "data": {
      "image/png": "[encoded data removed]",
      "text/plain": [
       "<PIL.Image.Image image mode=L size=28x28 at 0x7FA1C352C0F0>"
      ]
     },
     "metadata": {},
     "output_type": "display_data"
    },
    {
     "name": "stdout",
     "output_type": "stream",
     "text": [
      "tensor([[-0.3361,  0.0650, -0.2536,  ..., -0.7211,  0.9969,  1.0193],\n",
      "        [ 0.2376,  1.0900, -0.5436,  ...,  1.1548,  0.9112,  0.8988],\n",
      "        [ 0.9370, -0.1384, -1.7049,  ..., -1.7678,  0.3754,  1.1679],\n",
      "        ...,\n",
      "        [ 0.1345, -0.0368,  0.4210,  ...,  0.9635,  1.0904,  0.9276],\n",
      "        [ 0.1143, -0.6161,  0.3745,  ...,  0.7192,  0.7488,  1.1213],\n",
      "        [ 0.2578,  0.7449,  0.3639,  ...,  0.8686,  0.9170,  0.7776]])\n"
     ]
    },
    {
     "data": {
      "image/png": "[encoded data removed]",
      "text/plain": [
       "<PIL.Image.Image image mode=L size=28x28 at 0x7FA1C352C2E8>"
      ]
     },
     "metadata": {},
     "output_type": "display_data"
    },
    {
     "name": "stdout",
     "output_type": "stream",
     "text": [
      "tensor([[-5.0187e-01,  1.0210e+00,  5.6536e-02,  ...,  3.5541e-01,\n",
      "          4.9734e-01,  7.6175e-01],\n",
      "        [-8.1430e-01,  5.9232e-01, -2.2274e-01,  ...,  1.1184e+00,\n",
      "         -7.6801e-02, -1.5295e+00],\n",
      "        [ 5.4285e-01,  8.2943e-01,  4.6188e-01,  ...,  7.8291e-01,\n",
      "         -9.1110e-01, -2.4996e-01],\n",
      "        ...,\n",
      "        [-3.9336e-01,  1.4649e+00, -1.1136e+00,  ..., -4.0095e+00,\n",
      "          2.6587e-01,  4.6064e-02],\n",
      "        [ 5.9977e-02,  5.9437e-02, -1.6678e+00,  ...,  1.0423e+00,\n",
      "         -9.1824e-01,  1.6193e-04],\n",
      "        [-9.0720e-01,  8.3644e-01,  6.0528e-02,  ...,  6.9045e-01,\n",
      "          1.8373e+00,  1.5733e+00]])\n"
     ]
    },
    {
     "data": {
      "image/png": "[encoded data removed]",
      "text/plain": [
       "<PIL.Image.Image image mode=L size=28x28 at 0x7FA1C352C4E0>"
      ]
     },
     "metadata": {},
     "output_type": "display_data"
    },
    {
     "name": "stdout",
     "output_type": "stream",
     "text": [
      "tensor([[ 0.9031, -0.5161,  0.5080,  ...,  1.1019,  0.4539,  0.6467],\n",
      "        [-0.2789,  1.7253,  0.1173,  ...,  0.9045,  0.4657, -0.5665],\n",
      "        [-0.5191,  0.3164,  0.5375,  ...,  0.3715,  0.2879,  0.0574],\n",
      "        ...,\n",
      "        [-4.4900,  1.3310,  0.3449,  ...,  0.1792,  1.2477,  0.9137],\n",
      "        [-1.3704,  0.9504,  0.4544,  ...,  1.2492, -1.9835, -0.1043],\n",
      "        [ 1.0581, -1.4915,  0.3831,  ..., -0.1290,  1.1320,  0.7773]])\n"
     ]
    },
    {
     "data": {
      "image/png": "[encoded data removed]",
      "text/plain": [
       "<PIL.Image.Image image mode=L size=28x28 at 0x7FA1C3546C88>"
      ]
     },
     "metadata": {},
     "output_type": "display_data"
    },
    {
     "name": "stdout",
     "output_type": "stream",
     "text": [
      "tensor([[ 0.7988,  0.2299,  1.1413,  ...,  0.1814,  0.3991, -0.0115],\n",
      "        [-0.4449,  0.4402, -0.7835,  ...,  1.1468, -1.8823, -0.7398],\n",
      "        [-0.3566,  0.8556, -0.5341,  ...,  0.4905,  0.1426, -1.7202],\n",
      "        ...,\n",
      "        [ 0.7309, -2.6959,  0.9155,  ..., -3.1966,  0.9462,  0.4957],\n",
      "        [-1.1451,  0.2816, -0.1947,  ...,  0.1573, -0.1145, -0.5255],\n",
      "        [-0.6538, -2.5819,  0.1449,  ..., -0.0073,  0.0774, -0.4596]])\n"
     ]
    },
    {
     "data": {
      "image/png": "[encoded data removed]",
      "text/plain": [
       "<PIL.Image.Image image mode=L size=28x28 at 0x7FA1BDEA3358>"
      ]
     },
     "metadata": {},
     "output_type": "display_data"
    },
    {
     "name": "stdout",
     "output_type": "stream",
     "text": [
      "tensor([[ 0.4861,  0.5620,  0.2434,  ...,  0.9667, -1.9943,  0.1040],\n",
      "        [ 0.4666,  0.8462,  0.4371,  ...,  0.4225,  0.0254,  0.0407],\n",
      "        [-1.6149,  0.0956,  0.3078,  ..., -1.1507, -0.6711,  0.3361],\n",
      "        ...,\n",
      "        [-0.1704, -2.7249,  0.0635,  ..., -0.0878, -0.2322,  0.2004],\n",
      "        [ 0.2970,  0.8024, -1.0295,  ..., -0.4885, -2.9161,  0.3286],\n",
      "        [-0.3966, -2.4966, -0.3262,  ...,  0.7625,  0.6741,  0.6129]])\n"
     ]
    },
    {
     "data": {
      "image/png": "[encoded data removed]",
      "text/plain": [
       "<PIL.Image.Image image mode=L size=28x28 at 0x7FA1C352C0F0>"
      ]
     },
     "metadata": {},
     "output_type": "display_data"
    },
    {
     "name": "stdout",
     "output_type": "stream",
     "text": [
      "tensor([[-0.0209,  0.7282,  0.1410,  ...,  1.3503,  0.3370,  0.3908],\n",
      "        [ 0.7281,  0.2621, -0.5008,  ...,  0.1582, -0.3717, -0.3202],\n",
      "        [ 0.4908, -3.7380,  0.0840,  ...,  0.1378,  0.9862, -0.7324],\n",
      "        ...,\n",
      "        [-3.1848, -0.3787,  0.1196,  ...,  0.2401,  0.0759,  1.0212],\n",
      "        [ 0.5002,  0.7238,  0.4278,  ...,  0.0228,  0.9633,  0.6549],\n",
      "        [-0.5681,  0.6784, -3.9645,  ...,  0.6830,  1.3161,  0.4379]])\n"
     ]
    },
    {
     "data": {
      "image/png": "[encoded data removed]",
      "text/plain": [
       "<PIL.Image.Image image mode=L size=28x28 at 0x7FA1C352C4E0>"
      ]
     },
     "metadata": {},
     "output_type": "display_data"
    },
    {
     "name": "stdout",
     "output_type": "stream",
     "text": [
      "tensor([[-0.7870,  0.7725,  0.5635,  ..., -0.3769, -0.4370,  0.6972],\n",
      "        [ 0.5603, -1.2828, -0.2141,  ...,  0.2171, -1.8350,  1.0853],\n",
      "        [ 0.6859,  0.7559,  0.1540,  ...,  0.9540,  1.0406,  0.9831],\n",
      "        ...,\n",
      "        [ 1.0237, -0.8300,  0.4670,  ..., -0.5265,  1.9377,  1.5805],\n",
      "        [-1.3208,  0.7847, -0.7902,  ...,  1.1400,  0.6692,  0.7551],\n",
      "        [-2.4395,  0.4393, -0.5202,  ...,  0.3511,  0.9602,  0.6947]])\n"
     ]
    },
    {
     "data": {
      "image/png": "[encoded data removed]",
      "text/plain": [
       "<PIL.Image.Image image mode=L size=28x28 at 0x7FA1C352C2E8>"
      ]
     },
     "metadata": {},
     "output_type": "display_data"
    },
    {
     "name": "stdout",
     "output_type": "stream",
     "text": [
      "tensor([[ 0.5927,  0.8866,  0.2474,  ...,  0.4549,  0.6693,  0.4599],\n",
      "        [ 0.4524, -1.6238,  0.4544,  ...,  0.5811,  0.5502,  1.0613],\n",
      "        [ 0.3163,  0.0792,  0.6947,  ..., -0.4949, -0.4733, -1.3990],\n",
      "        ...,\n",
      "        [-0.0787,  0.7115, -0.3808,  ...,  0.1991,  0.3754, -0.5479],\n",
      "        [-0.6946,  1.3132, -1.0105,  ...,  0.6186,  1.4719,  0.6014],\n",
      "        [-1.6095,  0.9917,  0.5649,  ...,  0.6885,  0.9964,  1.0974]])\n"
     ]
    },
    {
     "data": {
      "image/png": "[encoded data removed]",
      "text/plain": [
       "<PIL.Image.Image image mode=L size=28x28 at 0x7FA1C3546C18>"
      ]
     },
     "metadata": {},
     "output_type": "display_data"
    },
    {
     "name": "stdout",
     "output_type": "stream",
     "text": [
      "tensor([[-1.6334,  0.6649, -0.0738,  ...,  0.2539,  0.0301, -1.4635],\n",
      "        [ 0.8532,  0.0647,  0.3382,  ...,  0.6023,  1.1989,  1.1300],\n",
      "        [-1.3669,  0.4504, -1.3277,  ...,  0.9723,  0.7823,  1.3924],\n",
      "        ...,\n",
      "        [ 0.3676,  0.5490,  0.7887,  ...,  0.7007,  0.5483,  0.3321],\n",
      "        [ 0.3731,  0.2283, -0.1478,  ..., -0.1870,  1.2183, -0.1414],\n",
      "        [ 0.2874,  0.5809, -0.1146,  ...,  1.1646, -0.3126,  0.1726]])\n"
     ]
    },
    {
     "data": {
      "image/png": "[encoded data removed]",
      "text/plain": [
       "<PIL.Image.Image image mode=L size=28x28 at 0x7FA1BDEA32E8>"
      ]
     },
     "metadata": {},
     "output_type": "display_data"
    },
    {
     "name": "stdout",
     "output_type": "stream",
     "text": [
      "tensor([[ 0.4385,  0.0997, -0.7283,  ...,  0.7487,  0.4834,  0.3713],\n",
      "        [ 0.5533, -0.0058,  0.3240,  ...,  0.2094,  0.5963, -0.5553],\n",
      "        [ 0.2416, -1.3633,  0.8024,  ..., -1.9101,  0.1171,  0.8655],\n",
      "        ...,\n",
      "        [ 1.2839, -0.7707,  0.2165,  ...,  0.2872, -0.3747,  0.8301],\n",
      "        [-0.3271, -0.0610,  0.2996,  ...,  1.5317,  0.4271, -1.1042],\n",
      "        [ 0.3618,  0.8644,  0.8685,  ..., -1.7798,  0.8738,  0.1571]])\n"
     ]
    },
    {
     "data": {
      "image/png": "[encoded data removed]",
      "text/plain": [
       "<PIL.Image.Image image mode=L size=28x28 at 0x7FA1C352C0F0>"
      ]
     },
     "metadata": {},
     "output_type": "display_data"
    },
    {
     "name": "stdout",
     "output_type": "stream",
     "text": [
      "tensor([[ 1.3791,  1.0349, -1.5548,  ...,  0.3269, -0.9150,  0.5554],\n",
      "        [-0.2991, -1.7039,  0.3389,  ...,  0.6032, -0.7326, -1.4313],\n",
      "        [-1.5294,  0.4090,  0.9262,  ...,  0.2491, -0.9035, -0.1312],\n",
      "        ...,\n",
      "        [ 0.3594, -0.2157, -0.0857,  ...,  0.2956,  0.0989, -0.6500],\n",
      "        [-1.2116,  0.6202,  0.6246,  ...,  0.8865,  1.2529,  1.6689],\n",
      "        [ 0.3930,  0.4205,  0.3272,  ..., -0.7168,  0.6203,  1.3587]])\n"
     ]
    },
    {
     "data": {
      "image/png": "[encoded data removed]",
      "text/plain": [
       "<PIL.Image.Image image mode=L size=28x28 at 0x7FA1C352C2E8>"
      ]
     },
     "metadata": {},
     "output_type": "display_data"
    },
    {
     "name": "stdout",
     "output_type": "stream",
     "text": [
      "tensor([[ 0.9561,  1.0042,  0.0760,  ...,  0.4567,  0.6142,  0.9107],\n",
      "        [-1.2758,  0.5484, -3.0164,  ...,  0.5525,  1.2916,  0.9930],\n",
      "        [-0.7574,  0.8809, -1.4810,  ...,  0.0323,  0.3240,  0.0530],\n",
      "        ...,\n",
      "        [-0.3648, -0.7951, -0.1824,  ...,  0.0561,  0.3785,  0.8687],\n",
      "        [-1.5398,  0.8269,  1.1769,  ..., -1.2545, -0.9810, -0.1940],\n",
      "        [ 0.6686, -0.4289,  0.7195,  ...,  0.5297,  0.0494,  0.9709]])\n"
     ]
    },
    {
     "data": {
      "image/png": "[encoded data removed]",
      "text/plain": [
       "<PIL.Image.Image image mode=L size=28x28 at 0x7FA1C352C390>"
      ]
     },
     "metadata": {},
     "output_type": "display_data"
    },
    {
     "name": "stdout",
     "output_type": "stream",
     "text": [
      "tensor([[-1.2267, -0.4938, -0.8772,  ...,  0.3062,  0.2202, -1.0843],\n",
      "        [ 0.8893,  0.6278,  0.3247,  ...,  0.1210, -0.2605,  0.5671],\n",
      "        [-0.7466, -1.2139,  0.5603,  ...,  0.9682, -1.3248,  0.2210],\n",
      "        ...,\n",
      "        [-0.3107, -0.1572, -0.0099,  ..., -0.2928,  1.0798,  1.6403],\n",
      "        [ 0.4751,  0.0510, -0.6690,  ..., -0.2335, -1.0255, -1.1438],\n",
      "        [-0.6238, -0.3804,  1.4120,  ...,  0.9518, -0.9299, -0.5772]])\n"
     ]
    },
    {
     "data": {
      "image/png": "[encoded data removed]",
      "text/plain": [
       "<PIL.Image.Image image mode=L size=28x28 at 0x7FA1C3546C88>"
      ]
     },
     "metadata": {},
     "output_type": "display_data"
    },
    {
     "name": "stdout",
     "output_type": "stream",
     "text": [
      "tensor([[ 0.0850, -0.0353,  0.6430,  ...,  0.7371, -1.2595,  1.0281],\n",
      "        [ 0.5619, -1.3269,  0.5726,  ...,  0.8034,  0.4310,  0.9443],\n",
      "        [ 0.7619,  0.4414,  0.4952,  ..., -0.6178,  0.6791,  0.1251],\n",
      "        ...,\n",
      "        [ 0.8502,  0.8824, -0.0313,  ...,  0.6574, -1.5112,  0.8712],\n",
      "        [ 0.5699,  1.2205,  0.3092,  ...,  0.8089,  0.5230,  0.7161],\n",
      "        [-0.3381,  1.0362, -4.8100,  ..., -2.5703, -0.0625, -0.7958]])\n"
     ]
    },
    {
     "data": {
      "image/png": "[encoded data removed]",
      "text/plain": [
       "<PIL.Image.Image image mode=L size=28x28 at 0x7FA1BDEA33C8>"
      ]
     },
     "metadata": {},
     "output_type": "display_data"
    },
    {
     "name": "stdout",
     "output_type": "stream",
     "text": [
      "tensor([[ 0.3841, -2.5641,  0.3081,  ...,  0.8293, -1.2515, -0.0662],\n",
      "        [-0.0591,  0.6621,  0.4668,  ...,  0.7123,  0.3490, -0.3119],\n",
      "        [-2.7017,  1.3572,  0.1907,  ..., -0.7121,  1.1609,  1.3153],\n",
      "        ...,\n",
      "        [ 0.4680, -0.1762,  0.2715,  ...,  0.8416,  0.7607,  0.5159],\n",
      "        [ 0.2220, -0.2928,  0.4037,  ...,  0.6682, -2.8046,  0.2896],\n",
      "        [ 0.4775,  1.2648, -0.7583,  ..., -2.8049,  0.5403,  0.0135]])\n"
     ]
    },
    {
     "data": {
      "image/png": "[encoded data removed]",
      "text/plain": [
       "<PIL.Image.Image image mode=L size=28x28 at 0x7FA1C352C0F0>"
      ]
     },
     "metadata": {},
     "output_type": "display_data"
    },
    {
     "name": "stdout",
     "output_type": "stream",
     "text": [
      "tensor([[ 0.0754,  0.7095,  0.3629,  ...,  0.4363,  0.5611,  0.8971],\n",
      "        [ 0.0553,  0.9032, -1.6729,  ..., -0.9894,  0.8373,  0.3916],\n",
      "        [ 0.6623,  0.0936,  0.2275,  ..., -1.3915,  0.1162, -0.6419],\n",
      "        ...,\n",
      "        [ 0.5201,  1.3179,  0.4730,  ...,  0.5294,  0.7371,  1.1126],\n",
      "        [ 0.2254,  0.4337,  1.0374,  ...,  0.5318,  0.3092,  0.0659],\n",
      "        [ 0.1402,  0.8333,  0.2527,  ...,  0.5652, -0.1735, -0.1488]])\n"
     ]
    },
    {
     "data": {
      "image/png": "[encoded data removed]",
      "text/plain": [
       "<PIL.Image.Image image mode=L size=28x28 at 0x7FA1C352C390>"
      ]
     },
     "metadata": {},
     "output_type": "display_data"
    },
    {
     "name": "stdout",
     "output_type": "stream",
     "text": [
      "tensor([[-0.4621,  0.6701,  1.1926,  ...,  0.8752, -0.1530,  0.6781],\n",
      "        [-0.0593,  0.9315,  0.3578,  ...,  1.1692, -0.6445,  0.0848],\n",
      "        [-0.9263, -0.0419, -2.8097,  ...,  0.5365,  0.8387,  1.3144],\n",
      "        ...,\n",
      "        [-0.1846, -0.2215,  0.0917,  ...,  0.8345, -1.0090,  0.0691],\n",
      "        [ 0.5860, -1.7115, -0.5432,  ...,  1.3259,  1.2965,  0.9176],\n",
      "        [ 0.3214, -0.2002,  0.4951,  ..., -0.0514, -0.1398,  0.7799]])\n"
     ]
    },
    {
     "data": {
      "image/png": "[encoded data removed]",
      "text/plain": [
       "<PIL.Image.Image image mode=L size=28x28 at 0x7FA1C352C2E8>"
      ]
     },
     "metadata": {},
     "output_type": "display_data"
    },
    {
     "name": "stdout",
     "output_type": "stream",
     "text": [
      "tensor([[-0.7231,  0.1341,  1.2236,  ...,  0.9160, -0.8763,  0.1665],\n",
      "        [-1.3999,  0.0726, -0.4979,  ...,  0.3989, -0.5296,  1.2535],\n",
      "        [-0.3940,  0.7800,  0.6913,  ..., -1.2081,  0.7953,  0.9834],\n",
      "        ...,\n",
      "        [-0.7388,  0.2324,  0.3772,  ..., -0.1688,  0.1991,  0.4346],\n",
      "        [ 0.6430, -0.9344, -0.4602,  ...,  0.6829,  0.4153,  0.4227],\n",
      "        [ 0.2708,  0.5639,  0.2706,  ...,  0.5719,  0.7393,  1.1804]])\n"
     ]
    },
    {
     "data": {
      "image/png": "[encoded data removed]",
      "text/plain": [
       "<PIL.Image.Image image mode=L size=28x28 at 0x7FA1C3546C88>"
      ]
     },
     "metadata": {},
     "output_type": "display_data"
    },
    {
     "name": "stdout",
     "output_type": "stream",
     "text": [
      "tensor([[-0.7669, -1.0323,  0.4352,  ..., -1.2895,  0.8200,  0.5688],\n",
      "        [ 0.8010, -2.5726,  0.7766,  ...,  0.3420, -3.9077, -0.7805],\n",
      "        [-1.8062,  0.2400, -1.1576,  ...,  0.4962, -0.2380, -2.3097],\n",
      "        ...,\n",
      "        [ 0.3263,  0.9601, -1.6583,  ...,  0.6645,  1.1996, -0.2733],\n",
      "        [ 0.3938,  0.2564, -1.2126,  ..., -0.0922, -3.0286, -1.8304],\n",
      "        [-0.2574,  1.1962, -0.6985,  ...,  0.8469,  0.6213,  1.4928]])\n"
     ]
    },
    {
     "data": {
      "image/png": "[encoded data removed]",
      "text/plain": [
       "<PIL.Image.Image image mode=L size=28x28 at 0x7FA1BDEA3588>"
      ]
     },
     "metadata": {},
     "output_type": "display_data"
    },
    {
     "name": "stdout",
     "output_type": "stream",
     "text": [
      "tensor([[ 1.7354e-03,  7.2630e-01,  8.2594e-01,  ..., -6.5969e-01,\n",
      "         -2.4057e-02, -1.2225e+00],\n",
      "        [ 3.6797e-01,  5.6822e-01, -3.0004e-02,  ..., -2.8859e-01,\n",
      "          6.5270e-01, -1.1660e+00],\n",
      "        [-1.8856e+00,  6.2999e-01,  9.4946e-01,  ...,  9.0833e-01,\n",
      "         -1.8754e-01, -4.6273e+00],\n",
      "        ...,\n",
      "        [ 8.3661e-02, -9.0632e-01, -1.1134e+00,  ...,  2.6212e-01,\n",
      "          1.1818e+00,  1.1913e+00],\n",
      "        [ 5.7438e-01,  9.8162e-01, -1.1959e+00,  ...,  4.5957e-01,\n",
      "          6.0257e-01,  4.5135e-01],\n",
      "        [ 7.5254e-01,  8.8673e-01,  4.1848e-02,  ...,  5.3495e-01,\n",
      "         -2.2863e+00,  2.6563e-01]])\n"
     ]
    },
    {
     "data": {
      "image/png": "[encoded data removed]",
      "text/plain": [
       "<PIL.Image.Image image mode=L size=28x28 at 0x7FA1C352C390>"
      ]
     },
     "metadata": {},
     "output_type": "display_data"
    },
    {
     "name": "stdout",
     "output_type": "stream",
     "text": [
      "tensor([[-0.1045, -0.2029, -1.8602,  ..., -0.1118,  1.6104,  0.9372],\n",
      "        [-1.1884,  0.5379,  0.0325,  ...,  0.6959,  0.4034,  1.2758],\n",
      "        [ 0.4510, -0.6884, -0.2799,  ..., -0.5393, -1.5756,  0.6815],\n",
      "        ...,\n",
      "        [-0.3499,  0.6120, -0.1429,  ..., -1.8186, -0.0090,  1.3616],\n",
      "        [ 0.5439, -0.5589, -1.6840,  ...,  1.1807, -0.1911,  0.2890],\n",
      "        [ 0.1152,  0.6020, -0.9255,  ..., -0.8168,  0.4263,  0.1761]])\n"
     ]
    },
    {
     "data": {
      "image/png": "[encoded data removed]",
      "text/plain": [
       "<PIL.Image.Image image mode=L size=28x28 at 0x7FA1C3546C88>"
      ]
     },
     "metadata": {},
     "output_type": "display_data"
    },
    {
     "name": "stdout",
     "output_type": "stream",
     "text": [
      "tensor([[-2.8205, -1.1505, -0.6173,  ...,  0.9759,  0.6326,  0.6733],\n",
      "        [ 0.5805,  0.9552,  0.2144,  ...,  1.0809,  0.8375,  1.1304],\n",
      "        [-0.5761,  0.7690,  0.1061,  ..., -1.2198, -0.9760, -1.2226],\n",
      "        ...,\n",
      "        [ 0.5790,  0.2687,  0.8344,  ...,  0.5122, -0.6734, -0.2749],\n",
      "        [-0.1623,  1.2714,  0.1805,  ...,  0.1303,  1.1919,  1.1954],\n",
      "        [-0.9928,  0.9310,  0.9171,  ...,  0.5445,  1.1287,  0.8220]])\n"
     ]
    },
    {
     "data": {
      "image/png": "[encoded data removed]",
      "text/plain": [
       "<PIL.Image.Image image mode=L size=28x28 at 0x7FA1C3546B38>"
      ]
     },
     "metadata": {},
     "output_type": "display_data"
    },
    {
     "name": "stdout",
     "output_type": "stream",
     "text": [
      "tensor([[ 0.5197,  0.5503,  0.1778,  ...,  0.0101,  0.1247,  1.1635],\n",
      "        [ 0.2672, -0.1444,  0.3648,  ...,  0.8849,  0.2121,  0.3505],\n",
      "        [-3.4909,  0.8949,  0.5611,  ...,  0.3142,  0.3572,  2.1143],\n",
      "        ...,\n",
      "        [-0.5957,  0.3156, -0.3743,  ...,  0.1174, -0.0152, -2.9697],\n",
      "        [ 0.9796,  1.4105,  0.5365,  ..., -0.5994,  1.4157,  0.4927],\n",
      "        [-2.1750, -0.0652,  0.7213,  ..., -0.3866,  0.1435, -0.3671]])\n"
     ]
    },
    {
     "data": {
      "image/png": "[encoded data removed]",
      "text/plain": [
       "<PIL.Image.Image image mode=L size=28x28 at 0x7FA1C352C390>"
      ]
     },
     "metadata": {},
     "output_type": "display_data"
    },
    {
     "name": "stdout",
     "output_type": "stream",
     "text": [
      "tensor([[ 0.1991, -0.5555, -1.2024,  ...,  0.2108,  0.9827,  0.7820],\n",
      "        [-1.4720,  0.1641, -0.3433,  ..., -0.2225, -0.4288,  0.8091],\n",
      "        [ 0.8727,  0.2749, -0.0167,  ..., -1.2834, -0.9856,  0.7724],\n",
      "        ...,\n",
      "        [-1.2352,  0.6589, -0.1791,  ..., -0.4650, -1.0661,  0.4578],\n",
      "        [ 0.8893,  0.6278,  0.3247,  ...,  0.1210, -0.2605,  0.5671],\n",
      "        [ 0.4566,  0.0399, -1.9339,  ..., -0.1247,  0.5676,  0.6661]])\n"
     ]
    },
    {
     "data": {
      "image/png": "[encoded data removed]",
      "text/plain": [
       "<PIL.Image.Image image mode=L size=28x28 at 0x7FA1BDEA3550>"
      ]
     },
     "metadata": {},
     "output_type": "display_data"
    },
    {
     "name": "stdout",
     "output_type": "stream",
     "text": [
      "tensor([[-1.2198,  0.9042, -0.0239,  ...,  0.6409,  0.7338,  1.1627],\n",
      "        [-0.1838,  0.9206,  0.5617,  ...,  0.0174,  1.0004,  0.4314],\n",
      "        [ 0.6928,  0.7720,  0.3772,  ...,  0.0080,  0.7765,  0.4672],\n",
      "        ...,\n",
      "        [ 0.0755, -1.5888,  0.4680,  ...,  0.4779,  1.2996, -0.0797],\n",
      "        [ 0.2044, -2.4923,  0.5474,  ..., -0.4946, -0.2236, -0.4083],\n",
      "        [ 0.5288, -0.3297,  1.3884,  ...,  0.6326, -0.2800, -1.7120]])\n"
     ]
    },
    {
     "data": {
      "image/png": "[encoded data removed]",
      "text/plain": [
       "<PIL.Image.Image image mode=L size=28x28 at 0x7FA1C3546C18>"
      ]
     },
     "metadata": {},
     "output_type": "display_data"
    },
    {
     "name": "stdout",
     "output_type": "stream",
     "text": [
      "tensor([[ 0.5744,  0.9816, -1.1959,  ...,  0.4596,  0.6026,  0.4513],\n",
      "        [ 0.1988,  0.1321,  0.2859,  ...,  0.5518, -0.5162, -0.1298],\n",
      "        [ 0.7768,  0.8507, -0.2303,  ...,  0.4281,  0.9600,  0.7073],\n",
      "        ...,\n",
      "        [-1.5758,  0.3484,  0.5498,  ..., -0.0725,  1.8836,  2.0472],\n",
      "        [-0.2572,  1.3112,  0.0665,  ...,  1.0276, -0.7638, -0.1924],\n",
      "        [-2.4750, -3.0088, -0.9121,  ...,  0.3714, -0.5990,  0.1983]])\n"
     ]
    },
    {
     "data": {
      "image/png": "[encoded data removed]",
      "text/plain": [
       "<PIL.Image.Image image mode=L size=28x28 at 0x7FA1C3546B38>"
      ]
     },
     "metadata": {},
     "output_type": "display_data"
    },
    {
     "name": "stdout",
     "output_type": "stream",
     "text": [
      "tensor([[-0.7129,  0.5966,  0.2624,  ..., -1.0922,  0.4119,  0.4350],\n",
      "        [-0.7671,  0.1490,  1.2636,  ...,  0.7534, -0.5219, -2.2330],\n",
      "        [-0.1954,  0.8127, -1.7446,  ..., -1.9966,  0.2808,  1.1192],\n",
      "        ...,\n",
      "        [-0.2542,  0.3603,  0.2560,  ...,  0.8374, -0.5461,  0.5736],\n",
      "        [ 0.9694,  0.0252, -0.2849,  ...,  1.0464,  0.5464,  0.0954],\n",
      "        [ 0.4443,  0.5138, -0.1780,  ..., -0.9248,  0.5282,  0.9554]])\n"
     ]
    },
    {
     "data": {
      "image/png": "[encoded data removed]",
      "text/plain": [
       "<PIL.Image.Image image mode=L size=28x28 at 0x7FA1C3546C88>"
      ]
     },
     "metadata": {},
     "output_type": "display_data"
    },
    {
     "name": "stdout",
     "output_type": "stream",
     "text": [
      "tensor([[ 0.5348, -0.2240,  0.6187,  ...,  0.8382,  0.2514,  0.3542],\n",
      "        [ 0.4687,  0.9201, -0.3913,  ...,  0.4554, -2.3906,  0.5886],\n",
      "        [-1.2374, -0.0295,  0.2967,  ..., -0.3323,  0.6577,  0.4072],\n",
      "        ...,\n",
      "        [ 0.4225,  0.2522,  0.3518,  ...,  0.7600,  0.7864,  1.1352],\n",
      "        [-1.1241,  0.4960, -0.3147,  ...,  0.6475,  0.7664,  0.5333],\n",
      "        [-0.1049, -2.4244,  0.5253,  ..., -3.1627, -0.6683,  0.8638]])\n"
     ]
    },
    {
     "data": {
      "image/png": "[encoded data removed]",
      "text/plain": [
       "<PIL.Image.Image image mode=L size=28x28 at 0x7FA1C352C2E8>"
      ]
     },
     "metadata": {},
     "output_type": "display_data"
    },
    {
     "name": "stdout",
     "output_type": "stream",
     "text": [
      "tensor([[ 0.4200,  0.6983,  0.1753,  ..., -1.3542, -0.7869,  0.0445],\n",
      "        [-0.0209,  0.9967, -1.1396,  ...,  0.2143,  0.5226,  0.0734],\n",
      "        [-0.9709,  0.7647,  0.2346,  ...,  0.7442, -1.7662,  0.9173],\n",
      "        ...,\n",
      "        [-1.4449, -0.2608,  0.6542,  ..., -2.6775, -0.6992, -1.1606],\n",
      "        [-4.2696,  1.5300, -0.0513,  ...,  0.4697,  2.4807,  2.3838],\n",
      "        [ 0.6892,  0.8161, -1.0775,  ...,  0.1481,  1.3084,  0.5488]])\n"
     ]
    },
    {
     "data": {
      "image/png": "[encoded data removed]",
      "text/plain": [
       "<PIL.Image.Image image mode=L size=28x28 at 0x7FA1BDEA34E0>"
      ]
     },
     "metadata": {},
     "output_type": "display_data"
    },
    {
     "name": "stdout",
     "output_type": "stream",
     "text": [
      "tensor([[ 5.2026e-02,  6.1440e-01,  1.6669e-01,  ...,  4.4709e-01,\n",
      "         -4.0302e-01, -9.5041e-01],\n",
      "        [-1.3370e-01,  2.7570e-01, -5.8337e-01,  ...,  1.1662e+00,\n",
      "         -8.1220e-01, -5.7223e-01],\n",
      "        [ 1.0370e+00,  1.3102e+00, -3.4942e+00,  ...,  1.4674e-01,\n",
      "          1.1869e+00, -1.6498e-01],\n",
      "        ...,\n",
      "        [-1.4260e+00,  4.1357e-01,  5.2537e-01,  ..., -3.7256e-01,\n",
      "          8.2527e-02,  1.6853e+00],\n",
      "        [ 1.0975e-01,  5.6741e-01,  8.1398e-01,  ...,  5.7160e-01,\n",
      "          5.4110e-01,  3.4155e-01],\n",
      "        [ 5.8415e-01,  6.7557e-01, -1.1724e+00,  ...,  8.3335e-01,\n",
      "          2.0343e-01,  1.5682e-03]])\n"
     ]
    },
    {
     "data": {
      "image/png": "[encoded data removed]",
      "text/plain": [
       "<PIL.Image.Image image mode=L size=28x28 at 0x7FA1C3546C18>"
      ]
     },
     "metadata": {},
     "output_type": "display_data"
    },
    {
     "name": "stdout",
     "output_type": "stream",
     "text": [
      "tensor([[-0.1902,  0.9713,  0.1699,  ...,  0.7489,  1.1205,  1.0077],\n",
      "        [ 0.1747,  0.1318, -0.5826,  ...,  0.4187, -0.2134,  0.0374],\n",
      "        [ 0.6987,  0.6154,  0.4811,  ...,  1.0726, -3.4315, -0.4679],\n",
      "        ...,\n",
      "        [-1.2039,  0.1956,  0.2744,  ...,  0.6926,  0.6061,  0.4784],\n",
      "        [-1.1656, -0.8203,  0.6697,  ...,  0.1375,  0.0242,  0.0694],\n",
      "        [-1.4467,  0.9297, -0.6469,  ...,  0.1063, -0.6456, -0.7885]])\n"
     ]
    },
    {
     "data": {
      "image/png": "[encoded data removed]",
      "text/plain": [
       "<PIL.Image.Image image mode=L size=28x28 at 0x7FA1C3546C18>"
      ]
     },
     "metadata": {},
     "output_type": "display_data"
    },
    {
     "name": "stdout",
     "output_type": "stream",
     "text": [
      "tensor([[-2.6390, -2.0656,  0.4967,  ..., -0.2050,  0.5392,  0.3147],\n",
      "        [ 0.2145, -2.6287,  0.2333,  ...,  0.8342,  0.0108, -0.3267],\n",
      "        [ 0.6075,  0.6913,  0.3227,  ...,  0.2298,  0.4770,  0.9516],\n",
      "        ...,\n",
      "        [ 0.2097,  0.5551, -1.2820,  ...,  0.4440,  0.6614,  1.1586],\n",
      "        [-0.5490,  0.9259,  0.1375,  ..., -1.0211,  1.3518,  1.3129],\n",
      "        [-0.2867, -0.4587,  0.2579,  ...,  0.4925,  0.4415,  0.5037]])\n"
     ]
    },
    {
     "data": {
      "image/png": "[encoded data removed]",
      "text/plain": [
       "<PIL.Image.Image image mode=L size=28x28 at 0x7FA1C3546C88>"
      ]
     },
     "metadata": {},
     "output_type": "display_data"
    },
    {
     "name": "stdout",
     "output_type": "stream",
     "text": [
      "tensor([[-0.4202,  0.7715, -0.2148,  ..., -0.1287, -0.9894, -2.5599],\n",
      "        [-0.6567,  0.8644, -1.7695,  ...,  0.5031, -2.2035, -0.7375],\n",
      "        [-2.7858,  0.2500, -0.5080,  ..., -3.1049, -1.5019,  0.6788],\n",
      "        ...,\n",
      "        [ 0.7881, -5.3078, -0.6058,  ..., -0.6658,  0.3441,  0.8658],\n",
      "        [-4.4900,  1.3310,  0.3449,  ...,  0.1792,  1.2477,  0.9137],\n",
      "        [-1.2025, -0.1295, -1.2789,  ...,  0.2106,  0.9232,  0.1374]])\n"
     ]
    },
    {
     "data": {
      "image/png": "[encoded data removed]",
      "text/plain": [
       "<PIL.Image.Image image mode=L size=28x28 at 0x7FA1C352C4E0>"
      ]
     },
     "metadata": {},
     "output_type": "display_data"
    },
    {
     "name": "stdout",
     "output_type": "stream",
     "text": [
      "tensor([[-0.3344,  0.5411,  0.7424,  ..., -1.2149,  0.3188,  0.7139],\n",
      "        [-0.5047, -5.2969, -1.6287,  ..., -0.4960,  0.2835, -1.1512],\n",
      "        [-0.1444,  0.6508, -1.4523,  ...,  1.4469,  0.2719, -0.7412],\n",
      "        ...,\n",
      "        [-0.0399, -2.8253, -0.8020,  ...,  0.1441,  0.8702,  0.4238],\n",
      "        [ 1.0595,  0.1960,  0.9604,  ...,  0.8879, -0.0092, -1.5301],\n",
      "        [-2.0935, -0.2779,  0.2555,  ...,  0.4596,  0.6043,  0.6460]])\n"
     ]
    },
    {
     "data": {
      "image/png": "[encoded data removed]",
      "text/plain": [
       "<PIL.Image.Image image mode=L size=28x28 at 0x7FA1C352C390>"
      ]
     },
     "metadata": {},
     "output_type": "display_data"
    },
    {
     "name": "stdout",
     "output_type": "stream",
     "text": [
      "tensor([[ 0.6876,  1.1682, -1.1656,  ..., -0.3795,  0.8504,  0.6790],\n",
      "        [-0.6358,  0.9586,  0.3592,  ...,  0.7318,  0.4481,  1.1188],\n",
      "        [-0.4288,  0.3588, -1.2894,  ...,  0.3580,  0.3814,  0.2831],\n",
      "        ...,\n",
      "        [ 0.2014, -1.4634, -0.5870,  ..., -2.6287,  0.8099, -0.7625],\n",
      "        [ 0.1451, -3.4198, -0.4272,  ..., -0.8937, -1.4023, -0.0511],\n",
      "        [ 0.4568,  0.6288, -0.5308,  ...,  0.8825,  0.7418,  0.7496]])\n"
     ]
    },
    {
     "data": {
      "image/png": "[encoded data removed]",
      "text/plain": [
       "<PIL.Image.Image image mode=L size=28x28 at 0x7FA1BDEA3668>"
      ]
     },
     "metadata": {},
     "output_type": "display_data"
    },
    {
     "name": "stdout",
     "output_type": "stream",
     "text": [
      "tensor([[ 0.5051, -0.2238, -0.6853,  ..., -1.0678,  0.2767, -0.8639],\n",
      "        [-0.1973,  0.6811, -1.1188,  ..., -0.3844, -1.5138, -0.8667],\n",
      "        [-0.5191,  0.3164,  0.5375,  ...,  0.3715,  0.2879,  0.0574],\n",
      "        ...,\n",
      "        [ 0.5591,  0.8567, -1.1635,  ...,  0.1826,  1.5663,  0.8705],\n",
      "        [ 0.6623,  0.0936,  0.2275,  ..., -1.3915,  0.1162, -0.6419],\n",
      "        [ 0.2657, -2.1517, -0.1073,  ...,  0.3208, -0.6852, -0.1157]])\n"
     ]
    },
    {
     "data": {
      "image/png": "[encoded data removed]",
      "text/plain": [
       "<PIL.Image.Image image mode=L size=28x28 at 0x7FA1C3546C18>"
      ]
     },
     "metadata": {},
     "output_type": "display_data"
    },
    {
     "name": "stdout",
     "output_type": "stream",
     "text": [
      "tensor([[-1.9224,  0.2317, -0.2855,  ..., -2.3462, -2.4368,  0.3997],\n",
      "        [ 0.6665,  1.3192,  0.4919,  ...,  0.2787,  0.9703,  1.4815],\n",
      "        [ 0.5037, -0.9483,  0.3308,  ...,  0.0986, -0.4824,  0.0811],\n",
      "        ...,\n",
      "        [ 0.7304,  0.8290, -0.0064,  ..., -0.9861, -0.5217, -1.1723],\n",
      "        [ 0.3007,  0.7295, -0.7915,  ...,  0.9384,  0.2417,  0.3638],\n",
      "        [ 0.4840,  1.3418, -0.3233,  ..., -0.5593,  1.5827, -0.4848]])\n"
     ]
    },
    {
     "data": {
      "image/png": "[encoded data removed]",
      "text/plain": [
       "<PIL.Image.Image image mode=L size=28x28 at 0x7FA1C3546C88>"
      ]
     },
     "metadata": {},
     "output_type": "display_data"
    },
    {
     "name": "stdout",
     "output_type": "stream",
     "text": [
      "tensor([[-6.2382, -0.2379,  0.3325,  ...,  1.0135,  1.6864,  1.6843],\n",
      "        [ 0.7782,  0.6882, -0.6635,  ...,  0.6987, -0.5970, -0.3846],\n",
      "        [-0.4807, -0.6973, -1.9929,  ...,  0.7832,  0.9877,  0.7617],\n",
      "        ...,\n",
      "        [-0.5771, -1.3234,  0.5204,  ...,  0.2765,  1.1439,  0.6463],\n",
      "        [-1.9849,  0.1410,  0.4921,  ...,  0.9695,  1.1510,  1.1799],\n",
      "        [-0.8996,  1.1779,  0.3927,  ..., -1.0703,  0.5892,  1.2527]])\n"
     ]
    },
    {
     "data": {
      "image/png": "[encoded data removed]",
      "text/plain": [
       "<PIL.Image.Image image mode=L size=28x28 at 0x7FA1C3546B38>"
      ]
     },
     "metadata": {},
     "output_type": "display_data"
    },
    {
     "name": "stdout",
     "output_type": "stream",
     "text": [
      "tensor([[ 0.3051,  0.5671,  0.8631,  ...,  0.2715, -2.2110, -1.3270],\n",
      "        [ 0.9159, -0.1943, -0.0248,  ...,  0.5904, -1.0215, -0.9892],\n",
      "        [-3.7576, -0.2807,  0.3876,  ...,  0.9163, -0.3895, -1.8164],\n",
      "        ...,\n",
      "        [-0.7669, -1.0323,  0.4352,  ..., -1.2895,  0.8200,  0.5688],\n",
      "        [ 1.0879,  0.8331, -0.3493,  ...,  0.5714,  0.3055,  0.1078],\n",
      "        [ 1.1846, -0.4586,  0.4736,  ...,  1.2938,  0.1394, -0.2903]])\n"
     ]
    },
    {
     "data": {
      "image/png": "[encoded data removed]",
      "text/plain": [
       "<PIL.Image.Image image mode=L size=28x28 at 0x7FA1C352C4E0>"
      ]
     },
     "metadata": {},
     "output_type": "display_data"
    },
    {
     "name": "stdout",
     "output_type": "stream",
     "text": [
      "tensor([[ 0.2367,  0.1782,  0.3296,  ..., -0.1498,  1.0470,  0.4738],\n",
      "        [ 0.8600,  0.2442,  0.6297,  ...,  0.3973,  0.3208, -0.3551],\n",
      "        [-0.5834,  0.1032, -0.0722,  ...,  0.6712,  0.7554,  0.7579],\n",
      "        ...,\n",
      "        [-2.5358,  0.9643,  0.3577,  ...,  0.5342,  0.5625, -0.2731],\n",
      "        [ 0.3362, -0.0451, -0.4877,  ..., -1.6258,  0.1593, -0.7126],\n",
      "        [ 0.5603, -1.2828, -0.2141,  ...,  0.2171, -1.8350,  1.0853]])\n"
     ]
    },
    {
     "data": {
      "image/png": "[encoded data removed]",
      "text/plain": [
       "<PIL.Image.Image image mode=L size=28x28 at 0x7FA1BDEA3518>"
      ]
     },
     "metadata": {},
     "output_type": "display_data"
    },
    {
     "name": "stdout",
     "output_type": "stream",
     "text": [
      "tensor([[-0.5796,  0.0867, -0.1742,  ...,  1.0758, -0.7764, -0.4123],\n",
      "        [ 0.3550,  0.5964,  0.7698,  ...,  0.3781,  0.2116, -0.4265],\n",
      "        [-2.0274,  0.2333,  0.5558,  ..., -0.9453, -0.0097,  0.0960],\n",
      "        ...,\n",
      "        [ 0.1115,  0.6872, -0.1065,  ...,  0.5212,  0.0510, -0.1181],\n",
      "        [-0.0513,  0.6078,  0.1858,  ...,  1.1598, -1.0011, -0.7523],\n",
      "        [ 0.5728,  0.2726, -1.8826,  ...,  0.1053, -2.4434, -0.2464]])\n"
     ]
    },
    {
     "data": {
      "image/png": "[encoded data removed]",
      "text/plain": [
       "<PIL.Image.Image image mode=L size=28x28 at 0x7FA1C3546C88>"
      ]
     },
     "metadata": {},
     "output_type": "display_data"
    },
    {
     "name": "stdout",
     "output_type": "stream",
     "text": [
      "tensor([[ 0.4277,  0.6072,  0.0470,  ..., -0.4730,  0.4778,  1.2042],\n",
      "        [ 0.8408,  0.7421, -0.6093,  ...,  1.0523,  0.6007, -1.4241],\n",
      "        [ 0.4047, -1.8787, -0.0480,  ..., -0.2194, -0.0590,  0.2812],\n",
      "        ...,\n",
      "        [ 0.5857,  0.5654,  0.3718,  ..., -0.3877,  0.1971, -0.5357],\n",
      "        [-1.6554,  0.5480,  0.2876,  ...,  0.1184,  0.9285,  1.1286],\n",
      "        [ 0.2286,  1.2378, -0.0352,  ...,  0.2208,  0.2647,  0.4561]])\n"
     ]
    },
    {
     "data": {
      "image/png": "[encoded data removed]",
      "text/plain": [
       "<PIL.Image.Image image mode=L size=28x28 at 0x7FA1C352C0F0>"
      ]
     },
     "metadata": {},
     "output_type": "display_data"
    },
    {
     "name": "stdout",
     "output_type": "stream",
     "text": [
      "tensor([[-8.8271e+00, -1.1713e+00,  5.0595e-01,  ...,  1.0469e+00,\n",
      "         -2.0664e-01, -5.0268e-01],\n",
      "        [ 4.7170e-01,  5.4387e-01,  5.5427e-02,  ...,  1.1856e+00,\n",
      "          1.3999e+00,  1.0757e+00],\n",
      "        [-3.3820e-01, -5.1805e-01,  5.7256e-01,  ...,  7.9425e-01,\n",
      "         -1.5033e+00, -6.3908e-03],\n",
      "        ...,\n",
      "        [-2.8067e+00, -3.7712e-01,  9.6318e-01,  ..., -6.1317e-01,\n",
      "          1.2907e+00,  1.2855e+00],\n",
      "        [ 4.2886e-01, -1.2503e+00, -5.9429e-01,  ...,  9.2866e-01,\n",
      "          1.3182e+00,  1.1839e+00],\n",
      "        [ 1.9364e-01,  5.6489e-01,  3.6038e-01,  ...,  1.1296e+00,\n",
      "          8.4103e-01,  8.4146e-01]])\n"
     ]
    },
    {
     "data": {
      "image/png": "[encoded data removed]",
      "text/plain": [
       "<PIL.Image.Image image mode=L size=28x28 at 0x7FA1C352C390>"
      ]
     },
     "metadata": {},
     "output_type": "display_data"
    },
    {
     "name": "stdout",
     "output_type": "stream",
     "text": [
      "tensor([[-5.5352e-01,  6.7973e-01, -4.2888e-01,  ...,  1.2016e-03,\n",
      "         -9.1377e-01,  3.7232e-01],\n",
      "        [-1.0865e+00,  7.5426e-01, -1.4844e+00,  ...,  1.0945e+00,\n",
      "          1.0206e+00,  6.6546e-01],\n",
      "        [ 5.8529e-01,  6.2004e-01,  5.0032e-01,  ...,  1.4127e+00,\n",
      "          1.0539e+00,  1.3298e+00],\n",
      "        ...,\n",
      "        [ 4.3526e-01,  1.3953e+00,  4.7620e-01,  ..., -4.3300e-01,\n",
      "         -4.7932e-02,  5.3912e-01],\n",
      "        [-1.2002e+00, -2.5234e-01, -1.0038e+00,  ...,  5.7487e-01,\n",
      "         -1.8562e-01, -1.9079e+00],\n",
      "        [-5.7965e-01,  8.6700e-02, -1.7420e-01,  ...,  1.0758e+00,\n",
      "         -7.7641e-01, -4.1225e-01]])\n"
     ]
    },
    {
     "data": {
      "image/png": "[encoded data removed]",
      "text/plain": [
       "<PIL.Image.Image image mode=L size=28x28 at 0x7FA1C3546C88>"
      ]
     },
     "metadata": {},
     "output_type": "display_data"
    },
    {
     "name": "stdout",
     "output_type": "stream",
     "text": [
      "tensor([[-0.6349,  0.9516,  0.4666,  ...,  0.0667,  0.4128, -0.2746],\n",
      "        [ 0.4383, -0.4572,  0.3844,  ...,  0.5953,  0.5902,  0.4538],\n",
      "        [-1.6843, -0.1609,  0.3784,  ...,  0.6306, -0.2371, -0.2579],\n",
      "        ...,\n",
      "        [ 0.4274,  1.2062,  0.1807,  ...,  0.3854,  0.9377,  1.2085],\n",
      "        [ 0.3448,  0.9672,  0.0039,  ..., -1.9616,  1.0038, -0.1796],\n",
      "        [ 0.3066,  0.2178,  0.0424,  ..., -0.1314,  0.9580,  0.0183]])\n"
     ]
    },
    {
     "data": {
      "image/png": "[encoded data removed]",
      "text/plain": [
       "<PIL.Image.Image image mode=L size=28x28 at 0x7FA1BDEA35F8>"
      ]
     },
     "metadata": {},
     "output_type": "display_data"
    },
    {
     "name": "stdout",
     "output_type": "stream",
     "text": [
      "tensor([[ 0.5047, -0.1627, -0.8649,  ...,  0.5285,  0.6724,  0.5143],\n",
      "        [ 0.8694,  0.8282, -0.2799,  ...,  0.3913, -0.4674,  0.6135],\n",
      "        [ 0.0269,  0.6245,  0.4480,  ...,  0.7522, -1.1048, -0.2592],\n",
      "        ...,\n",
      "        [ 1.2983, -0.6849, -0.0832,  ...,  0.8634,  0.0855,  0.0765],\n",
      "        [ 0.5239, -1.0230, -0.5541,  ...,  0.8240,  0.9477,  0.4281],\n",
      "        [ 1.0816,  1.0537, -0.6100,  ..., -0.6766,  0.9055,  0.0975]])\n"
     ]
    },
    {
     "data": {
      "image/png": "[encoded data removed]",
      "text/plain": [
       "<PIL.Image.Image image mode=L size=28x28 at 0x7FA1C352C2E8>"
      ]
     },
     "metadata": {},
     "output_type": "display_data"
    },
    {
     "name": "stdout",
     "output_type": "stream",
     "text": [
      "tensor([[-0.0520,  0.7675,  0.3648,  ..., -0.6059,  1.3716,  1.2934],\n",
      "        [-2.3900, -0.5218,  0.1329,  ..., -2.2541,  0.2729,  1.9007],\n",
      "        [ 0.6523, -1.8613, -2.2903,  ...,  0.8995, -0.9852,  0.0659],\n",
      "        ...,\n",
      "        [-1.2762,  1.0965, -0.3251,  ..., -0.6175,  0.3683, -0.3304],\n",
      "        [-2.1976,  0.7371, -0.1003,  ..., -0.6984,  1.9577,  1.7374],\n",
      "        [ 0.2697,  0.5406, -0.7361,  ...,  0.8042,  0.2350,  0.6167]])\n"
     ]
    },
    {
     "data": {
      "image/png": "[encoded data removed]",
      "text/plain": [
       "<PIL.Image.Image image mode=L size=28x28 at 0x7FA1C352C390>"
      ]
     },
     "metadata": {},
     "output_type": "display_data"
    },
    {
     "name": "stdout",
     "output_type": "stream",
     "text": [
      "tensor([[ 9.1078e-01,  9.1981e-01, -1.7248e+00,  ...,  2.8654e-01,\n",
      "         -2.9258e-01, -9.7179e-01],\n",
      "        [-8.2041e-01,  5.9263e-01, -6.3921e-01,  ...,  6.2472e-01,\n",
      "         -7.1799e-01, -1.0310e+00],\n",
      "        [ 6.7039e-01,  9.1480e-01,  6.1523e-01,  ...,  4.0963e-01,\n",
      "          1.3525e+00,  1.4527e+00],\n",
      "        ...,\n",
      "        [-1.9760e+00,  5.7450e-01,  9.1250e-02,  ..., -7.7161e-01,\n",
      "         -6.1814e-01,  1.7756e-01],\n",
      "        [ 5.4809e-01, -7.8507e-01, -3.6287e-01,  ...,  6.2428e-01,\n",
      "          7.3521e-01,  1.5409e+00],\n",
      "        [ 3.7039e-02, -1.5953e-01,  3.2839e-01,  ...,  1.2395e+00,\n",
      "          1.7335e-03, -3.1440e+00]])\n"
     ]
    },
    {
     "data": {
      "image/png": "[encoded data removed]",
      "text/plain": [
       "<PIL.Image.Image image mode=L size=28x28 at 0x7FA1C352C0F0>"
      ]
     },
     "metadata": {},
     "output_type": "display_data"
    },
    {
     "name": "stdout",
     "output_type": "stream",
     "text": [
      "tensor([[-6.8070e-02,  5.8526e-01,  8.6133e-01,  ...,  8.4272e-02,\n",
      "         -7.5892e-01,  5.2488e-02],\n",
      "        [-1.1324e+00, -6.2756e-01, -1.4219e+00,  ...,  1.2673e+00,\n",
      "          1.9285e-01, -5.2253e-01],\n",
      "        [-1.3251e+00,  4.7880e-01,  4.1367e-01,  ...,  1.0306e+00,\n",
      "         -2.8085e+00, -4.9462e+00],\n",
      "        ...,\n",
      "        [ 4.0835e-01, -5.2582e-01,  1.1767e+00,  ..., -1.2138e+00,\n",
      "          2.3359e-02,  6.5261e-01],\n",
      "        [-4.0789e-01, -9.2080e-01,  1.2316e-01,  ...,  2.7396e-01,\n",
      "          2.2194e-02,  1.4087e+00],\n",
      "        [ 6.9125e-01, -5.6441e-01, -4.4551e-03,  ...,  2.3952e-01,\n",
      "          5.7357e-01,  9.7257e-01]])\n"
     ]
    },
    {
     "data": {
      "image/png": "[encoded data removed]",
      "text/plain": [
       "<PIL.Image.Image image mode=L size=28x28 at 0x7FA1C3546B38>"
      ]
     },
     "metadata": {},
     "output_type": "display_data"
    },
    {
     "name": "stdout",
     "output_type": "stream",
     "text": [
      "tensor([[-0.7218,  1.0436, -0.7314,  ...,  0.8592,  1.3850,  1.2139],\n",
      "        [ 0.0437,  0.9026,  0.0186,  ..., -1.0543,  0.9530,  1.1611],\n",
      "        [ 0.5630,  0.8074, -1.5724,  ...,  0.0168,  1.0673,  0.2767],\n",
      "        ...,\n",
      "        [-1.1862,  0.4011,  0.1017,  ..., -0.3107, -1.5906,  1.0543],\n",
      "        [-0.8252, -0.0108,  0.4815,  ...,  1.2098, -1.1741, -2.5346],\n",
      "        [ 0.4707,  0.3822,  0.8157,  ...,  0.8114, -0.4631, -0.1151]])\n",
      "ones:  0\n",
      "twos:  0\n",
      "zeros:  0\n",
      "sevens:  0\n"
     ]
    }
   ],
   "source": [
    "ones = 0\n",
    "twos = 0\n",
    "zeros = 0\n",
    "sevens = 0\n",
    "for x_ref, x_bias in train:\n",
    "    display(to_img(x[0].reshape(-1, 28, 28)))\n",
    "    print(y)\n",
    "print('ones: ', ones)\n",
    "print('twos: ', twos)\n",
    "print('zeros: ', zeros)\n",
    "print('sevens: ', sevens)"
   ]
  },
  {
   "cell_type": "code",
   "execution_count": null,
   "metadata": {},
   "outputs": [],
   "source": []
  },
  {
   "cell_type": "code",
   "execution_count": null,
   "metadata": {},
   "outputs": [],
   "source": []
  },
  {
   "cell_type": "code",
   "execution_count": 6,
   "metadata": {},
   "outputs": [],
   "source": [
    "from src.classification.dsets.cmnist import *\n",
    "from src.classification.dsets.flipped_mnist import *"
   ]
  },
  {
   "cell_type": "code",
   "execution_count": 7,
   "metadata": {},
   "outputs": [
    {
     "name": "stderr",
     "output_type": "stream",
     "text": [
      "/atlas/u/madeline/miniconda3/envs/fairgen/lib/python3.6/site-packages/torchvision/datasets/mnist.py:55: UserWarning: train_data has been renamed data\n",
      "  warnings.warn(\"train_data has been renamed data\")\n",
      "/atlas/u/madeline/miniconda3/envs/fairgen/lib/python3.6/site-packages/torchvision/datasets/mnist.py:45: UserWarning: train_labels has been renamed targets\n",
      "  warnings.warn(\"train_labels has been renamed targets\")\n"
     ]
    },
    {
     "data": {
      "text/plain": [
       "48000"
      ]
     },
     "execution_count": 7,
     "metadata": {},
     "output_type": "execute_result"
    }
   ],
   "source": [
    "mnist = ourMNIST(config)\n",
    "len(mnist)"
   ]
  },
  {
   "cell_type": "code",
   "execution_count": 8,
   "metadata": {
    "scrolled": false
   },
   "outputs": [],
   "source": [
    "flipped = FlippedMNIST(config)"
   ]
  },
  {
   "cell_type": "code",
   "execution_count": 10,
   "metadata": {
    "scrolled": true
   },
   "outputs": [
    {
     "name": "stdout",
     "output_type": "stream",
     "text": [
      "here\n"
     ]
    },
    {
     "data": {
      "image/png": "[encoded data removed]",
      "text/plain": [
       "<PIL.Image.Image image mode=L size=28x28 at 0x7F17B8882B38>"
      ]
     },
     "metadata": {},
     "output_type": "display_data"
    },
    {
     "name": "stdout",
     "output_type": "stream",
     "text": [
      "here\n"
     ]
    },
    {
     "data": {
      "image/png": "[encoded data removed]",
      "text/plain": [
       "<PIL.Image.Image image mode=L size=28x28 at 0x7F17B8882B38>"
      ]
     },
     "metadata": {},
     "output_type": "display_data"
    },
    {
     "name": "stdout",
     "output_type": "stream",
     "text": [
      "here\n"
     ]
    },
    {
     "data": {
      "image/png": "[encoded data removed]",
      "text/plain": [
       "<PIL.Image.Image image mode=L size=28x28 at 0x7F17B8882B38>"
      ]
     },
     "metadata": {},
     "output_type": "display_data"
    },
    {
     "name": "stdout",
     "output_type": "stream",
     "text": [
      "here\n"
     ]
    },
    {
     "data": {
      "image/png": "[encoded data removed]",
      "text/plain": [
       "<PIL.Image.Image image mode=L size=28x28 at 0x7F17B8882B38>"
      ]
     },
     "metadata": {},
     "output_type": "display_data"
    },
    {
     "name": "stdout",
     "output_type": "stream",
     "text": [
      "here\n"
     ]
    },
    {
     "data": {
      "image/png": "[encoded data removed]",
      "text/plain": [
       "<PIL.Image.Image image mode=L size=28x28 at 0x7F17B8882B38>"
      ]
     },
     "metadata": {},
     "output_type": "display_data"
    },
    {
     "name": "stdout",
     "output_type": "stream",
     "text": [
      "here\n"
     ]
    },
    {
     "data": {
      "image/png": "[encoded data removed]",
      "text/plain": [
       "<PIL.Image.Image image mode=L size=28x28 at 0x7F17B8882B38>"
      ]
     },
     "metadata": {},
     "output_type": "display_data"
    },
    {
     "name": "stdout",
     "output_type": "stream",
     "text": [
      "here\n"
     ]
    },
    {
     "data": {
      "image/png": "[encoded data removed]",
      "text/plain": [
       "<PIL.Image.Image image mode=L size=28x28 at 0x7F17B8882B38>"
      ]
     },
     "metadata": {},
     "output_type": "display_data"
    },
    {
     "name": "stdout",
     "output_type": "stream",
     "text": [
      "here\n"
     ]
    },
    {
     "data": {
      "image/png": "[encoded data removed]",
      "text/plain": [
       "<PIL.Image.Image image mode=L size=28x28 at 0x7F17B87F5DA0>"
      ]
     },
     "metadata": {},
     "output_type": "display_data"
    },
    {
     "name": "stdout",
     "output_type": "stream",
     "text": [
      "here\n"
     ]
    },
    {
     "data": {
      "image/png": "[encoded data removed]",
      "text/plain": [
       "<PIL.Image.Image image mode=L size=28x28 at 0x7F17B8882B38>"
      ]
     },
     "metadata": {},
     "output_type": "display_data"
    },
    {
     "name": "stdout",
     "output_type": "stream",
     "text": [
      "here\n"
     ]
    },
    {
     "data": {
      "image/png": "[encoded data removed]",
      "text/plain": [
       "<PIL.Image.Image image mode=L size=28x28 at 0x7F17B8803748>"
      ]
     },
     "metadata": {},
     "output_type": "display_data"
    },
    {
     "name": "stdout",
     "output_type": "stream",
     "text": [
      "here\n"
     ]
    },
    {
     "data": {
      "image/png": "[encoded data removed]",
      "text/plain": [
       "<PIL.Image.Image image mode=L size=28x28 at 0x7F17B87F5DA0>"
      ]
     },
     "metadata": {},
     "output_type": "display_data"
    },
    {
     "name": "stdout",
     "output_type": "stream",
     "text": [
      "here\n"
     ]
    },
    {
     "data": {
      "image/png": "[encoded data removed]",
      "text/plain": [
       "<PIL.Image.Image image mode=L size=28x28 at 0x7F17B8882B38>"
      ]
     },
     "metadata": {},
     "output_type": "display_data"
    },
    {
     "name": "stdout",
     "output_type": "stream",
     "text": [
      "here\n"
     ]
    },
    {
     "data": {
      "image/png": "[encoded data removed]",
      "text/plain": [
       "<PIL.Image.Image image mode=L size=28x28 at 0x7F17B8803748>"
      ]
     },
     "metadata": {},
     "output_type": "display_data"
    },
    {
     "name": "stdout",
     "output_type": "stream",
     "text": [
      "here\n"
     ]
    },
    {
     "data": {
      "image/png": "[encoded data removed]",
      "text/plain": [
       "<PIL.Image.Image image mode=L size=28x28 at 0x7F17B87F5DA0>"
      ]
     },
     "metadata": {},
     "output_type": "display_data"
    },
    {
     "name": "stdout",
     "output_type": "stream",
     "text": [
      "here\n"
     ]
    },
    {
     "data": {
      "image/png": "[encoded data removed]",
      "text/plain": [
       "<PIL.Image.Image image mode=L size=28x28 at 0x7F17B8882B38>"
      ]
     },
     "metadata": {},
     "output_type": "display_data"
    },
    {
     "name": "stdout",
     "output_type": "stream",
     "text": [
      "here\n"
     ]
    },
    {
     "data": {
      "image/png": "[encoded data removed]",
      "text/plain": [
       "<PIL.Image.Image image mode=L size=28x28 at 0x7F17B8803748>"
      ]
     },
     "metadata": {},
     "output_type": "display_data"
    },
    {
     "name": "stdout",
     "output_type": "stream",
     "text": [
      "here\n"
     ]
    },
    {
     "data": {
      "image/png": "[encoded data removed]",
      "text/plain": [
       "<PIL.Image.Image image mode=L size=28x28 at 0x7F17B87F5DA0>"
      ]
     },
     "metadata": {},
     "output_type": "display_data"
    },
    {
     "name": "stdout",
     "output_type": "stream",
     "text": [
      "here\n"
     ]
    },
    {
     "data": {
      "image/png": "[encoded data removed]",
      "text/plain": [
       "<PIL.Image.Image image mode=L size=28x28 at 0x7F17B8882B38>"
      ]
     },
     "metadata": {},
     "output_type": "display_data"
    },
    {
     "name": "stdout",
     "output_type": "stream",
     "text": [
      "here\n"
     ]
    },
    {
     "data": {
      "image/png": "[encoded data removed]",
      "text/plain": [
       "<PIL.Image.Image image mode=L size=28x28 at 0x7F17B8803748>"
      ]
     },
     "metadata": {},
     "output_type": "display_data"
    },
    {
     "name": "stdout",
     "output_type": "stream",
     "text": [
      "here\n"
     ]
    },
    {
     "data": {
      "image/png": "[encoded data removed]",
      "text/plain": [
       "<PIL.Image.Image image mode=L size=28x28 at 0x7F17B87F5DA0>"
      ]
     },
     "metadata": {},
     "output_type": "display_data"
    },
    {
     "name": "stdout",
     "output_type": "stream",
     "text": [
      "here\n"
     ]
    },
    {
     "data": {
      "image/png": "[encoded data removed]",
      "text/plain": [
       "<PIL.Image.Image image mode=L size=28x28 at 0x7F17B8882B38>"
      ]
     },
     "metadata": {},
     "output_type": "display_data"
    }
   ],
   "source": [
    "for i, (x, _) in enumerate(DataLoader(mnist)):\n",
    "    display(to_img(x[0].reshape(-1, 28, 28)))    \n",
    "    if i == 20:\n",
    "        break"
   ]
  },
  {
   "cell_type": "code",
   "execution_count": 6,
   "metadata": {},
   "outputs": [],
   "source": [
    "from src.flows.datasets.cmnist import *\n",
    "from src.flows.data import fetch_dataloaders"
   ]
  },
  {
   "cell_type": "code",
   "execution_count": 8,
   "metadata": {},
   "outputs": [
    {
     "name": "stderr",
     "output_type": "stream",
     "text": [
      "/atlas/u/madeline/miniconda3/envs/fairgen/lib/python3.6/site-packages/torchvision/datasets/mnist.py:58: UserWarning: train_data has been renamed data\n",
      "  warnings.warn(\"train_data has been renamed data\")\n",
      "/atlas/u/madeline/miniconda3/envs/fairgen/lib/python3.6/site-packages/torchvision/datasets/mnist.py:48: UserWarning: train_labels has been renamed targets\n",
      "  warnings.warn(\"train_labels has been renamed targets\")\n",
      "/atlas/u/madeline/miniconda3/envs/fairgen/lib/python3.6/site-packages/torchvision/datasets/mnist.py:63: UserWarning: test_data has been renamed data\n",
      "  warnings.warn(\"test_data has been renamed data\")\n",
      "/atlas/u/madeline/miniconda3/envs/fairgen/lib/python3.6/site-packages/torchvision/datasets/mnist.py:53: UserWarning: test_labels has been renamed targets\n",
      "  warnings.warn(\"test_labels has been renamed targets\")\n"
     ]
    }
   ],
   "source": [
    "train, val, test = fetch_dataloaders('MNISTSubsets', config.training.batch_size, torch.device('cpu'), args, config)"
   ]
  },
  {
   "cell_type": "code",
   "execution_count": 18,
   "metadata": {
    "scrolled": true
   },
   "outputs": [
    {
     "data": {
      "text/plain": [
       "974"
      ]
     },
     "execution_count": 18,
     "metadata": {},
     "output_type": "execute_result"
    }
   ],
   "source": [
    "flipped = FlippedMNISTSubset(args)\n",
    "len(flipped)"
   ]
  },
  {
   "cell_type": "code",
   "execution_count": 10,
   "metadata": {
    "scrolled": true
   },
   "outputs": [
    {
     "name": "stdout",
     "output_type": "stream",
     "text": [
      "x.shape:  torch.Size([100, 1, 784])\n"
     ]
    },
    {
     "data": {
      "image/png": "[encoded data removed]",
      "text/plain": [
       "<PIL.Image.Image image mode=L size=28x28 at 0x7FF15C2FC898>"
      ]
     },
     "metadata": {},
     "output_type": "display_data"
    },
    {
     "name": "stdout",
     "output_type": "stream",
     "text": [
      "x.shape:  torch.Size([100, 1, 784])\n"
     ]
    },
    {
     "data": {
      "image/png": "[encoded data removed]",
      "text/plain": [
       "<PIL.Image.Image image mode=L size=28x28 at 0x7FF15C2FC400>"
      ]
     },
     "metadata": {},
     "output_type": "display_data"
    },
    {
     "name": "stdout",
     "output_type": "stream",
     "text": [
      "x.shape:  torch.Size([100, 1, 784])\n"
     ]
    },
    {
     "data": {
      "image/png": "[encoded data removed]",
      "text/plain": [
       "<PIL.Image.Image image mode=L size=28x28 at 0x7FF15C2FC780>"
      ]
     },
     "metadata": {},
     "output_type": "display_data"
    },
    {
     "name": "stdout",
     "output_type": "stream",
     "text": [
      "x.shape:  torch.Size([100, 1, 784])\n"
     ]
    },
    {
     "data": {
      "image/png": "[encoded data removed]",
      "text/plain": [
       "<PIL.Image.Image image mode=L size=28x28 at 0x7FF15C2FC710>"
      ]
     },
     "metadata": {},
     "output_type": "display_data"
    },
    {
     "name": "stdout",
     "output_type": "stream",
     "text": [
      "x.shape:  torch.Size([100, 1, 784])\n"
     ]
    },
    {
     "data": {
      "image/png": "[encoded data removed]",
      "text/plain": [
       "<PIL.Image.Image image mode=L size=28x28 at 0x7FF15C2FC400>"
      ]
     },
     "metadata": {},
     "output_type": "display_data"
    },
    {
     "name": "stdout",
     "output_type": "stream",
     "text": [
      "x.shape:  torch.Size([100, 1, 784])\n"
     ]
    },
    {
     "data": {
      "image/png": "[encoded data removed]",
      "text/plain": [
       "<PIL.Image.Image image mode=L size=28x28 at 0x7FF15C2FC8D0>"
      ]
     },
     "metadata": {},
     "output_type": "display_data"
    },
    {
     "name": "stdout",
     "output_type": "stream",
     "text": [
      "x.shape:  torch.Size([100, 1, 784])\n"
     ]
    },
    {
     "data": {
      "image/png": "[encoded data removed]",
      "text/plain": [
       "<PIL.Image.Image image mode=L size=28x28 at 0x7FF15C2FC710>"
      ]
     },
     "metadata": {},
     "output_type": "display_data"
    },
    {
     "name": "stdout",
     "output_type": "stream",
     "text": [
      "x.shape:  torch.Size([100, 1, 784])\n"
     ]
    },
    {
     "data": {
      "image/png": "[encoded data removed]",
      "text/plain": [
       "<PIL.Image.Image image mode=L size=28x28 at 0x7FF15C2FC908>"
      ]
     },
     "metadata": {},
     "output_type": "display_data"
    },
    {
     "name": "stdout",
     "output_type": "stream",
     "text": [
      "x.shape:  torch.Size([100, 1, 784])\n"
     ]
    },
    {
     "data": {
      "image/png": "[encoded data removed]",
      "text/plain": [
       "<PIL.Image.Image image mode=L size=28x28 at 0x7FF15C2FC8D0>"
      ]
     },
     "metadata": {},
     "output_type": "display_data"
    },
    {
     "name": "stdout",
     "output_type": "stream",
     "text": [
      "x.shape:  torch.Size([100, 1, 784])\n"
     ]
    },
    {
     "data": {
      "image/png": "[encoded data removed]",
      "text/plain": [
       "<PIL.Image.Image image mode=L size=28x28 at 0x7FF15C2FC940>"
      ]
     },
     "metadata": {},
     "output_type": "display_data"
    },
    {
     "name": "stdout",
     "output_type": "stream",
     "text": [
      "x.shape:  torch.Size([100, 1, 784])\n"
     ]
    },
    {
     "data": {
      "image/png": "[encoded data removed]",
      "text/plain": [
       "<PIL.Image.Image image mode=L size=28x28 at 0x7FF15C2FC908>"
      ]
     },
     "metadata": {},
     "output_type": "display_data"
    },
    {
     "name": "stdout",
     "output_type": "stream",
     "text": [
      "x.shape:  torch.Size([100, 1, 784])\n"
     ]
    },
    {
     "data": {
      "image/png": "[encoded data removed]",
      "text/plain": [
       "<PIL.Image.Image image mode=L size=28x28 at 0x7FF15C2FC978>"
      ]
     },
     "metadata": {},
     "output_type": "display_data"
    },
    {
     "name": "stdout",
     "output_type": "stream",
     "text": [
      "x.shape:  torch.Size([100, 1, 784])\n"
     ]
    },
    {
     "data": {
      "image/png": "[encoded data removed]",
      "text/plain": [
       "<PIL.Image.Image image mode=L size=28x28 at 0x7FF15C2FC940>"
      ]
     },
     "metadata": {},
     "output_type": "display_data"
    },
    {
     "name": "stdout",
     "output_type": "stream",
     "text": [
      "x.shape:  torch.Size([100, 1, 784])\n"
     ]
    },
    {
     "data": {
      "image/png": "[encoded data removed]",
      "text/plain": [
       "<PIL.Image.Image image mode=L size=28x28 at 0x7FF15C2FC9B0>"
      ]
     },
     "metadata": {},
     "output_type": "display_data"
    },
    {
     "name": "stdout",
     "output_type": "stream",
     "text": [
      "x.shape:  torch.Size([100, 1, 784])\n"
     ]
    },
    {
     "data": {
      "image/png": "[encoded data removed]",
      "text/plain": [
       "<PIL.Image.Image image mode=L size=28x28 at 0x7FF15C2FC978>"
      ]
     },
     "metadata": {},
     "output_type": "display_data"
    },
    {
     "name": "stdout",
     "output_type": "stream",
     "text": [
      "x.shape:  torch.Size([100, 1, 784])\n"
     ]
    },
    {
     "data": {
      "image/png": "[encoded data removed]",
      "text/plain": [
       "<PIL.Image.Image image mode=L size=28x28 at 0x7FF15C2FC9E8>"
      ]
     },
     "metadata": {},
     "output_type": "display_data"
    },
    {
     "name": "stdout",
     "output_type": "stream",
     "text": [
      "x.shape:  torch.Size([100, 1, 784])\n"
     ]
    },
    {
     "data": {
      "image/png": "[encoded data removed]",
      "text/plain": [
       "<PIL.Image.Image image mode=L size=28x28 at 0x7FF15C2FC9B0>"
      ]
     },
     "metadata": {},
     "output_type": "display_data"
    },
    {
     "name": "stdout",
     "output_type": "stream",
     "text": [
      "x.shape:  torch.Size([100, 1, 784])\n"
     ]
    },
    {
     "data": {
      "image/png": "[encoded data removed]",
      "text/plain": [
       "<PIL.Image.Image image mode=L size=28x28 at 0x7FF15C2FCA20>"
      ]
     },
     "metadata": {},
     "output_type": "display_data"
    },
    {
     "name": "stdout",
     "output_type": "stream",
     "text": [
      "x.shape:  torch.Size([100, 1, 784])\n"
     ]
    },
    {
     "data": {
      "image/png": "[encoded data removed]",
      "text/plain": [
       "<PIL.Image.Image image mode=L size=28x28 at 0x7FF15C2FC9E8>"
      ]
     },
     "metadata": {},
     "output_type": "display_data"
    },
    {
     "name": "stdout",
     "output_type": "stream",
     "text": [
      "x.shape:  torch.Size([100, 1, 784])\n"
     ]
    },
    {
     "data": {
      "image/png": "[encoded data removed]",
      "text/plain": [
       "<PIL.Image.Image image mode=L size=28x28 at 0x7FF15C2FCA58>"
      ]
     },
     "metadata": {},
     "output_type": "display_data"
    },
    {
     "name": "stdout",
     "output_type": "stream",
     "text": [
      "x.shape:  torch.Size([100, 1, 784])\n"
     ]
    },
    {
     "data": {
      "image/png": "[encoded data removed]",
      "text/plain": [
       "<PIL.Image.Image image mode=L size=28x28 at 0x7FF15C2FCA20>"
      ]
     },
     "metadata": {},
     "output_type": "display_data"
    }
   ],
   "source": [
    "for i, (x, _) in enumerate(train):\n",
    "    print('x.shape: ', x.shape)\n",
    "    display(to_img(x[0].reshape(-1, 28, 28)))\n",
    "    if i == 20:\n",
    "        break"
   ]
  },
  {
   "cell_type": "code",
   "execution_count": null,
   "metadata": {},
   "outputs": [],
   "source": []
  }
 ],
 "metadata": {
  "kernelspec": {
   "display_name": "Python 3",
   "language": "python",
   "name": "python3"
  },
  "language_info": {
   "codemirror_mode": {
    "name": "ipython",
    "version": 3
   },
   "file_extension": ".py",
   "mimetype": "text/x-python",
   "name": "python",
   "nbconvert_exporter": "python",
   "pygments_lexer": "ipython3",
   "version": "3.6.4"
  }
 },
 "nbformat": 4,
 "nbformat_minor": 4
}
